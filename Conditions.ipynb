{
 "cells": [
  {
   "cell_type": "code",
   "execution_count": 13,
   "id": "e1c5c6d6",
   "metadata": {},
   "outputs": [
    {
     "name": "stdout",
     "output_type": "stream",
     "text": [
      "this is not a valid statement\n"
     ]
    }
   ],
   "source": [
    "a == 10\n",
    "b == 20\n",
    "if a==10 and b ==20:\n",
    "    print(\"this is a valid statement\")\n",
    "elif a ==10 and b<=20:\n",
    "    print(\"this is not a valid statement\")"
   ]
  },
  {
   "cell_type": "markdown",
   "id": "fa0af254",
   "metadata": {},
   "source": [
    "# And Condition"
   ]
  },
  {
   "cell_type": "code",
   "execution_count": 14,
   "id": "cd8413b1",
   "metadata": {},
   "outputs": [
    {
     "name": "stdout",
     "output_type": "stream",
     "text": [
      "type the first name - vivek\n",
      "type the last name - balodi\n",
      "You guess the correct name - Vivek Balodi\n"
     ]
    }
   ],
   "source": [
    "c = \"vivek\"\n",
    "d = \"balodi\"\n",
    "a = input(\"type the first name - \")\n",
    "b = input(\"type the last name - \")\n",
    "if a==c and b ==d:\n",
    "    print(\"You guess the correct name - Vivek Balodi\")\n",
    "elif a==d and b==c:\n",
    "    print(\"You guess little wrong here- balodi vivek\")\n",
    "else:\n",
    "    print(\"try next time bro!\")"
   ]
  },
  {
   "cell_type": "markdown",
   "id": "40b98076",
   "metadata": {},
   "source": [
    "# Or condition"
   ]
  },
  {
   "cell_type": "code",
   "execution_count": 11,
   "id": "aa8effcc",
   "metadata": {},
   "outputs": [
    {
     "name": "stdout",
     "output_type": "stream",
     "text": [
      "okay! one condition is write\n"
     ]
    }
   ],
   "source": [
    "a = 10\n",
    "b = 15\n",
    "if a==10 or b==12:\n",
    "    print(\"okay! one condition is write\")\n",
    "elif a==15 or b==10:\n",
    "    print(\"something wrong\")\n",
    "else:\n",
    "    print(\"okay\")"
   ]
  },
  {
   "cell_type": "code",
   "execution_count": 12,
   "id": "6cb71374",
   "metadata": {},
   "outputs": [
    {
     "name": "stdout",
     "output_type": "stream",
     "text": [
      "this is valid\n"
     ]
    }
   ],
   "source": [
    "if a ==10: print(\"this is valid\") #writing statement in a single line"
   ]
  },
  {
   "cell_type": "markdown",
   "id": "401792fe",
   "metadata": {},
   "source": [
    "# While statement"
   ]
  },
  {
   "cell_type": "code",
   "execution_count": 3,
   "id": "a610296b",
   "metadata": {},
   "outputs": [
    {
     "name": "stdout",
     "output_type": "stream",
     "text": [
      "This is my speed\n",
      "This is my speed\n",
      "This is my speed\n",
      "This is my speed\n",
      "This is my speed\n",
      "This is my speed\n",
      "This is my speed\n",
      "This is my speed\n",
      "This is my speed\n",
      "This is my speed\n"
     ]
    }
   ],
   "source": [
    "initial_speed =0\n",
    "final_speed = 100\n",
    "count = 0\n",
    "while initial_speed < final_speed:\n",
    "    print(\"This is my speed\")\n",
    "    count = count+1\n",
    "    if count ==10:\n",
    "        break"
   ]
  },
  {
   "cell_type": "code",
   "execution_count": 1,
   "id": "f498817f",
   "metadata": {},
   "outputs": [
    {
     "name": "stdout",
     "output_type": "stream",
     "text": [
      "1\n",
      "2\n",
      "3\n",
      "4\n"
     ]
    }
   ],
   "source": [
    "i =1\n",
    "j = 5\n",
    "while i <j:\n",
    "    print(i)\n",
    "    i = i+1"
   ]
  },
  {
   "cell_type": "code",
   "execution_count": null,
   "id": "93c7cba5",
   "metadata": {},
   "outputs": [],
   "source": []
  }
 ],
 "metadata": {
  "kernelspec": {
   "display_name": "Python 3 (ipykernel)",
   "language": "python",
   "name": "python3"
  },
  "language_info": {
   "codemirror_mode": {
    "name": "ipython",
    "version": 3
   },
   "file_extension": ".py",
   "mimetype": "text/x-python",
   "name": "python",
   "nbconvert_exporter": "python",
   "pygments_lexer": "ipython3",
   "version": "3.9.7"
  }
 },
 "nbformat": 4,
 "nbformat_minor": 5
}
