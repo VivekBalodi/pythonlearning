{
 "cells": [
  {
   "cell_type": "code",
   "execution_count": 1,
   "id": "c03ea644",
   "metadata": {},
   "outputs": [],
   "source": [
    "t = ()"
   ]
  },
  {
   "cell_type": "code",
   "execution_count": 2,
   "id": "cb03466f",
   "metadata": {},
   "outputs": [
    {
     "data": {
      "text/plain": [
       "tuple"
      ]
     },
     "execution_count": 2,
     "metadata": {},
     "output_type": "execute_result"
    }
   ],
   "source": [
    "type(t)"
   ]
  },
  {
   "cell_type": "code",
   "execution_count": 1,
   "id": "5f0352bb",
   "metadata": {},
   "outputs": [],
   "source": [
    "# tuples  are immutable (An immutable object is an object whose value cannot change.)"
   ]
  },
  {
   "cell_type": "code",
   "execution_count": null,
   "id": "6e3c0c44",
   "metadata": {},
   "outputs": [],
   "source": [
    "# you can perform all the task with tuple as you were able to perform with list, just you can't edit, as tuples are immutables."
   ]
  },
  {
   "cell_type": "code",
   "execution_count": 6,
   "id": "58d58456",
   "metadata": {},
   "outputs": [],
   "source": [
    "t = (\"1243\", \"12122\",\"23424\")"
   ]
  },
  {
   "cell_type": "code",
   "execution_count": 7,
   "id": "a8129d1e",
   "metadata": {},
   "outputs": [
    {
     "data": {
      "text/plain": [
       "tuple"
      ]
     },
     "execution_count": 7,
     "metadata": {},
     "output_type": "execute_result"
    }
   ],
   "source": [
    "type(t)"
   ]
  },
  {
   "cell_type": "code",
   "execution_count": 8,
   "id": "54f5fc04",
   "metadata": {},
   "outputs": [],
   "source": [
    "# in list we use [] , and in type we use ()"
   ]
  },
  {
   "cell_type": "code",
   "execution_count": 10,
   "id": "271581d0",
   "metadata": {},
   "outputs": [],
   "source": [
    "t = (\"12\",\"234\",\"232\",232, \"hello\")"
   ]
  },
  {
   "cell_type": "code",
   "execution_count": 12,
   "id": "e37688f2",
   "metadata": {},
   "outputs": [
    {
     "data": {
      "text/plain": [
       "'232'"
      ]
     },
     "execution_count": 12,
     "metadata": {},
     "output_type": "execute_result"
    }
   ],
   "source": [
    "t[2]   #this is how you get index from a tuple."
   ]
  },
  {
   "cell_type": "code",
   "execution_count": 15,
   "id": "399b4a50",
   "metadata": {},
   "outputs": [],
   "source": [
    "t2 = (\"12312\",23232,2342,\"vivek\")"
   ]
  },
  {
   "cell_type": "code",
   "execution_count": 16,
   "id": "4686518f",
   "metadata": {},
   "outputs": [
    {
     "data": {
      "text/plain": [
       "('12312', 23232, 2342, 'vivek')"
      ]
     },
     "execution_count": 16,
     "metadata": {},
     "output_type": "execute_result"
    }
   ],
   "source": [
    "t2"
   ]
  },
  {
   "cell_type": "code",
   "execution_count": 21,
   "id": "376fb5a8",
   "metadata": {},
   "outputs": [
    {
     "data": {
      "text/plain": [
       "('12', '234', '232', 232, 'hello', '12312', 23232, 2342, 'vivek')"
      ]
     },
     "execution_count": 21,
     "metadata": {},
     "output_type": "execute_result"
    }
   ],
   "source": [
    "t + t2  #(you can add two tuple or you can append) --\n",
    "#notes --> you can't change index, but you can append tuple, \n",
    "#appending is not comes in the immutable and mutable options"
   ]
  },
  {
   "cell_type": "code",
   "execution_count": 22,
   "id": "749bbe15",
   "metadata": {},
   "outputs": [],
   "source": [
    "###################################### **********tuple and set**************************************"
   ]
  },
  {
   "cell_type": "code",
   "execution_count": 23,
   "id": "b751f325",
   "metadata": {},
   "outputs": [],
   "source": [
    "x = set()  "
   ]
  },
  {
   "cell_type": "code",
   "execution_count": 24,
   "id": "a2369207",
   "metadata": {},
   "outputs": [
    {
     "data": {
      "text/plain": [
       "set"
      ]
     },
     "execution_count": 24,
     "metadata": {},
     "output_type": "execute_result"
    }
   ],
   "source": [
    "type(x)"
   ]
  },
  {
   "cell_type": "code",
   "execution_count": 35,
   "id": "c05075ea",
   "metadata": {},
   "outputs": [],
   "source": [
    "t4 = (121,3232,12,121,23,23,12,42,12,31, \"vivek\", \"Vivek\")"
   ]
  },
  {
   "cell_type": "code",
   "execution_count": 30,
   "id": "f898bc01",
   "metadata": {},
   "outputs": [
    {
     "data": {
      "text/plain": [
       "tuple"
      ]
     },
     "execution_count": 30,
     "metadata": {},
     "output_type": "execute_result"
    }
   ],
   "source": [
    "type(t4)"
   ]
  },
  {
   "cell_type": "code",
   "execution_count": 31,
   "id": "a8c852ef",
   "metadata": {},
   "outputs": [],
   "source": [
    "# here i have t4(tuple) if you want to remove all dublicate value from here and wants to keep only unique value than you can \n",
    "# write a code and using for loops and other things and can remove all the duplicate element. but if you just convert in set\n",
    "# you will be achieve this\n"
   ]
  },
  {
   "cell_type": "code",
   "execution_count": 36,
   "id": "09761996",
   "metadata": {},
   "outputs": [
    {
     "data": {
      "text/plain": [
       "(121, 3232, 12, 121, 23, 23, 12, 42, 12, 31, 'vivek', 'Vivek')"
      ]
     },
     "execution_count": 36,
     "metadata": {},
     "output_type": "execute_result"
    }
   ],
   "source": [
    "t4"
   ]
  },
  {
   "cell_type": "code",
   "execution_count": 37,
   "id": "68063f2c",
   "metadata": {},
   "outputs": [
    {
     "data": {
      "text/plain": [
       "{12, 121, 23, 31, 3232, 42, 'Vivek', 'vivek'}"
      ]
     },
     "execution_count": 37,
     "metadata": {},
     "output_type": "execute_result"
    }
   ],
   "source": [
    "set(t4)  # here just two word code and you can remove all the duplicate elements. (we are converting tuple in set.)\n",
    "               # set is case sensitive, before using set, make sure you convert tuple in upper or lower case."
   ]
  },
  {
   "cell_type": "code",
   "execution_count": 38,
   "id": "47356d3f",
   "metadata": {},
   "outputs": [],
   "source": [
    "s = set(t4)"
   ]
  },
  {
   "cell_type": "code",
   "execution_count": 39,
   "id": "57fa24d3",
   "metadata": {},
   "outputs": [
    {
     "data": {
      "text/plain": [
       "{12, 121, 23, 31, 3232, 42, 'Vivek', 'vivek'}"
      ]
     },
     "execution_count": 39,
     "metadata": {},
     "output_type": "execute_result"
    }
   ],
   "source": [
    "s"
   ]
  },
  {
   "cell_type": "code",
   "execution_count": 40,
   "id": "cab8a91a",
   "metadata": {},
   "outputs": [
    {
     "name": "stdout",
     "output_type": "stream",
     "text": [
      "3232\n",
      "vivek\n",
      "42\n",
      "12\n",
      "Vivek\n",
      "23\n",
      "121\n",
      "31\n"
     ]
    }
   ],
   "source": [
    "for i in s:\n",
    "    print(i)"
   ]
  },
  {
   "cell_type": "code",
   "execution_count": 41,
   "id": "a5bb9ebd",
   "metadata": {},
   "outputs": [
    {
     "ename": "TypeError",
     "evalue": "'set' object is not subscriptable",
     "output_type": "error",
     "traceback": [
      "\u001b[1;31m---------------------------------------------------------------------------\u001b[0m",
      "\u001b[1;31mTypeError\u001b[0m                                 Traceback (most recent call last)",
      "\u001b[1;32mC:\\Users\\VIVEKB~1\\AppData\\Local\\Temp/ipykernel_21092/3172538273.py\u001b[0m in \u001b[0;36m<module>\u001b[1;34m\u001b[0m\n\u001b[1;32m----> 1\u001b[1;33m \u001b[0ms\u001b[0m\u001b[1;33m[\u001b[0m\u001b[1;36m3\u001b[0m\u001b[1;33m]\u001b[0m\u001b[1;33m\u001b[0m\u001b[1;33m\u001b[0m\u001b[0m\n\u001b[0m",
      "\u001b[1;31mTypeError\u001b[0m: 'set' object is not subscriptable"
     ]
    }
   ],
   "source": [
    "s[3]    # you can't perform indexing operation in case of set, and rest of other operation you can performs."
   ]
  },
  {
   "cell_type": "code",
   "execution_count": 42,
   "id": "edb3792c",
   "metadata": {},
   "outputs": [],
   "source": [
    "# Build an unordered collection of unique elements. # set will give you error when you try to add nested list. "
   ]
  },
  {
   "cell_type": "code",
   "execution_count": 43,
   "id": "56eca475",
   "metadata": {},
   "outputs": [],
   "source": [
    "s = set()"
   ]
  },
  {
   "cell_type": "code",
   "execution_count": 46,
   "id": "b3538815",
   "metadata": {},
   "outputs": [],
   "source": [
    "s.add(\"vivek\")"
   ]
  },
  {
   "cell_type": "code",
   "execution_count": 47,
   "id": "e5a8791f",
   "metadata": {},
   "outputs": [],
   "source": [
    "s.add(45)"
   ]
  },
  {
   "cell_type": "code",
   "execution_count": 45,
   "id": "3e2f0482",
   "metadata": {},
   "outputs": [
    {
     "ename": "TypeError",
     "evalue": "unhashable type: 'list'",
     "output_type": "error",
     "traceback": [
      "\u001b[1;31m---------------------------------------------------------------------------\u001b[0m",
      "\u001b[1;31mTypeError\u001b[0m                                 Traceback (most recent call last)",
      "\u001b[1;32mC:\\Users\\VIVEKB~1\\AppData\\Local\\Temp/ipykernel_21092/2216208079.py\u001b[0m in \u001b[0;36m<module>\u001b[1;34m\u001b[0m\n\u001b[1;32m----> 1\u001b[1;33m \u001b[0ms\u001b[0m\u001b[1;33m.\u001b[0m\u001b[0madd\u001b[0m\u001b[1;33m(\u001b[0m\u001b[1;33m[\u001b[0m\u001b[1;34m\"vivek\"\u001b[0m\u001b[1;33m]\u001b[0m\u001b[1;33m)\u001b[0m\u001b[1;33m\u001b[0m\u001b[1;33m\u001b[0m\u001b[0m\n\u001b[0m",
      "\u001b[1;31mTypeError\u001b[0m: unhashable type: 'list'"
     ]
    }
   ],
   "source": [
    "s.add([\"vivek\"])  # here i tried to add nested list it gives me an error"
   ]
  },
  {
   "cell_type": "code",
   "execution_count": 48,
   "id": "3bf1b9fc",
   "metadata": {},
   "outputs": [
    {
     "data": {
      "text/plain": [
       "{45, 'vivek'}"
      ]
     },
     "execution_count": 48,
     "metadata": {},
     "output_type": "execute_result"
    }
   ],
   "source": [
    "s"
   ]
  },
  {
   "cell_type": "code",
   "execution_count": 49,
   "id": "33090835",
   "metadata": {},
   "outputs": [],
   "source": [
    "s.remove(45)   # you can use remove function to remove element inside form set. function"
   ]
  },
  {
   "cell_type": "code",
   "execution_count": 50,
   "id": "ca4d06f2",
   "metadata": {},
   "outputs": [
    {
     "data": {
      "text/plain": [
       "{'vivek'}"
      ]
     },
     "execution_count": 50,
     "metadata": {},
     "output_type": "execute_result"
    }
   ],
   "source": [
    "s  "
   ]
  },
  {
   "cell_type": "code",
   "execution_count": 51,
   "id": "6ba34943",
   "metadata": {},
   "outputs": [],
   "source": [
    "s.clear()  # clear function will remove all the data from set"
   ]
  },
  {
   "cell_type": "code",
   "execution_count": 52,
   "id": "131899ea",
   "metadata": {},
   "outputs": [
    {
     "data": {
      "text/plain": [
       "set()"
      ]
     },
     "execution_count": 52,
     "metadata": {},
     "output_type": "execute_result"
    }
   ],
   "source": [
    "s"
   ]
  },
  {
   "cell_type": "code",
   "execution_count": 56,
   "id": "b01f963c",
   "metadata": {},
   "outputs": [],
   "source": [
    "s = set(\"vivek\")"
   ]
  },
  {
   "cell_type": "code",
   "execution_count": 58,
   "id": "96a77cea",
   "metadata": {},
   "outputs": [],
   "source": [
    "s1 = set(\" balodi\")"
   ]
  },
  {
   "cell_type": "code",
   "execution_count": 59,
   "id": "f3f3dbb7",
   "metadata": {},
   "outputs": [
    {
     "ename": "TypeError",
     "evalue": "unsupported operand type(s) for +: 'set' and 'set'",
     "output_type": "error",
     "traceback": [
      "\u001b[1;31m---------------------------------------------------------------------------\u001b[0m",
      "\u001b[1;31mTypeError\u001b[0m                                 Traceback (most recent call last)",
      "\u001b[1;32mC:\\Users\\VIVEKB~1\\AppData\\Local\\Temp/ipykernel_21092/2184606050.py\u001b[0m in \u001b[0;36m<module>\u001b[1;34m\u001b[0m\n\u001b[1;32m----> 1\u001b[1;33m \u001b[0ms\u001b[0m \u001b[1;33m+\u001b[0m \u001b[0ms1\u001b[0m\u001b[1;33m\u001b[0m\u001b[1;33m\u001b[0m\u001b[0m\n\u001b[0m",
      "\u001b[1;31mTypeError\u001b[0m: unsupported operand type(s) for +: 'set' and 'set'"
     ]
    }
   ],
   "source": [
    "s + s1    #you can't perform "
   ]
  },
  {
   "cell_type": "code",
   "execution_count": 60,
   "id": "51bae88a",
   "metadata": {},
   "outputs": [],
   "source": [
    "x = {}"
   ]
  },
  {
   "cell_type": "code",
   "execution_count": 61,
   "id": "c354173f",
   "metadata": {},
   "outputs": [
    {
     "data": {
      "text/plain": [
       "dict"
      ]
     },
     "execution_count": 61,
     "metadata": {},
     "output_type": "execute_result"
    }
   ],
   "source": [
    "type(x)"
   ]
  },
  {
   "cell_type": "code",
   "execution_count": 62,
   "id": "8a4a6733",
   "metadata": {},
   "outputs": [],
   "source": [
    "x1 = {32,12}"
   ]
  },
  {
   "cell_type": "code",
   "execution_count": 63,
   "id": "1b2388bd",
   "metadata": {},
   "outputs": [
    {
     "data": {
      "text/plain": [
       "set"
      ]
     },
     "execution_count": 63,
     "metadata": {},
     "output_type": "execute_result"
    }
   ],
   "source": [
    "type(x1)"
   ]
  },
  {
   "cell_type": "code",
   "execution_count": 64,
   "id": "c900adb3",
   "metadata": {},
   "outputs": [],
   "source": [
    "# here you can see the differences when i use empty{}. the type of data is dict, and when i put any data inside the {}, then\n",
    "# type of data is set"
   ]
  },
  {
   "cell_type": "code",
   "execution_count": 65,
   "id": "90262791",
   "metadata": {},
   "outputs": [],
   "source": [
    "x = {\"name\" : \"vivek\", \"age\": \"322424\"}"
   ]
  },
  {
   "cell_type": "code",
   "execution_count": 66,
   "id": "1f209ed2",
   "metadata": {},
   "outputs": [
    {
     "data": {
      "text/plain": [
       "dict"
      ]
     },
     "execution_count": 66,
     "metadata": {},
     "output_type": "execute_result"
    }
   ],
   "source": [
    "type(x)    #dict take input as key and value "
   ]
  },
  {
   "cell_type": "code",
   "execution_count": 68,
   "id": "313e735f",
   "metadata": {},
   "outputs": [],
   "source": [
    "x1 = {\"name\" : \"vivek\", \"age\": \"322424\", 12323: 1213,True: \"balodi\", \"key\": False, \"name\": \"hello\"} "
   ]
  },
  {
   "cell_type": "code",
   "execution_count": 69,
   "id": "f8f7711a",
   "metadata": {},
   "outputs": [
    {
     "data": {
      "text/plain": [
       "{'name': 'hello', 'age': '322424', 12323: 1213, True: 'balodi', 'key': False}"
      ]
     },
     "execution_count": 69,
     "metadata": {},
     "output_type": "execute_result"
    }
   ],
   "source": [
    "x1"
   ]
  },
  {
   "cell_type": "code",
   "execution_count": null,
   "id": "68e52e8a",
   "metadata": {},
   "outputs": [],
   "source": [
    "# in a dict key always unique but value can be duplicate, value wise you can store anything, like type, set, list, floating point"
   ]
  },
  {
   "cell_type": "code",
   "execution_count": 71,
   "id": "6c1e64b2",
   "metadata": {},
   "outputs": [],
   "source": [
    "x3 = {\"name\" : \"vivek\", \"age\": \"322424\", 12323: 1213,True: \"balodi\", \"key\": False, \"okay\": [\"vkve\",\"balodi\"], \"ok\": (123,42,)} "
   ]
  },
  {
   "cell_type": "code",
   "execution_count": 72,
   "id": "37a558d0",
   "metadata": {},
   "outputs": [
    {
     "data": {
      "text/plain": [
       "{'name': 'vivek',\n",
       " 'age': '322424',\n",
       " 12323: 1213,\n",
       " True: 'balodi',\n",
       " 'key': False,\n",
       " 'okay': ['vkve', 'balodi'],\n",
       " 'ok': (123, 42)}"
      ]
     },
     "execution_count": 72,
     "metadata": {},
     "output_type": "execute_result"
    }
   ],
   "source": [
    "x3"
   ]
  },
  {
   "cell_type": "code",
   "execution_count": null,
   "id": "817c10a1",
   "metadata": {},
   "outputs": [],
   "source": [
    "# notes **********************************\n",
    "# 1 -- tupe you can use as key also, but set, list, dict you can't use\n",
    "# 2 - you can use any type of data set as value. \n"
   ]
  },
  {
   "cell_type": "code",
   "execution_count": null,
   "id": "1cce5a3c",
   "metadata": {},
   "outputs": [],
   "source": [
    "# if you wants to find any value form dict then "
   ]
  },
  {
   "cell_type": "code",
   "execution_count": 74,
   "id": "666a3bf3",
   "metadata": {},
   "outputs": [
    {
     "data": {
      "text/plain": [
       "{'name': 'vivek',\n",
       " 'age': '322424',\n",
       " 12323: 1213,\n",
       " True: 'balodi',\n",
       " 'key': False,\n",
       " 'okay': ['vkve', 'balodi'],\n",
       " 'ok': (123, 42)}"
      ]
     },
     "execution_count": 74,
     "metadata": {},
     "output_type": "execute_result"
    }
   ],
   "source": [
    "x3   # suppose from this dict i want key, value"
   ]
  },
  {
   "cell_type": "code",
   "execution_count": 76,
   "id": "92384d97",
   "metadata": {},
   "outputs": [
    {
     "data": {
      "text/plain": [
       "False"
      ]
     },
     "execution_count": 76,
     "metadata": {},
     "output_type": "execute_result"
    }
   ],
   "source": [
    "x3[\"key\"]  ## this is the way how you can get the value from a dict"
   ]
  },
  {
   "cell_type": "code",
   "execution_count": 77,
   "id": "1da0f923",
   "metadata": {},
   "outputs": [
    {
     "data": {
      "text/plain": [
       "{'name': 'vivek',\n",
       " 'age': '322424',\n",
       " 12323: 1213,\n",
       " True: 'balodi',\n",
       " 'key': False,\n",
       " 'okay': ['vkve', 'balodi'],\n",
       " 'ok': (123, 42)}"
      ]
     },
     "execution_count": 77,
     "metadata": {},
     "output_type": "execute_result"
    }
   ],
   "source": [
    "x3  # now if i want to value form a list suppose balodi, so for that---<<<"
   ]
  },
  {
   "cell_type": "code",
   "execution_count": 78,
   "id": "35d7f9e9",
   "metadata": {},
   "outputs": [
    {
     "data": {
      "text/plain": [
       "'balodi'"
      ]
     },
     "execution_count": 78,
     "metadata": {},
     "output_type": "execute_result"
    }
   ],
   "source": [
    "x3[\"okay\"][1]   # okay is the key, and value is a list, so from a list I just pass index of balodi. "
   ]
  },
  {
   "cell_type": "code",
   "execution_count": null,
   "id": "1e98f4d5",
   "metadata": {},
   "outputs": [],
   "source": [
    "# suppose you have dic and as value you are using dict so how will you get the value form that dict"
   ]
  },
  {
   "cell_type": "code",
   "execution_count": 89,
   "id": "293a04d6",
   "metadata": {},
   "outputs": [],
   "source": [
    "x4 = {\"key\": {\"vivek\" : \"balodi\", \"ok\": [\"collage\", \"office\"]}}"
   ]
  },
  {
   "cell_type": "code",
   "execution_count": 90,
   "id": "9c6a3c05",
   "metadata": {},
   "outputs": [
    {
     "data": {
      "text/plain": [
       "{'key': {'vivek': 'balodi', 'ok': ['collage', 'office']}}"
      ]
     },
     "execution_count": 90,
     "metadata": {},
     "output_type": "execute_result"
    }
   ],
   "source": [
    "x4   # form this dict i want some value"
   ]
  },
  {
   "cell_type": "code",
   "execution_count": 93,
   "id": "fbf5aff1",
   "metadata": {},
   "outputs": [
    {
     "data": {
      "text/plain": [
       "'office'"
      ]
     },
     "execution_count": 93,
     "metadata": {},
     "output_type": "execute_result"
    }
   ],
   "source": [
    "x4[\"key\"][\"ok\"][1]   # lthis how you can find value from a dict"
   ]
  },
  {
   "cell_type": "code",
   "execution_count": 94,
   "id": "5e09ad54",
   "metadata": {},
   "outputs": [],
   "source": [
    "#########***********************Notes*************************************\n",
    "# in case of set and dict you can't perform mathematical operations"
   ]
  },
  {
   "cell_type": "code",
   "execution_count": null,
   "id": "d8fea728",
   "metadata": {},
   "outputs": [],
   "source": [
    "# reassignment value, you can change value of anykey"
   ]
  },
  {
   "cell_type": "code",
   "execution_count": 95,
   "id": "c078ee13",
   "metadata": {},
   "outputs": [
    {
     "data": {
      "text/plain": [
       "{'key': {'vivek': 'balodi', 'ok': ['collage', 'office']}}"
      ]
     },
     "execution_count": 95,
     "metadata": {},
     "output_type": "execute_result"
    }
   ],
   "source": [
    "x4"
   ]
  },
  {
   "cell_type": "code",
   "execution_count": 96,
   "id": "5b00cd89",
   "metadata": {},
   "outputs": [],
   "source": [
    "x4[\"key\"][\"ok\"][1] = \"atos\"   ## here i am changing office, to atos, "
   ]
  },
  {
   "cell_type": "code",
   "execution_count": 97,
   "id": "7c60ef38",
   "metadata": {},
   "outputs": [
    {
     "data": {
      "text/plain": [
       "{'key': {'vivek': 'balodi', 'ok': ['collage', 'atos']}}"
      ]
     },
     "execution_count": 97,
     "metadata": {},
     "output_type": "execute_result"
    }
   ],
   "source": [
    "x4"
   ]
  },
  {
   "cell_type": "code",
   "execution_count": null,
   "id": "74082282",
   "metadata": {},
   "outputs": [],
   "source": [
    "# suppose i want to print all the key of dict"
   ]
  },
  {
   "cell_type": "code",
   "execution_count": 100,
   "id": "f82aef3c",
   "metadata": {},
   "outputs": [
    {
     "data": {
      "text/plain": [
       "dict_keys(['name', 'age', 12323, True, 'key', 'okay', 'ok'])"
      ]
     },
     "execution_count": 100,
     "metadata": {},
     "output_type": "execute_result"
    }
   ],
   "source": [
    "x3.keys()"
   ]
  },
  {
   "cell_type": "code",
   "execution_count": 101,
   "id": "09afa58b",
   "metadata": {},
   "outputs": [
    {
     "name": "stdout",
     "output_type": "stream",
     "text": [
      "name\n",
      "age\n",
      "12323\n",
      "True\n",
      "key\n",
      "okay\n",
      "ok\n"
     ]
    }
   ],
   "source": [
    "for i in x3:  ########### same thing for loop is also doing, if you want to values of key\n",
    "    print(i)"
   ]
  },
  {
   "cell_type": "code",
   "execution_count": 104,
   "id": "abc7532c",
   "metadata": {},
   "outputs": [
    {
     "name": "stdout",
     "output_type": "stream",
     "text": [
      "vivek\n",
      "322424\n",
      "1213\n",
      "balodi\n",
      "False\n",
      "['vkve', 'balodi']\n",
      "(123, 42)\n"
     ]
    }
   ],
   "source": [
    "for i in x3.keys():  # this is how you can print values of keys.\n",
    "    print(x3[i])"
   ]
  },
  {
   "cell_type": "code",
   "execution_count": null,
   "id": "b93bbe93",
   "metadata": {},
   "outputs": [],
   "source": [
    "# how you will get value type in you dic"
   ]
  },
  {
   "cell_type": "code",
   "execution_count": 105,
   "id": "7b3df876",
   "metadata": {},
   "outputs": [
    {
     "name": "stdout",
     "output_type": "stream",
     "text": [
      "<class 'str'>\n",
      "<class 'str'>\n",
      "<class 'int'>\n",
      "<class 'str'>\n",
      "<class 'bool'>\n",
      "<class 'list'>\n",
      "<class 'tuple'>\n"
     ]
    }
   ],
   "source": [
    "for i in x3.keys():\n",
    "    print(type(x3[i]))"
   ]
  },
  {
   "cell_type": "code",
   "execution_count": 106,
   "id": "58f6f741",
   "metadata": {},
   "outputs": [
    {
     "data": {
      "text/plain": [
       "dict_items([('name', 'vivek'), ('age', '322424'), (12323, 1213), (True, 'balodi'), ('key', False), ('okay', ['vkve', 'balodi']), ('ok', (123, 42))])"
      ]
     },
     "execution_count": 106,
     "metadata": {},
     "output_type": "execute_result"
    }
   ],
   "source": [
    "x3.items()   # this will give you list of type "
   ]
  },
  {
   "cell_type": "code",
   "execution_count": null,
   "id": "fffd2027",
   "metadata": {},
   "outputs": [],
   "source": [
    "# Now if from this items i want to print only key"
   ]
  },
  {
   "cell_type": "code",
   "execution_count": 107,
   "id": "6d86c1a9",
   "metadata": {},
   "outputs": [
    {
     "name": "stdout",
     "output_type": "stream",
     "text": [
      "name\n",
      "age\n",
      "12323\n",
      "True\n",
      "key\n",
      "okay\n",
      "ok\n"
     ]
    }
   ],
   "source": [
    "for i in x3.items():  # we know by default 0 is key that's why we mentioned o\n",
    "    print(i[0])"
   ]
  },
  {
   "cell_type": "code",
   "execution_count": null,
   "id": "faa4c27a",
   "metadata": {},
   "outputs": [],
   "source": [
    "# if you want to print only all the values form the items"
   ]
  },
  {
   "cell_type": "code",
   "execution_count": 108,
   "id": "38cc2de3",
   "metadata": {},
   "outputs": [
    {
     "name": "stdout",
     "output_type": "stream",
     "text": [
      "vivek\n",
      "322424\n",
      "1213\n",
      "balodi\n",
      "False\n",
      "['vkve', 'balodi']\n",
      "(123, 42)\n"
     ]
    }
   ],
   "source": [
    "for i in x3.items():\n",
    "    print(i[1])"
   ]
  },
  {
   "cell_type": "code",
   "execution_count": 109,
   "id": "6fbf6e53",
   "metadata": {},
   "outputs": [
    {
     "data": {
      "text/plain": [
       "7"
      ]
     },
     "execution_count": 109,
     "metadata": {},
     "output_type": "execute_result"
    }
   ],
   "source": [
    "len(x3)"
   ]
  },
  {
   "cell_type": "code",
   "execution_count": 110,
   "id": "3d1cf615",
   "metadata": {},
   "outputs": [
    {
     "data": {
      "text/plain": [
       "{'name': 'vivek',\n",
       " 'age': '322424',\n",
       " 12323: 1213,\n",
       " True: 'balodi',\n",
       " 'key': False,\n",
       " 'okay': ['vkve', 'balodi'],\n",
       " 'ok': (123, 42)}"
      ]
     },
     "execution_count": 110,
     "metadata": {},
     "output_type": "execute_result"
    }
   ],
   "source": [
    "x3"
   ]
  },
  {
   "cell_type": "code",
   "execution_count": 133,
   "id": "352b4855",
   "metadata": {},
   "outputs": [
    {
     "name": "stdout",
     "output_type": "stream",
     "text": [
      "Nobody starts off thinking that we're making the wrong film. The intent and hard work behind it is just as intense as with every film that an actor works on or doesn't. So, all the big films that have been released... the intent was to make a good film and make it work.”\n"
     ]
    }
   ],
   "source": [
    "l = str(input())"
   ]
  },
  {
   "cell_type": "code",
   "execution_count": 143,
   "id": "a3816296",
   "metadata": {},
   "outputs": [],
   "source": [
    "b = l.lower()"
   ]
  },
  {
   "cell_type": "code",
   "execution_count": 144,
   "id": "ee6260f2",
   "metadata": {},
   "outputs": [
    {
     "data": {
      "text/plain": [
       "\"nobody starts off thinking that we're making the wrong film. the intent and hard work behind it is just as intense as with every film that an actor works on or doesn't. so, all the big films that have been released... the intent was to make a good film and make it work.”\""
      ]
     },
     "execution_count": 144,
     "metadata": {},
     "output_type": "execute_result"
    }
   ],
   "source": [
    "b"
   ]
  },
  {
   "cell_type": "code",
   "execution_count": 154,
   "id": "cb7e1a07",
   "metadata": {},
   "outputs": [],
   "source": [
    "s = set(b)"
   ]
  },
  {
   "cell_type": "code",
   "execution_count": 155,
   "id": "05db5513",
   "metadata": {},
   "outputs": [
    {
     "data": {
      "text/plain": [
       "{' ',\n",
       " \"'\",\n",
       " ',',\n",
       " '.',\n",
       " 'a',\n",
       " 'b',\n",
       " 'c',\n",
       " 'd',\n",
       " 'e',\n",
       " 'f',\n",
       " 'g',\n",
       " 'h',\n",
       " 'i',\n",
       " 'j',\n",
       " 'k',\n",
       " 'l',\n",
       " 'm',\n",
       " 'n',\n",
       " 'o',\n",
       " 'r',\n",
       " 's',\n",
       " 't',\n",
       " 'u',\n",
       " 'v',\n",
       " 'w',\n",
       " 'y',\n",
       " '”'}"
      ]
     },
     "execution_count": 155,
     "metadata": {},
     "output_type": "execute_result"
    }
   ],
   "source": [
    "s"
   ]
  },
  {
   "cell_type": "code",
   "execution_count": null,
   "id": "e02bb5e9",
   "metadata": {},
   "outputs": [],
   "source": [
    "#*******************************************************************************************************************\n",
    "# Q.N-1--> take input as a paragraph \n",
    "# converd all the insight in list input\n",
    "# remove all the duplicate element from you list\n",
    "# use above distict element as a key for dictonary and assign your name as a value of all the key for \n",
    "# dictionary.\n",
    "# try to print tupe of all the values,\n",
    "# try to print list all the element\n",
    "#*********************************************************************************************************************"
   ]
  },
  {
   "cell_type": "code",
   "execution_count": 160,
   "id": "eb7d7736",
   "metadata": {},
   "outputs": [
    {
     "name": "stdout",
     "output_type": "stream",
     "text": [
      " enter your pragraph: Post COVID-19, people's liking and preferences have changed... So if we make the kind of films that people will watch, with the kind of films that are coming today, we'll have to become a little bit more progressive\n",
      "{\"people's\", \"we'll\", 'films', 'watch,', 'that', 'with', 'if', 'Post', 'people', 'the', 'changed...', 'little', 'to', 'bit', 'become', 'and', 'will', 'make', 'are', 'today,', 'liking', 'coming', 'So', 'have', 'we', 'COVID-19,', 'kind', 'more', 'a', 'preferences', 'progressive', 'of'}\n",
      "(\"people's\", \"we'll\", 'films', 'watch,', 'that', 'with', 'if', 'Post', 'people', 'the', 'changed...', 'little', 'to', 'bit', 'become', 'and', 'will', 'make', 'are', 'today,', 'liking', 'coming', 'So', 'have', 'we', 'COVID-19,', 'kind', 'more', 'a', 'preferences', 'progressive', 'of')\n",
      "['vivek', 'vivek', 'vivek', 'vivek', 'vivek', 'vivek', 'vivek', 'vivek', 'vivek', 'vivek', 'vivek', 'vivek', 'vivek', 'vivek', 'vivek', 'vivek', 'vivek', 'vivek', 'vivek', 'vivek', 'vivek', 'vivek', 'vivek', 'vivek', 'vivek', 'vivek', 'vivek', 'vivek', 'vivek', 'vivek', 'vivek', 'vivek']\n"
     ]
    }
   ],
   "source": [
    "pragraph = input(\" enter your pragraph: \")\n",
    "list1 = pragraph.split(\" \")\n",
    "s = set(list1)\n",
    "dict1= dict.fromkeys(s, \"vivek\")\n",
    "t1 = tuple(dict1.keys())\n",
    "l2 = list(dict1.values())\n",
    "print(s)\n",
    "print(t1)\n",
    "print(l2)"
   ]
  },
  {
   "cell_type": "code",
   "execution_count": 4,
   "id": "fa5cf2dc",
   "metadata": {},
   "outputs": [
    {
     "name": "stdout",
     "output_type": "stream",
     "text": [
      "Enter you pragraph ----> Sometimes you may get data as a list of numbers. But the numbers are strings.  In this case, you want to convert them to integers. To convert a list of strings to a list of integers,  use a for loop or a list comprehension.\n",
      "No duplicate -----> {'', 'for', 'of', 'you', 'loop', 'list', 'To', 'integers.', 'this', 'case,', 'or', 'numbers.', 'are', 'the', 'Sometimes', 'strings', 'In', 'integers,', 'to', 'use', 'comprehension.', 'convert', 'them', 'strings.', 'get', 'may', 'want', 'numbers', 'data', 'a', 'as', 'But'}\n",
      "tuple list----->  ('vivek', 'vivek', 'vivek', 'vivek', 'vivek', 'vivek', 'vivek', 'vivek', 'vivek', 'vivek', 'vivek', 'vivek', 'vivek', 'vivek', 'vivek', 'vivek', 'vivek', 'vivek', 'vivek', 'vivek', 'vivek', 'vivek', 'vivek', 'vivek', 'vivek', 'vivek', 'vivek', 'vivek', 'vivek', 'vivek', 'vivek', 'vivek')\n",
      "list of keys -----> ['', 'for', 'of', 'you', 'loop', 'list', 'To', 'integers.', 'this', 'case,', 'or', 'numbers.', 'are', 'the', 'Sometimes', 'strings', 'In', 'integers,', 'to', 'use', 'comprehension.', 'convert', 'them', 'strings.', 'get', 'may', 'want', 'numbers', 'data', 'a', 'as', 'But']\n"
     ]
    }
   ],
   "source": [
    "#Qn-\n",
    "data = input(\"Enter you pragraph ----> \")\n",
    "data_list = data.split(\" \")\n",
    "\n",
    "#QN-2 no duplicate\n",
    "no_duplicate = set(data_list)\n",
    "print(\"No duplicate ----->\", no_duplicate)\n",
    "\n",
    "#QN-3 -- my dict\n",
    "my_dict={}\n",
    "for i in no_duplicate:\n",
    "    my_dict[i] = \"vivek\"\n",
    "\n",
    "#QN- tuple\n",
    "tuple_list = []\n",
    "for i in my_dict.keys():\n",
    "    tuple_list.append(my_dict[i])\n",
    "print(\"tuple list-----> \",tuple(tuple_list))\n",
    "#Qn-5\n",
    "list_keys=[]\n",
    "for i in my_dict.keys():\n",
    "    list_keys.append(i)\n",
    "print(\"list of keys ----->\",list_keys)       "
   ]
  },
  {
   "cell_type": "code",
   "execution_count": null,
   "id": "2656dfaf",
   "metadata": {},
   "outputs": [],
   "source": []
  },
  {
   "cell_type": "code",
   "execution_count": 15,
   "id": "bbf2f74b",
   "metadata": {},
   "outputs": [],
   "source": [
    "d = {\"name\": \"balodi\", \"class\": \"MCA\", \"company\": \"atos\", \"year\": 2021}"
   ]
  },
  {
   "cell_type": "code",
   "execution_count": 26,
   "id": "3d422a76",
   "metadata": {},
   "outputs": [
    {
     "name": "stdout",
     "output_type": "stream",
     "text": [
      "key of dict : name ;  and value of key is : balodi\n",
      "key of dict : class ;  and value of key is : MCA\n",
      "key of dict : company ;  and value of key is : atos\n",
      "key of dict : year ;  and value of key is : 2022\n"
     ]
    }
   ],
   "source": [
    "for i in d:\n",
    "    print(\"key of dict :\", i , \"; \", \"and value of key is :\", d[i])"
   ]
  },
  {
   "cell_type": "code",
   "execution_count": 24,
   "id": "1859473c",
   "metadata": {},
   "outputs": [
    {
     "name": "stdout",
     "output_type": "stream",
     "text": [
      "year is fine\n"
     ]
    }
   ],
   "source": [
    "for i in d:\n",
    "    if i == 'year':\n",
    "        if d[i] >2021:\n",
    "            print(\"year is fine\")\n",
    "        else:\n",
    "            d[i] = 2022"
   ]
  },
  {
   "cell_type": "code",
   "execution_count": 25,
   "id": "1649a741",
   "metadata": {},
   "outputs": [
    {
     "data": {
      "text/plain": [
       "{'name': 'balodi', 'class': 'MCA', 'company': 'atos', 'year': 2022}"
      ]
     },
     "execution_count": 25,
     "metadata": {},
     "output_type": "execute_result"
    }
   ],
   "source": [
    "d"
   ]
  },
  {
   "cell_type": "code",
   "execution_count": null,
   "id": "8880e4d8",
   "metadata": {},
   "outputs": [],
   "source": [
    "############ if you want to print a number as key and value will be square of that number"
   ]
  },
  {
   "cell_type": "code",
   "execution_count": 32,
   "id": "79ffb704",
   "metadata": {},
   "outputs": [
    {
     "name": "stdout",
     "output_type": "stream",
     "text": [
      "{0: 0}\n",
      "{0: 0, 1: 1}\n",
      "{0: 0, 1: 1, 2: 4}\n",
      "{0: 0, 1: 1, 2: 4, 3: 9}\n",
      "{0: 0, 1: 1, 2: 4, 3: 9, 4: 16}\n",
      "{0: 0, 1: 1, 2: 4, 3: 9, 4: 16, 5: 25}\n",
      "{0: 0, 1: 1, 2: 4, 3: 9, 4: 16, 5: 25, 6: 36}\n",
      "{0: 0, 1: 1, 2: 4, 3: 9, 4: 16, 5: 25, 6: 36, 7: 49}\n",
      "{0: 0, 1: 1, 2: 4, 3: 9, 4: 16, 5: 25, 6: 36, 7: 49, 8: 64}\n",
      "{0: 0, 1: 1, 2: 4, 3: 9, 4: 16, 5: 25, 6: 36, 7: 49, 8: 64, 9: 81}\n"
     ]
    }
   ],
   "source": [
    "my_dict = {}\n",
    "for i in range(10):\n",
    "    my_dict[i] = i*i\n",
    "    print(my_dict)"
   ]
  },
  {
   "cell_type": "code",
   "execution_count": 34,
   "id": "a1d5f785",
   "metadata": {},
   "outputs": [
    {
     "data": {
      "text/plain": [
       "{0: 0, 1: 1, 2: 4, 3: 9, 4: 16, 5: 25, 6: 36, 7: 49, 8: 64, 9: 81}"
      ]
     },
     "execution_count": 34,
     "metadata": {},
     "output_type": "execute_result"
    }
   ],
   "source": [
    "{i:i*i for i in range(10)}"
   ]
  },
  {
   "cell_type": "code",
   "execution_count": null,
   "id": "06777955",
   "metadata": {},
   "outputs": [],
   "source": []
  },
  {
   "cell_type": "code",
   "execution_count": null,
   "id": "7ac3212d",
   "metadata": {},
   "outputs": [],
   "source": []
  },
  {
   "cell_type": "code",
   "execution_count": null,
   "id": "99bf76db",
   "metadata": {},
   "outputs": [],
   "source": []
  },
  {
   "cell_type": "code",
   "execution_count": null,
   "id": "67c8837f",
   "metadata": {},
   "outputs": [],
   "source": []
  },
  {
   "cell_type": "code",
   "execution_count": null,
   "id": "055c5d30",
   "metadata": {},
   "outputs": [],
   "source": []
  },
  {
   "cell_type": "code",
   "execution_count": null,
   "id": "12f369da",
   "metadata": {},
   "outputs": [],
   "source": []
  },
  {
   "cell_type": "code",
   "execution_count": null,
   "id": "9d091fa6",
   "metadata": {},
   "outputs": [],
   "source": []
  },
  {
   "cell_type": "code",
   "execution_count": null,
   "id": "8475aeba",
   "metadata": {},
   "outputs": [],
   "source": []
  },
  {
   "cell_type": "code",
   "execution_count": null,
   "id": "483148b4",
   "metadata": {},
   "outputs": [],
   "source": []
  },
  {
   "cell_type": "code",
   "execution_count": null,
   "id": "ebf116ad",
   "metadata": {},
   "outputs": [],
   "source": []
  }
 ],
 "metadata": {
  "kernelspec": {
   "display_name": "Python 3 (ipykernel)",
   "language": "python",
   "name": "python3"
  },
  "language_info": {
   "codemirror_mode": {
    "name": "ipython",
    "version": 3
   },
   "file_extension": ".py",
   "mimetype": "text/x-python",
   "name": "python",
   "nbconvert_exporter": "python",
   "pygments_lexer": "ipython3",
   "version": "3.9.7"
  }
 },
 "nbformat": 4,
 "nbformat_minor": 5
}
