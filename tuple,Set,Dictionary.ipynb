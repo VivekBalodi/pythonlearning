{
 "cells": [
  {
   "cell_type": "code",
   "execution_count": 1,
   "id": "c03ea644",
   "metadata": {},
   "outputs": [],
   "source": [
    "t = ()"
   ]
  },
  {
   "cell_type": "code",
   "execution_count": 2,
   "id": "cb03466f",
   "metadata": {},
   "outputs": [
    {
     "data": {
      "text/plain": [
       "tuple"
      ]
     },
     "execution_count": 2,
     "metadata": {},
     "output_type": "execute_result"
    }
   ],
   "source": [
    "type(t)"
   ]
  },
  {
   "cell_type": "code",
   "execution_count": 1,
   "id": "5f0352bb",
   "metadata": {},
   "outputs": [],
   "source": [
    "# tuples  are immutable (An immutable object is an object whose value cannot change.)"
   ]
  },
  {
   "cell_type": "code",
   "execution_count": null,
   "id": "d19cf2ac",
   "metadata": {},
   "outputs": [],
   "source": [
    "# you can perform all the task with tuple as you were able to perform with list, just you can't edit, as tuples are immutables."
   ]
  },
  {
   "cell_type": "code",
   "execution_count": 6,
   "id": "83fd882e",
   "metadata": {},
   "outputs": [],
   "source": [
    "t = (\"1243\", \"12122\",\"23424\")"
   ]
  },
  {
   "cell_type": "code",
   "execution_count": 7,
   "id": "a6b8e3b3",
   "metadata": {},
   "outputs": [
    {
     "data": {
      "text/plain": [
       "tuple"
      ]
     },
     "execution_count": 7,
     "metadata": {},
     "output_type": "execute_result"
    }
   ],
   "source": [
    "type(t)"
   ]
  },
  {
   "cell_type": "code",
   "execution_count": 8,
   "id": "30d8827f",
   "metadata": {},
   "outputs": [],
   "source": [
    "# in list we use [] , and in type we use ()"
   ]
  },
  {
   "cell_type": "code",
   "execution_count": 10,
   "id": "14a2bbe9",
   "metadata": {},
   "outputs": [],
   "source": [
    "t = (\"12\",\"234\",\"232\",232, \"hello\")"
   ]
  },
  {
   "cell_type": "code",
   "execution_count": 12,
   "id": "e931d803",
   "metadata": {},
   "outputs": [
    {
     "data": {
      "text/plain": [
       "'232'"
      ]
     },
     "execution_count": 12,
     "metadata": {},
     "output_type": "execute_result"
    }
   ],
   "source": [
    "t[2]   #this is how you get index from a tuple."
   ]
  },
  {
   "cell_type": "code",
   "execution_count": 15,
   "id": "e820b704",
   "metadata": {},
   "outputs": [],
   "source": [
    "t2 = (\"12312\",23232,2342,\"vivek\")"
   ]
  },
  {
   "cell_type": "code",
   "execution_count": 16,
   "id": "d4cc38d1",
   "metadata": {},
   "outputs": [
    {
     "data": {
      "text/plain": [
       "('12312', 23232, 2342, 'vivek')"
      ]
     },
     "execution_count": 16,
     "metadata": {},
     "output_type": "execute_result"
    }
   ],
   "source": [
    "t2"
   ]
  },
  {
   "cell_type": "code",
   "execution_count": 21,
   "id": "2b3fd358",
   "metadata": {},
   "outputs": [
    {
     "data": {
      "text/plain": [
       "('12', '234', '232', 232, 'hello', '12312', 23232, 2342, 'vivek')"
      ]
     },
     "execution_count": 21,
     "metadata": {},
     "output_type": "execute_result"
    }
   ],
   "source": [
    "t + t2  #(you can add two tuple or you can append) --\n",
    "#notes --> you can't change index, but you can append tuple, \n",
    "#appending is not comes in the immutable and mutable options"
   ]
  },
  {
   "cell_type": "code",
   "execution_count": 22,
   "id": "44bd4962",
   "metadata": {},
   "outputs": [],
   "source": [
    "###################################### **********tuple and set**************************************"
   ]
  },
  {
   "cell_type": "code",
   "execution_count": 23,
   "id": "1fb2a127",
   "metadata": {},
   "outputs": [],
   "source": [
    "x = set()  "
   ]
  },
  {
   "cell_type": "code",
   "execution_count": 24,
   "id": "23fd4de7",
   "metadata": {},
   "outputs": [
    {
     "data": {
      "text/plain": [
       "set"
      ]
     },
     "execution_count": 24,
     "metadata": {},
     "output_type": "execute_result"
    }
   ],
   "source": [
    "type(x)"
   ]
  },
  {
   "cell_type": "code",
   "execution_count": 35,
   "id": "20effcc8",
   "metadata": {},
   "outputs": [],
   "source": [
    "t4 = (121,3232,12,121,23,23,12,42,12,31, \"vivek\", \"Vivek\")"
   ]
  },
  {
   "cell_type": "code",
   "execution_count": 30,
   "id": "69c31ec5",
   "metadata": {},
   "outputs": [
    {
     "data": {
      "text/plain": [
       "tuple"
      ]
     },
     "execution_count": 30,
     "metadata": {},
     "output_type": "execute_result"
    }
   ],
   "source": [
    "type(t4)"
   ]
  },
  {
   "cell_type": "code",
   "execution_count": 31,
   "id": "5dd8c19c",
   "metadata": {},
   "outputs": [],
   "source": [
    "# here i have t4(tuple) if you want to remove all dublicate value from here and wants to keep only unique value than you can \n",
    "# write a code and using for loops and other things and can remove all the duplicate element. but if you just convert in set\n",
    "# you will be achieve this\n"
   ]
  },
  {
   "cell_type": "code",
   "execution_count": 36,
   "id": "6b0f294a",
   "metadata": {},
   "outputs": [
    {
     "data": {
      "text/plain": [
       "(121, 3232, 12, 121, 23, 23, 12, 42, 12, 31, 'vivek', 'Vivek')"
      ]
     },
     "execution_count": 36,
     "metadata": {},
     "output_type": "execute_result"
    }
   ],
   "source": [
    "t4"
   ]
  },
  {
   "cell_type": "code",
   "execution_count": 37,
   "id": "8b1c832f",
   "metadata": {},
   "outputs": [
    {
     "data": {
      "text/plain": [
       "{12, 121, 23, 31, 3232, 42, 'Vivek', 'vivek'}"
      ]
     },
     "execution_count": 37,
     "metadata": {},
     "output_type": "execute_result"
    }
   ],
   "source": [
    "set(t4)  # here just two word code and you can remove all the duplicate elements. (we are converting tuple in set.)\n",
    "               # set is case sensitive, before using set, make sure you convert tuple in upper or lower case."
   ]
  },
  {
   "cell_type": "code",
   "execution_count": 38,
   "id": "1fcc548d",
   "metadata": {},
   "outputs": [],
   "source": [
    "s = set(t4)"
   ]
  },
  {
   "cell_type": "code",
   "execution_count": 39,
   "id": "93676f73",
   "metadata": {},
   "outputs": [
    {
     "data": {
      "text/plain": [
       "{12, 121, 23, 31, 3232, 42, 'Vivek', 'vivek'}"
      ]
     },
     "execution_count": 39,
     "metadata": {},
     "output_type": "execute_result"
    }
   ],
   "source": [
    "s"
   ]
  },
  {
   "cell_type": "code",
   "execution_count": 40,
   "id": "7e87ca2a",
   "metadata": {},
   "outputs": [
    {
     "name": "stdout",
     "output_type": "stream",
     "text": [
      "3232\n",
      "vivek\n",
      "42\n",
      "12\n",
      "Vivek\n",
      "23\n",
      "121\n",
      "31\n"
     ]
    }
   ],
   "source": [
    "for i in s:\n",
    "    print(i)"
   ]
  },
  {
   "cell_type": "code",
   "execution_count": 41,
   "id": "a76555cd",
   "metadata": {},
   "outputs": [
    {
     "ename": "TypeError",
     "evalue": "'set' object is not subscriptable",
     "output_type": "error",
     "traceback": [
      "\u001b[1;31m---------------------------------------------------------------------------\u001b[0m",
      "\u001b[1;31mTypeError\u001b[0m                                 Traceback (most recent call last)",
      "\u001b[1;32mC:\\Users\\VIVEKB~1\\AppData\\Local\\Temp/ipykernel_21092/3172538273.py\u001b[0m in \u001b[0;36m<module>\u001b[1;34m\u001b[0m\n\u001b[1;32m----> 1\u001b[1;33m \u001b[0ms\u001b[0m\u001b[1;33m[\u001b[0m\u001b[1;36m3\u001b[0m\u001b[1;33m]\u001b[0m\u001b[1;33m\u001b[0m\u001b[1;33m\u001b[0m\u001b[0m\n\u001b[0m",
      "\u001b[1;31mTypeError\u001b[0m: 'set' object is not subscriptable"
     ]
    }
   ],
   "source": [
    "s[3]    # you can't perform indexing operation in case of set, and rest of other operation you can performs."
   ]
  },
  {
   "cell_type": "code",
   "execution_count": 42,
   "id": "a92c0f66",
   "metadata": {},
   "outputs": [],
   "source": [
    "# Build an unordered collection of unique elements. # set will give you error when you try to add nested list. "
   ]
  },
  {
   "cell_type": "code",
   "execution_count": 43,
   "id": "ec8eb132",
   "metadata": {},
   "outputs": [],
   "source": [
    "s = set()"
   ]
  },
  {
   "cell_type": "code",
   "execution_count": 46,
   "id": "f28f6dcf",
   "metadata": {},
   "outputs": [],
   "source": [
    "s.add(\"vivek\")"
   ]
  },
  {
   "cell_type": "code",
   "execution_count": 47,
   "id": "9b1dba85",
   "metadata": {},
   "outputs": [],
   "source": [
    "s.add(45)"
   ]
  },
  {
   "cell_type": "code",
   "execution_count": 45,
   "id": "58cb4aa1",
   "metadata": {},
   "outputs": [
    {
     "ename": "TypeError",
     "evalue": "unhashable type: 'list'",
     "output_type": "error",
     "traceback": [
      "\u001b[1;31m---------------------------------------------------------------------------\u001b[0m",
      "\u001b[1;31mTypeError\u001b[0m                                 Traceback (most recent call last)",
      "\u001b[1;32mC:\\Users\\VIVEKB~1\\AppData\\Local\\Temp/ipykernel_21092/2216208079.py\u001b[0m in \u001b[0;36m<module>\u001b[1;34m\u001b[0m\n\u001b[1;32m----> 1\u001b[1;33m \u001b[0ms\u001b[0m\u001b[1;33m.\u001b[0m\u001b[0madd\u001b[0m\u001b[1;33m(\u001b[0m\u001b[1;33m[\u001b[0m\u001b[1;34m\"vivek\"\u001b[0m\u001b[1;33m]\u001b[0m\u001b[1;33m)\u001b[0m\u001b[1;33m\u001b[0m\u001b[1;33m\u001b[0m\u001b[0m\n\u001b[0m",
      "\u001b[1;31mTypeError\u001b[0m: unhashable type: 'list'"
     ]
    }
   ],
   "source": [
    "s.add([\"vivek\"])  # here i tried to add nested list it gives me an error"
   ]
  },
  {
   "cell_type": "code",
   "execution_count": 48,
   "id": "412d950a",
   "metadata": {},
   "outputs": [
    {
     "data": {
      "text/plain": [
       "{45, 'vivek'}"
      ]
     },
     "execution_count": 48,
     "metadata": {},
     "output_type": "execute_result"
    }
   ],
   "source": [
    "s"
   ]
  },
  {
   "cell_type": "code",
   "execution_count": 49,
   "id": "619c52b0",
   "metadata": {},
   "outputs": [],
   "source": [
    "s.remove(45)   # you can use remove function to remove element inside form set. function"
   ]
  },
  {
   "cell_type": "code",
   "execution_count": 50,
   "id": "a8f5f501",
   "metadata": {},
   "outputs": [
    {
     "data": {
      "text/plain": [
       "{'vivek'}"
      ]
     },
     "execution_count": 50,
     "metadata": {},
     "output_type": "execute_result"
    }
   ],
   "source": [
    "s  "
   ]
  },
  {
   "cell_type": "code",
   "execution_count": 51,
   "id": "2ac9506c",
   "metadata": {},
   "outputs": [],
   "source": [
    "s.clear()  # clear function will remove all the data from set"
   ]
  },
  {
   "cell_type": "code",
   "execution_count": 52,
   "id": "5c3e3339",
   "metadata": {},
   "outputs": [
    {
     "data": {
      "text/plain": [
       "set()"
      ]
     },
     "execution_count": 52,
     "metadata": {},
     "output_type": "execute_result"
    }
   ],
   "source": [
    "s"
   ]
  },
  {
   "cell_type": "code",
   "execution_count": 56,
   "id": "95a2eff4",
   "metadata": {},
   "outputs": [],
   "source": [
    "s = set(\"vivek\")"
   ]
  },
  {
   "cell_type": "code",
   "execution_count": 58,
   "id": "345a9bcd",
   "metadata": {},
   "outputs": [],
   "source": [
    "s1 = set(\" balodi\")"
   ]
  },
  {
   "cell_type": "code",
   "execution_count": 59,
   "id": "fdf10c8b",
   "metadata": {},
   "outputs": [
    {
     "ename": "TypeError",
     "evalue": "unsupported operand type(s) for +: 'set' and 'set'",
     "output_type": "error",
     "traceback": [
      "\u001b[1;31m---------------------------------------------------------------------------\u001b[0m",
      "\u001b[1;31mTypeError\u001b[0m                                 Traceback (most recent call last)",
      "\u001b[1;32mC:\\Users\\VIVEKB~1\\AppData\\Local\\Temp/ipykernel_21092/2184606050.py\u001b[0m in \u001b[0;36m<module>\u001b[1;34m\u001b[0m\n\u001b[1;32m----> 1\u001b[1;33m \u001b[0ms\u001b[0m \u001b[1;33m+\u001b[0m \u001b[0ms1\u001b[0m\u001b[1;33m\u001b[0m\u001b[1;33m\u001b[0m\u001b[0m\n\u001b[0m",
      "\u001b[1;31mTypeError\u001b[0m: unsupported operand type(s) for +: 'set' and 'set'"
     ]
    }
   ],
   "source": [
    "s + s1    #you can't perform "
   ]
  },
  {
   "cell_type": "code",
   "execution_count": 60,
   "id": "baf7dfc4",
   "metadata": {},
   "outputs": [],
   "source": [
    "x = {}"
   ]
  },
  {
   "cell_type": "code",
   "execution_count": 61,
   "id": "f8b8908a",
   "metadata": {},
   "outputs": [
    {
     "data": {
      "text/plain": [
       "dict"
      ]
     },
     "execution_count": 61,
     "metadata": {},
     "output_type": "execute_result"
    }
   ],
   "source": [
    "type(x)"
   ]
  },
  {
   "cell_type": "code",
   "execution_count": 62,
   "id": "cea1b451",
   "metadata": {},
   "outputs": [],
   "source": [
    "x1 = {32,12}"
   ]
  },
  {
   "cell_type": "code",
   "execution_count": 63,
   "id": "51f9183e",
   "metadata": {},
   "outputs": [
    {
     "data": {
      "text/plain": [
       "set"
      ]
     },
     "execution_count": 63,
     "metadata": {},
     "output_type": "execute_result"
    }
   ],
   "source": [
    "type(x1)"
   ]
  },
  {
   "cell_type": "code",
   "execution_count": 64,
   "id": "574437a4",
   "metadata": {},
   "outputs": [],
   "source": [
    "# here you can see the differences when i use empty{}. the type of data is dict, and when i put any data inside the {}, then\n",
    "# type of data is set"
   ]
  },
  {
   "cell_type": "code",
   "execution_count": 65,
   "id": "cb751ca8",
   "metadata": {},
   "outputs": [],
   "source": [
    "x = {\"name\" : \"vivek\", \"age\": \"322424\"}"
   ]
  },
  {
   "cell_type": "code",
   "execution_count": 66,
   "id": "2dcb109e",
   "metadata": {},
   "outputs": [
    {
     "data": {
      "text/plain": [
       "dict"
      ]
     },
     "execution_count": 66,
     "metadata": {},
     "output_type": "execute_result"
    }
   ],
   "source": [
    "type(x)    #dict take input as key and value "
   ]
  },
  {
   "cell_type": "code",
   "execution_count": 68,
   "id": "a016d6e9",
   "metadata": {},
   "outputs": [],
   "source": [
    "x1 = {\"name\" : \"vivek\", \"age\": \"322424\", 12323: 1213,True: \"balodi\", \"key\": False, \"name\": \"hello\"} "
   ]
  },
  {
   "cell_type": "code",
   "execution_count": 69,
   "id": "af422704",
   "metadata": {},
   "outputs": [
    {
     "data": {
      "text/plain": [
       "{'name': 'hello', 'age': '322424', 12323: 1213, True: 'balodi', 'key': False}"
      ]
     },
     "execution_count": 69,
     "metadata": {},
     "output_type": "execute_result"
    }
   ],
   "source": [
    "x1"
   ]
  },
  {
   "cell_type": "code",
   "execution_count": null,
   "id": "5516b36f",
   "metadata": {},
   "outputs": [],
   "source": [
    "# in a dict key always unique but value can be duplicate, value wise you can store anything, like type, set, list, floating point"
   ]
  },
  {
   "cell_type": "code",
   "execution_count": 71,
   "id": "2c7d92f6",
   "metadata": {},
   "outputs": [],
   "source": [
    "x3 = {\"name\" : \"vivek\", \"age\": \"322424\", 12323: 1213,True: \"balodi\", \"key\": False, \"okay\": [\"vkve\",\"balodi\"], \"ok\": (123,42,)} "
   ]
  },
  {
   "cell_type": "code",
   "execution_count": 72,
   "id": "1e39b058",
   "metadata": {},
   "outputs": [
    {
     "data": {
      "text/plain": [
       "{'name': 'vivek',\n",
       " 'age': '322424',\n",
       " 12323: 1213,\n",
       " True: 'balodi',\n",
       " 'key': False,\n",
       " 'okay': ['vkve', 'balodi'],\n",
       " 'ok': (123, 42)}"
      ]
     },
     "execution_count": 72,
     "metadata": {},
     "output_type": "execute_result"
    }
   ],
   "source": [
    "x3"
   ]
  },
  {
   "cell_type": "code",
   "execution_count": null,
   "id": "cce34181",
   "metadata": {},
   "outputs": [],
   "source": [
    "# notes **********************************\n",
    "# 1 -- tupe you can use as key also, but set, list, dict you can't use\n",
    "# 2 - you can use any type of data set as value. \n"
   ]
  },
  {
   "cell_type": "code",
   "execution_count": null,
   "id": "d1731966",
   "metadata": {},
   "outputs": [],
   "source": [
    "# if you wants to find any value form dict then "
   ]
  },
  {
   "cell_type": "code",
   "execution_count": 74,
   "id": "c3340039",
   "metadata": {},
   "outputs": [
    {
     "data": {
      "text/plain": [
       "{'name': 'vivek',\n",
       " 'age': '322424',\n",
       " 12323: 1213,\n",
       " True: 'balodi',\n",
       " 'key': False,\n",
       " 'okay': ['vkve', 'balodi'],\n",
       " 'ok': (123, 42)}"
      ]
     },
     "execution_count": 74,
     "metadata": {},
     "output_type": "execute_result"
    }
   ],
   "source": [
    "x3   # suppose from this dict i want key, value"
   ]
  },
  {
   "cell_type": "code",
   "execution_count": 76,
   "id": "a50d87bc",
   "metadata": {},
   "outputs": [
    {
     "data": {
      "text/plain": [
       "False"
      ]
     },
     "execution_count": 76,
     "metadata": {},
     "output_type": "execute_result"
    }
   ],
   "source": [
    "x3[\"key\"]  ## this is the way how you can get the value from a dict"
   ]
  },
  {
   "cell_type": "code",
   "execution_count": 77,
   "id": "8874e6d8",
   "metadata": {},
   "outputs": [
    {
     "data": {
      "text/plain": [
       "{'name': 'vivek',\n",
       " 'age': '322424',\n",
       " 12323: 1213,\n",
       " True: 'balodi',\n",
       " 'key': False,\n",
       " 'okay': ['vkve', 'balodi'],\n",
       " 'ok': (123, 42)}"
      ]
     },
     "execution_count": 77,
     "metadata": {},
     "output_type": "execute_result"
    }
   ],
   "source": [
    "x3  # now if i want to value form a list suppose balodi, so for that---<<<"
   ]
  },
  {
   "cell_type": "code",
   "execution_count": 78,
   "id": "1a380ac1",
   "metadata": {},
   "outputs": [
    {
     "data": {
      "text/plain": [
       "'balodi'"
      ]
     },
     "execution_count": 78,
     "metadata": {},
     "output_type": "execute_result"
    }
   ],
   "source": [
    "x3[\"okay\"][1]   # okay is the key, and value is a list, so from a list I just pass index of balodi. "
   ]
  },
  {
   "cell_type": "code",
   "execution_count": null,
   "id": "d3408f0c",
   "metadata": {},
   "outputs": [],
   "source": [
    "# suppose you have dic and as value you are using dict so how will you get the value form that dict"
   ]
  },
  {
   "cell_type": "code",
   "execution_count": 89,
   "id": "82003b07",
   "metadata": {},
   "outputs": [],
   "source": [
    "x4 = {\"key\": {\"vivek\" : \"balodi\", \"ok\": [\"collage\", \"office\"]}}"
   ]
  },
  {
   "cell_type": "code",
   "execution_count": 90,
   "id": "1101e96b",
   "metadata": {},
   "outputs": [
    {
     "data": {
      "text/plain": [
       "{'key': {'vivek': 'balodi', 'ok': ['collage', 'office']}}"
      ]
     },
     "execution_count": 90,
     "metadata": {},
     "output_type": "execute_result"
    }
   ],
   "source": [
    "x4   # form this dict i want some value"
   ]
  },
  {
   "cell_type": "code",
   "execution_count": 93,
   "id": "2e5c19d7",
   "metadata": {},
   "outputs": [
    {
     "data": {
      "text/plain": [
       "'office'"
      ]
     },
     "execution_count": 93,
     "metadata": {},
     "output_type": "execute_result"
    }
   ],
   "source": [
    "x4[\"key\"][\"ok\"][1]   # lthis how you can find value from a dict"
   ]
  },
  {
   "cell_type": "code",
   "execution_count": 94,
   "id": "b2475142",
   "metadata": {},
   "outputs": [],
   "source": [
    "#########***********************Notes*************************************\n",
    "# in case of set and dict you can't perform mathematical operations"
   ]
  },
  {
   "cell_type": "code",
   "execution_count": null,
   "id": "851da353",
   "metadata": {},
   "outputs": [],
   "source": []
  },
  {
   "cell_type": "code",
   "execution_count": null,
   "id": "817e6e5b",
   "metadata": {},
   "outputs": [],
   "source": []
  },
  {
   "cell_type": "code",
   "execution_count": null,
   "id": "9af7a64a",
   "metadata": {},
   "outputs": [],
   "source": []
  },
  {
   "cell_type": "code",
   "execution_count": null,
   "id": "54e3333a",
   "metadata": {},
   "outputs": [],
   "source": []
  },
  {
   "cell_type": "code",
   "execution_count": null,
   "id": "095e8f4c",
   "metadata": {},
   "outputs": [],
   "source": []
  },
  {
   "cell_type": "code",
   "execution_count": null,
   "id": "f03754a7",
   "metadata": {},
   "outputs": [],
   "source": []
  },
  {
   "cell_type": "code",
   "execution_count": null,
   "id": "dd0670a1",
   "metadata": {},
   "outputs": [],
   "source": []
  },
  {
   "cell_type": "code",
   "execution_count": null,
   "id": "e11a067e",
   "metadata": {},
   "outputs": [],
   "source": []
  },
  {
   "cell_type": "code",
   "execution_count": null,
   "id": "4ea8bfaa",
   "metadata": {},
   "outputs": [],
   "source": []
  },
  {
   "cell_type": "code",
   "execution_count": null,
   "id": "28da241c",
   "metadata": {},
   "outputs": [],
   "source": []
  },
  {
   "cell_type": "code",
   "execution_count": null,
   "id": "b1940257",
   "metadata": {},
   "outputs": [],
   "source": []
  },
  {
   "cell_type": "code",
   "execution_count": null,
   "id": "a8733aa8",
   "metadata": {},
   "outputs": [],
   "source": []
  }
 ],
 "metadata": {
  "kernelspec": {
   "display_name": "Python 3 (ipykernel)",
   "language": "python",
   "name": "python3"
  },
  "language_info": {
   "codemirror_mode": {
    "name": "ipython",
    "version": 3
   },
   "file_extension": ".py",
   "mimetype": "text/x-python",
   "name": "python",
   "nbconvert_exporter": "python",
   "pygments_lexer": "ipython3",
   "version": "3.9.7"
  }
 },
 "nbformat": 4,
 "nbformat_minor": 5
}
