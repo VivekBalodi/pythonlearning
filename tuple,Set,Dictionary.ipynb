{
 "cells": [
  {
   "cell_type": "code",
   "execution_count": 1,
   "id": "c03ea644",
   "metadata": {},
   "outputs": [],
   "source": [
    "t = ()"
   ]
  },
  {
   "cell_type": "code",
   "execution_count": 2,
   "id": "cb03466f",
   "metadata": {},
   "outputs": [
    {
     "data": {
      "text/plain": [
       "tuple"
      ]
     },
     "execution_count": 2,
     "metadata": {},
     "output_type": "execute_result"
    }
   ],
   "source": [
    "type(t)"
   ]
  },
  {
   "cell_type": "code",
   "execution_count": 1,
   "id": "5f0352bb",
   "metadata": {},
   "outputs": [],
   "source": [
    "# tuples  are immutable (An immutable object is an object whose value cannot change.)"
   ]
  },
  {
   "cell_type": "code",
   "execution_count": null,
   "id": "a59370c3",
   "metadata": {},
   "outputs": [],
   "source": [
    "# you can perform all the task with tuple as you were able to perform with list, just you can't edit, as tuples are immutables."
   ]
  },
  {
   "cell_type": "code",
   "execution_count": 6,
   "id": "543b8adb",
   "metadata": {},
   "outputs": [],
   "source": [
    "t = (\"1243\", \"12122\",\"23424\")"
   ]
  },
  {
   "cell_type": "code",
   "execution_count": 7,
   "id": "3e684a1c",
   "metadata": {},
   "outputs": [
    {
     "data": {
      "text/plain": [
       "tuple"
      ]
     },
     "execution_count": 7,
     "metadata": {},
     "output_type": "execute_result"
    }
   ],
   "source": [
    "type(t)"
   ]
  },
  {
   "cell_type": "code",
   "execution_count": 8,
   "id": "4e557a82",
   "metadata": {},
   "outputs": [],
   "source": [
    "# in list we use [] , and in type we use ()"
   ]
  },
  {
   "cell_type": "code",
   "execution_count": 10,
   "id": "b14794f8",
   "metadata": {},
   "outputs": [],
   "source": [
    "t = (\"12\",\"234\",\"232\",232, \"hello\")"
   ]
  },
  {
   "cell_type": "code",
   "execution_count": 12,
   "id": "8a132fbf",
   "metadata": {},
   "outputs": [
    {
     "data": {
      "text/plain": [
       "'232'"
      ]
     },
     "execution_count": 12,
     "metadata": {},
     "output_type": "execute_result"
    }
   ],
   "source": [
    "t[2]   #this is how you get index from a tuple."
   ]
  },
  {
   "cell_type": "code",
   "execution_count": null,
   "id": "3b2230b5",
   "metadata": {},
   "outputs": [],
   "source": []
  }
 ],
 "metadata": {
  "kernelspec": {
   "display_name": "Python 3 (ipykernel)",
   "language": "python",
   "name": "python3"
  },
  "language_info": {
   "codemirror_mode": {
    "name": "ipython",
    "version": 3
   },
   "file_extension": ".py",
   "mimetype": "text/x-python",
   "name": "python",
   "nbconvert_exporter": "python",
   "pygments_lexer": "ipython3",
   "version": "3.9.7"
  }
 },
 "nbformat": 4,
 "nbformat_minor": 5
}
