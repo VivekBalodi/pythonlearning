{
 "cells": [
  {
   "cell_type": "code",
   "execution_count": 3,
   "id": "4a5e701f",
   "metadata": {},
   "outputs": [
    {
     "name": "stdout",
     "output_type": "stream",
     "text": [
      "22\n"
     ]
    }
   ],
   "source": [
    "a = 10\n",
    "b = 12\n",
    "c = a + b\n",
    "print(c)\n"
   ]
  },
  {
   "cell_type": "code",
   "execution_count": 4,
   "id": "c5b2ae6d",
   "metadata": {},
   "outputs": [],
   "source": [
    "### my fist function"
   ]
  },
  {
   "cell_type": "code",
   "execution_count": 5,
   "id": "8bd70576",
   "metadata": {},
   "outputs": [],
   "source": [
    "def test(x,y):   ### here i just gave name of functions and data type in function, but did't mention any kind of return so just pass\n",
    "    pass"
   ]
  },
  {
   "cell_type": "code",
   "execution_count": 8,
   "id": "980394b0",
   "metadata": {},
   "outputs": [
    {
     "data": {
      "text/plain": [
       "<function __main__.test(x, y)>"
      ]
     },
     "execution_count": 8,
     "metadata": {},
     "output_type": "execute_result"
    }
   ],
   "source": [
    "test  ## if i print test , it will explain function"
   ]
  },
  {
   "cell_type": "code",
   "execution_count": 11,
   "id": "b67868dd",
   "metadata": {},
   "outputs": [],
   "source": [
    "test(12,21)  # the way you write the function that way you should call the function"
   ]
  },
  {
   "cell_type": "code",
   "execution_count": 12,
   "id": "278369d0",
   "metadata": {},
   "outputs": [],
   "source": [
    "def test(x,y):  ## here now i write the function \n",
    "    print(x+y)"
   ]
  },
  {
   "cell_type": "code",
   "execution_count": 13,
   "id": "9adda4d2",
   "metadata": {},
   "outputs": [
    {
     "name": "stdout",
     "output_type": "stream",
     "text": [
      "43\n"
     ]
    }
   ],
   "source": [
    "test(31,12)  ## this is how i called a function"
   ]
  },
  {
   "cell_type": "code",
   "execution_count": 2,
   "id": "e1775c9b",
   "metadata": {},
   "outputs": [],
   "source": [
    "def test(x,y):      \n",
    "    return x * y"
   ]
  },
  {
   "cell_type": "code",
   "execution_count": 4,
   "id": "82852395",
   "metadata": {},
   "outputs": [
    {
     "data": {
      "text/plain": [
       "6"
      ]
     },
     "execution_count": 4,
     "metadata": {},
     "output_type": "execute_result"
    }
   ],
   "source": [
    "test(1,2) + 4  #when we use return fucntin then if we add any extra element it will not give any error."
   ]
  },
  {
   "cell_type": "code",
   "execution_count": 5,
   "id": "46b1ff75",
   "metadata": {},
   "outputs": [],
   "source": [
    "def test(x,y):\n",
    "    print(x+y)"
   ]
  },
  {
   "cell_type": "code",
   "execution_count": 6,
   "id": "619a45e3",
   "metadata": {},
   "outputs": [
    {
     "ename": "TypeError",
     "evalue": "test() missing 1 required positional argument: 'y'",
     "output_type": "error",
     "traceback": [
      "\u001b[1;31m---------------------------------------------------------------------------\u001b[0m",
      "\u001b[1;31mTypeError\u001b[0m                                 Traceback (most recent call last)",
      "\u001b[1;32mC:\\Users\\VIVEKB~1\\AppData\\Local\\Temp/ipykernel_17148/3463208494.py\u001b[0m in \u001b[0;36m<module>\u001b[1;34m\u001b[0m\n\u001b[1;32m----> 1\u001b[1;33m \u001b[0mtest\u001b[0m\u001b[1;33m(\u001b[0m\u001b[1;36m2\u001b[0m\u001b[1;33m+\u001b[0m\u001b[1;36m4\u001b[0m\u001b[1;33m)\u001b[0m\u001b[1;33m+\u001b[0m\u001b[1;36m4\u001b[0m\u001b[1;33m\u001b[0m\u001b[1;33m\u001b[0m\u001b[0m\n\u001b[0m",
      "\u001b[1;31mTypeError\u001b[0m: test() missing 1 required positional argument: 'y'"
     ]
    }
   ],
   "source": [
    "test(2+4)+4            #when we are using print statement, when we use extra element then it will give error.."
   ]
  },
  {
   "cell_type": "code",
   "execution_count": 7,
   "id": "c2e9ae7b",
   "metadata": {},
   "outputs": [],
   "source": [
    "#### don't use print statement, only use return so this will give you same data type."
   ]
  },
  {
   "cell_type": "code",
   "execution_count": null,
   "id": "29621ffc",
   "metadata": {},
   "outputs": [],
   "source": [
    "# how to get multiple return form a function"
   ]
  },
  {
   "cell_type": "code",
   "execution_count": 8,
   "id": "2ae021de",
   "metadata": {},
   "outputs": [],
   "source": [
    "def test(x,y,z):\n",
    "    return x+y, y+z, z*x"
   ]
  },
  {
   "cell_type": "code",
   "execution_count": 9,
   "id": "e47268c4",
   "metadata": {},
   "outputs": [
    {
     "data": {
      "text/plain": [
       "(6, 6, 4)"
      ]
     },
     "execution_count": 9,
     "metadata": {},
     "output_type": "execute_result"
    }
   ],
   "source": [
    "test(2,4,2)"
   ]
  },
  {
   "cell_type": "code",
   "execution_count": 10,
   "id": "aa8e8a24",
   "metadata": {},
   "outputs": [
    {
     "data": {
      "text/plain": [
       "tuple"
      ]
     },
     "execution_count": 10,
     "metadata": {},
     "output_type": "execute_result"
    }
   ],
   "source": [
    "type(test(2,3,4))  # by defualt data type will be tuple. "
   ]
  },
  {
   "cell_type": "code",
   "execution_count": 12,
   "id": "78ae09a4",
   "metadata": {},
   "outputs": [],
   "source": [
    "m,n,v = (test(2,4,2))  ### here i am defining 3 veriable , so i can hold the data in separate-separate variable"
   ]
  },
  {
   "cell_type": "code",
   "execution_count": 13,
   "id": "51eed9c9",
   "metadata": {},
   "outputs": [
    {
     "data": {
      "text/plain": [
       "6"
      ]
     },
     "execution_count": 13,
     "metadata": {},
     "output_type": "execute_result"
    }
   ],
   "source": [
    "m"
   ]
  },
  {
   "cell_type": "code",
   "execution_count": 14,
   "id": "a5b0356e",
   "metadata": {},
   "outputs": [
    {
     "data": {
      "text/plain": [
       "6"
      ]
     },
     "execution_count": 14,
     "metadata": {},
     "output_type": "execute_result"
    }
   ],
   "source": [
    "n"
   ]
  },
  {
   "cell_type": "code",
   "execution_count": 15,
   "id": "6e253bec",
   "metadata": {},
   "outputs": [
    {
     "data": {
      "text/plain": [
       "4"
      ]
     },
     "execution_count": 15,
     "metadata": {},
     "output_type": "execute_result"
    }
   ],
   "source": [
    "v"
   ]
  },
  {
   "cell_type": "code",
   "execution_count": 38,
   "id": "cca25587",
   "metadata": {},
   "outputs": [],
   "source": [
    "def test4(x,y):\n",
    "    return x*y, y+2, x+10"
   ]
  },
  {
   "cell_type": "code",
   "execution_count": 39,
   "id": "6231991e",
   "metadata": {},
   "outputs": [],
   "source": [
    "m, n, _ = test4(1,2)  # _ this is the meaning place holder here, it's means i don't want to print the last return so i put _"
   ]
  },
  {
   "cell_type": "code",
   "execution_count": 40,
   "id": "4e0d9e8f",
   "metadata": {},
   "outputs": [
    {
     "data": {
      "text/plain": [
       "2"
      ]
     },
     "execution_count": 40,
     "metadata": {},
     "output_type": "execute_result"
    }
   ],
   "source": [
    "m"
   ]
  },
  {
   "cell_type": "code",
   "execution_count": 41,
   "id": "2b1bb61a",
   "metadata": {},
   "outputs": [
    {
     "data": {
      "text/plain": [
       "4"
      ]
     },
     "execution_count": 41,
     "metadata": {},
     "output_type": "execute_result"
    }
   ],
   "source": [
    "n"
   ]
  },
  {
   "cell_type": "code",
   "execution_count": 42,
   "id": "8a385ef8",
   "metadata": {},
   "outputs": [
    {
     "data": {
      "text/plain": [
       "11"
      ]
     },
     "execution_count": 42,
     "metadata": {},
     "output_type": "execute_result"
    }
   ],
   "source": [
    "_"
   ]
  },
  {
   "cell_type": "code",
   "execution_count": 43,
   "id": "90d6652c",
   "metadata": {},
   "outputs": [],
   "source": [
    "def test5(n):\n",
    "    return n*2"
   ]
  },
  {
   "cell_type": "code",
   "execution_count": 45,
   "id": "5f17549d",
   "metadata": {},
   "outputs": [
    {
     "data": {
      "text/plain": [
       "[1, 2, 3, 4, 1, 2, 3, 4]"
      ]
     },
     "execution_count": 45,
     "metadata": {},
     "output_type": "execute_result"
    }
   ],
   "source": [
    "test5([1,2,3,4])  ### here i am giving a list as n, so it is just multiplying n"
   ]
  },
  {
   "cell_type": "code",
   "execution_count": 50,
   "id": "4dd1b03b",
   "metadata": {},
   "outputs": [],
   "source": [
    "def test6(n):\n",
    "    return n, n*2"
   ]
  },
  {
   "cell_type": "code",
   "execution_count": 51,
   "id": "6f7ac1cc",
   "metadata": {},
   "outputs": [],
   "source": [
    "b = test6([1,3,4,5,6,]) ## here keeping data as tuple and calling it below"
   ]
  },
  {
   "cell_type": "code",
   "execution_count": 52,
   "id": "666eb094",
   "metadata": {},
   "outputs": [
    {
     "data": {
      "text/plain": [
       "([1, 3, 4, 5, 6], [1, 3, 4, 5, 6, 1, 3, 4, 5, 6])"
      ]
     },
     "execution_count": 52,
     "metadata": {},
     "output_type": "execute_result"
    }
   ],
   "source": [
    "b"
   ]
  },
  {
   "cell_type": "code",
   "execution_count": 53,
   "id": "a9f993dd",
   "metadata": {},
   "outputs": [
    {
     "data": {
      "text/plain": [
       "[1, 3, 4, 5, 6]"
      ]
     },
     "execution_count": 53,
     "metadata": {},
     "output_type": "execute_result"
    }
   ],
   "source": [
    "b[0]"
   ]
  },
  {
   "cell_type": "code",
   "execution_count": 54,
   "id": "79d06108",
   "metadata": {},
   "outputs": [
    {
     "data": {
      "text/plain": [
       "[1, 3, 4, 5, 6, 1, 3, 4, 5, 6]"
      ]
     },
     "execution_count": 54,
     "metadata": {},
     "output_type": "execute_result"
    }
   ],
   "source": [
    "b[1]"
   ]
  },
  {
   "cell_type": "code",
   "execution_count": 55,
   "id": "c960dc47",
   "metadata": {},
   "outputs": [],
   "source": [
    "def test7(n, m = 50):  ##### here i am assigning a value to m, so when i will give input then i only need to give value for n\n",
    "    return n+m"
   ]
  },
  {
   "cell_type": "code",
   "execution_count": 56,
   "id": "5c5e0daf",
   "metadata": {},
   "outputs": [
    {
     "data": {
      "text/plain": [
       "100"
      ]
     },
     "execution_count": 56,
     "metadata": {},
     "output_type": "execute_result"
    }
   ],
   "source": [
    "test7(50)  # when i call the function so i have to give only value for n, because for m i have already assigning in the function"
   ]
  },
  {
   "cell_type": "code",
   "execution_count": 57,
   "id": "8527da8f",
   "metadata": {},
   "outputs": [
    {
     "data": {
      "text/plain": [
       "90"
      ]
     },
     "execution_count": 57,
     "metadata": {},
     "output_type": "execute_result"
    }
   ],
   "source": [
    "test7(50,40)  # you can override the value of m,"
   ]
  },
  {
   "cell_type": "code",
   "execution_count": 58,
   "id": "f0ebf086",
   "metadata": {},
   "outputs": [],
   "source": [
    "def test8(x = True , y = False):\n",
    "    return x+y"
   ]
  },
  {
   "cell_type": "code",
   "execution_count": 59,
   "id": "a0c477a1",
   "metadata": {},
   "outputs": [
    {
     "data": {
      "text/plain": [
       "1"
      ]
     },
     "execution_count": 59,
     "metadata": {},
     "output_type": "execute_result"
    }
   ],
   "source": [
    "test8()   # here i have already assigning value x, and y , so at the time of calling function I don't need to assigning any value"
   ]
  },
  {
   "cell_type": "code",
   "execution_count": 61,
   "id": "b25e5daf",
   "metadata": {},
   "outputs": [],
   "source": [
    "def travel(bike = True, car = False):\n",
    "    travel_plan = bike or car\n",
    "    return bike, car, travel_plan"
   ]
  },
  {
   "cell_type": "code",
   "execution_count": 62,
   "id": "c19e2ee3",
   "metadata": {},
   "outputs": [
    {
     "data": {
      "text/plain": [
       "(True, False, True)"
      ]
     },
     "execution_count": 62,
     "metadata": {},
     "output_type": "execute_result"
    }
   ],
   "source": [
    "travel()"
   ]
  },
  {
   "cell_type": "code",
   "execution_count": null,
   "id": "2c4e332d",
   "metadata": {},
   "outputs": [],
   "source": [
    "# if without creating to many variable you want to pass values in function than agrs function will work "
   ]
  },
  {
   "cell_type": "code",
   "execution_count": 71,
   "id": "24026b7b",
   "metadata": {},
   "outputs": [],
   "source": [
    "def test11(*args):   # if you want to pass any number of arguments than you can use *args\n",
    "    return args"
   ]
  },
  {
   "cell_type": "code",
   "execution_count": 72,
   "id": "46645e7f",
   "metadata": {},
   "outputs": [
    {
     "data": {
      "text/plain": [
       "('vivek', 'balodi', [1, 2, 3, 4, 4, 5, 5])"
      ]
     },
     "execution_count": 72,
     "metadata": {},
     "output_type": "execute_result"
    }
   ],
   "source": [
    "test11(\"vivek\", \"balodi\", [1,2,3,4,4,5,5,])"
   ]
  },
  {
   "cell_type": "code",
   "execution_count": null,
   "id": "a4a41a7a",
   "metadata": {},
   "outputs": [],
   "source": [
    "# concatenate a list with function"
   ]
  },
  {
   "cell_type": "code",
   "execution_count": 2,
   "id": "cbdbc160",
   "metadata": {},
   "outputs": [],
   "source": [
    "def test11(* args):\n",
    "    l = []\n",
    "    for i in args:\n",
    "        l = i+l\n",
    "    return l\n"
   ]
  },
  {
   "cell_type": "code",
   "execution_count": 93,
   "id": "01dbb93b",
   "metadata": {},
   "outputs": [
    {
     "data": {
      "text/plain": [
       "[1, 4, 4, 7, 4, 2, 4, 2, 1, 2, 3, 4]"
      ]
     },
     "execution_count": 93,
     "metadata": {},
     "output_type": "execute_result"
    }
   ],
   "source": [
    "test11([1,2,3,4],[4,2,4,2], [1,4,4,7])"
   ]
  },
  {
   "cell_type": "code",
   "execution_count": null,
   "id": "d950a162",
   "metadata": {},
   "outputs": [],
   "source": [
    "# in above function if i write any kind of data so it will be me error"
   ]
  },
  {
   "cell_type": "code",
   "execution_count": 4,
   "id": "5eb63561",
   "metadata": {},
   "outputs": [
    {
     "ename": "TypeError",
     "evalue": "can only concatenate str (not \"list\") to str",
     "output_type": "error",
     "traceback": [
      "\u001b[1;31m---------------------------------------------------------------------------\u001b[0m",
      "\u001b[1;31mTypeError\u001b[0m                                 Traceback (most recent call last)",
      "\u001b[1;32mC:\\Users\\VIVEKB~1\\AppData\\Local\\Temp/ipykernel_21088/90217586.py\u001b[0m in \u001b[0;36m<module>\u001b[1;34m\u001b[0m\n\u001b[1;32m----> 1\u001b[1;33m \u001b[0mtest11\u001b[0m\u001b[1;33m(\u001b[0m\u001b[1;34m\"asdfasdfasdg\"\u001b[0m\u001b[1;33m,\u001b[0m \u001b[1;36m12323\u001b[0m\u001b[1;33m,\u001b[0m \u001b[1;33m[\u001b[0m\u001b[1;36m2\u001b[0m\u001b[1;33m,\u001b[0m\u001b[1;36m12\u001b[0m\u001b[1;33m,\u001b[0m\u001b[1;36m32\u001b[0m\u001b[1;33m,\u001b[0m\u001b[1;36m4\u001b[0m\u001b[1;33m]\u001b[0m\u001b[1;33m,\u001b[0m \u001b[1;33m[\u001b[0m\u001b[1;36m132\u001b[0m\u001b[1;33m,\u001b[0m\u001b[1;36m324\u001b[0m\u001b[1;33m,\u001b[0m\u001b[1;36m125\u001b[0m\u001b[1;33m,\u001b[0m\u001b[1;36m5321\u001b[0m\u001b[1;33m]\u001b[0m\u001b[1;33m)\u001b[0m\u001b[1;33m\u001b[0m\u001b[1;33m\u001b[0m\u001b[0m\n\u001b[0m",
      "\u001b[1;32mC:\\Users\\VIVEKB~1\\AppData\\Local\\Temp/ipykernel_21088/2495786411.py\u001b[0m in \u001b[0;36mtest11\u001b[1;34m(*args)\u001b[0m\n\u001b[0;32m      2\u001b[0m     \u001b[0ml\u001b[0m \u001b[1;33m=\u001b[0m \u001b[1;33m[\u001b[0m\u001b[1;33m]\u001b[0m\u001b[1;33m\u001b[0m\u001b[1;33m\u001b[0m\u001b[0m\n\u001b[0;32m      3\u001b[0m     \u001b[1;32mfor\u001b[0m \u001b[0mi\u001b[0m \u001b[1;32min\u001b[0m \u001b[0margs\u001b[0m\u001b[1;33m:\u001b[0m\u001b[1;33m\u001b[0m\u001b[1;33m\u001b[0m\u001b[0m\n\u001b[1;32m----> 4\u001b[1;33m         \u001b[0ml\u001b[0m \u001b[1;33m=\u001b[0m \u001b[0mi\u001b[0m\u001b[1;33m+\u001b[0m\u001b[0ml\u001b[0m\u001b[1;33m\u001b[0m\u001b[1;33m\u001b[0m\u001b[0m\n\u001b[0m\u001b[0;32m      5\u001b[0m     \u001b[1;32mreturn\u001b[0m \u001b[0ml\u001b[0m\u001b[1;33m\u001b[0m\u001b[1;33m\u001b[0m\u001b[0m\n",
      "\u001b[1;31mTypeError\u001b[0m: can only concatenate str (not \"list\") to str"
     ]
    }
   ],
   "source": [
    "test11(\"asdfasdfasdg\", 12323, [2,12,32,4], [132,324,125,5321])"
   ]
  },
  {
   "cell_type": "code",
   "execution_count": null,
   "id": "5d8520d6",
   "metadata": {},
   "outputs": [],
   "source": [
    "# to handle this kind of error you can you if and else statements,"
   ]
  },
  {
   "cell_type": "code",
   "execution_count": 8,
   "id": "b8e55e25",
   "metadata": {},
   "outputs": [],
   "source": [
    "def test12(* args):\n",
    "    l = []\n",
    "    for i in args:\n",
    "        if type(i) == list:\n",
    "            l = i+l\n",
    "    return l"
   ]
  },
  {
   "cell_type": "code",
   "execution_count": 9,
   "id": "0d9e6f45",
   "metadata": {},
   "outputs": [
    {
     "data": {
      "text/plain": [
       "[132, 324, 125, 5321, 2, 12, 32, 4]"
      ]
     },
     "execution_count": 9,
     "metadata": {},
     "output_type": "execute_result"
    }
   ],
   "source": [
    "test12(\"asdfasdfasdg\", 12323, [2,12,32,4], [132,324,125,5321]) # now the same thing is working"
   ]
  },
  {
   "cell_type": "code",
   "execution_count": null,
   "id": "2266ad33",
   "metadata": {},
   "outputs": [],
   "source": [
    "##kwargs  __> you can put any number of data in pair of key values"
   ]
  },
  {
   "cell_type": "code",
   "execution_count": 1,
   "id": "13b03508",
   "metadata": {},
   "outputs": [],
   "source": [
    "def test13(**kwargs):\n",
    "    return kwargs"
   ]
  },
  {
   "cell_type": "code",
   "execution_count": 2,
   "id": "16c83eac",
   "metadata": {},
   "outputs": [
    {
     "ename": "TypeError",
     "evalue": "test13() takes 0 positional arguments but 4 were given",
     "output_type": "error",
     "traceback": [
      "\u001b[1;31m---------------------------------------------------------------------------\u001b[0m",
      "\u001b[1;31mTypeError\u001b[0m                                 Traceback (most recent call last)",
      "\u001b[1;32mC:\\Users\\VIVEKB~1\\AppData\\Local\\Temp/ipykernel_9344/3040635773.py\u001b[0m in \u001b[0;36m<module>\u001b[1;34m\u001b[0m\n\u001b[1;32m----> 1\u001b[1;33m \u001b[0mtest13\u001b[0m\u001b[1;33m(\u001b[0m\u001b[1;36m12\u001b[0m\u001b[1;33m,\u001b[0m\u001b[1;36m32\u001b[0m\u001b[1;33m,\u001b[0m\u001b[1;36m12\u001b[0m\u001b[1;33m,\u001b[0m\u001b[1;36m12\u001b[0m\u001b[1;33m)\u001b[0m\u001b[1;33m\u001b[0m\u001b[1;33m\u001b[0m\u001b[0m\n\u001b[0m",
      "\u001b[1;31mTypeError\u001b[0m: test13() takes 0 positional arguments but 4 were given"
     ]
    }
   ],
   "source": [
    "test13(12,32,12,12)  # it will give you en erro if you type like this"
   ]
  },
  {
   "cell_type": "code",
   "execution_count": 5,
   "id": "ea7d838e",
   "metadata": {},
   "outputs": [
    {
     "data": {
      "text/plain": [
       "{'a': 1, 'b': 2, 'c': 3, 'd': 4}"
      ]
     },
     "execution_count": 5,
     "metadata": {},
     "output_type": "execute_result"
    }
   ],
   "source": [
    "test13(a=1,b=2,c=3,d=4)  # you have to pass the data in key values pair"
   ]
  },
  {
   "cell_type": "code",
   "execution_count": 6,
   "id": "9764bdcb",
   "metadata": {},
   "outputs": [],
   "source": [
    "# In kwargs we use to give data in pair of key and value, but internal it store data in dictionary format"
   ]
  },
  {
   "cell_type": "code",
   "execution_count": null,
   "id": "4add48ed",
   "metadata": {},
   "outputs": [],
   "source": [
    "## data yo can give anything like list, boolen, etc"
   ]
  },
  {
   "cell_type": "code",
   "execution_count": 8,
   "id": "a8929821",
   "metadata": {},
   "outputs": [
    {
     "data": {
      "text/plain": [
       "{'a': ['balodi', 'vivek', 12], 'b': True, 'c': 13123, 'd': 'hello'}"
      ]
     },
     "execution_count": 8,
     "metadata": {},
     "output_type": "execute_result"
    }
   ],
   "source": [
    "test13(a=[\"balodi\",\"vivek\",12], b=True, c= 13123, d = \"hello\")"
   ]
  },
  {
   "cell_type": "code",
   "execution_count": 9,
   "id": "e1eb2f64",
   "metadata": {},
   "outputs": [],
   "source": [
    "# Notes -- args return tuple , kwargs return dictionary"
   ]
  },
  {
   "cell_type": "raw",
   "id": "b61883fe",
   "metadata": {},
   "source": [
    "#\n",
    "\n",
    "1 - create a function 1-\n",
    "\tyou are suppose to allow, number of mixed data and try to create a list of seperate data \n",
    "based on data type and return multiple result\n",
    "\n",
    "2) create a function which will be able to use *args and **kwargs and it\n",
    "will be able to do all list values concatination and return a list"
   ]
  },
  {
   "cell_type": "code",
   "execution_count": 23,
   "id": "3b1a4ebe",
   "metadata": {},
   "outputs": [],
   "source": [
    "def vivek(*args):\n",
    "    for i in args:\n",
    "        if type(i) == list:\n",
    "            print(i)\n",
    "        elif type(i) == tuple:\n",
    "            print(i)\n",
    "        elif type(i)== set:\n",
    "            print(type(i), i)\n",
    "        elif type(i) == dict:\n",
    "            print(type(i), i)\n",
    "        pass\n",
    "    "
   ]
  },
  {
   "cell_type": "code",
   "execution_count": 26,
   "id": "9ae54703",
   "metadata": {},
   "outputs": [
    {
     "name": "stdout",
     "output_type": "stream",
     "text": [
      "[123, 'vivek', 'balodi']\n",
      "(12, 32, 4, 345)\n",
      "<class 'set'> {2424, 123, 523}\n",
      "<class 'dict'> {45: 121, 13: 1313, 24: 132}\n"
     ]
    }
   ],
   "source": [
    "vivek(12342,[123,\"vivek\", \"balodi\"], (12,32,4,345,), {123,2424,523}, {45:121,13:1313,24:132})"
   ]
  },
  {
   "cell_type": "code",
   "execution_count": 28,
   "id": "609dc99c",
   "metadata": {},
   "outputs": [],
   "source": [
    "def func2(*args, **kwargs):\n",
    "    a = [i for i in args if type(i)== list]\n",
    "    b = [i[1] for i in kwargs.items() if type(i[1]) == list]\n",
    "    return a, b"
   ]
  },
  {
   "cell_type": "code",
   "execution_count": 30,
   "id": "996e1030",
   "metadata": {},
   "outputs": [
    {
     "data": {
      "text/plain": [
       "([[12, 31, 4, 12, 24, 132], [1234512, 65146]], [])"
      ]
     },
     "execution_count": 30,
     "metadata": {},
     "output_type": "execute_result"
    }
   ],
   "source": [
    "func2([12,31,4,12,24,132], 23,13,24,[1234512,65146,], a = \"asdgasdg\", b= \"ahsdsa\")"
   ]
  },
  {
   "cell_type": "code",
   "execution_count": 42,
   "id": "446aed0e",
   "metadata": {},
   "outputs": [],
   "source": [
    "def func3(**kwargs):\n",
    "    for i in kwargs.items():\n",
    "        if type(i[1]) == list:\n",
    "            if \"vivek\" in i[1]:\n",
    "                print(\"I am able to find your name\")\n",
    "                print(i[1])\n",
    "    return(kwargs)"
   ]
  },
  {
   "cell_type": "code",
   "execution_count": 43,
   "id": "043e5816",
   "metadata": {},
   "outputs": [
    {
     "name": "stdout",
     "output_type": "stream",
     "text": [
      "I am able to find your name\n",
      "['vivek', 'balodi', 12, 134, 34]\n"
     ]
    },
    {
     "data": {
      "text/plain": [
       "{'a': [12, 24, 453, 35],\n",
       " 'b': ['vivek', 'balodi', 12, 134, 34],\n",
       " 'c': ['hello', 212, 23, 5, 453]}"
      ]
     },
     "execution_count": 43,
     "metadata": {},
     "output_type": "execute_result"
    }
   ],
   "source": [
    "func3(a=[12,24,453,35,], b=[\"vivek\", \"balodi\", 12,134,34], c= [\"hello\", 212,23,5,453])"
   ]
  },
  {
   "cell_type": "code",
   "execution_count": 44,
   "id": "15104a86",
   "metadata": {},
   "outputs": [],
   "source": [
    "l = [1,2,3,4,5]"
   ]
  },
  {
   "cell_type": "code",
   "execution_count": 47,
   "id": "28f95183",
   "metadata": {},
   "outputs": [
    {
     "ename": "SyntaxError",
     "evalue": "invalid syntax (Temp/ipykernel_9344/3370615315.py, line 2)",
     "output_type": "error",
     "traceback": [
      "\u001b[1;36m  File \u001b[1;32m\"C:\\Users\\VIVEKB~1\\AppData\\Local\\Temp/ipykernel_9344/3370615315.py\"\u001b[1;36m, line \u001b[1;32m2\u001b[0m\n\u001b[1;33m    m = i*2:\u001b[0m\n\u001b[1;37m           ^\u001b[0m\n\u001b[1;31mSyntaxError\u001b[0m\u001b[1;31m:\u001b[0m invalid syntax\n"
     ]
    }
   ],
   "source": [
    "for i in l:\n",
    "    m = i*2:\n",
    "        print(m)"
   ]
  },
  {
   "cell_type": "code",
   "execution_count": 48,
   "id": "d4e87146",
   "metadata": {},
   "outputs": [
    {
     "name": "stdout",
     "output_type": "stream",
     "text": [
      "[2, 4, 6, 8, 10]\n"
     ]
    }
   ],
   "source": [
    "double_number = [2*n for n in l]\n",
    "print(double_number)"
   ]
  },
  {
   "cell_type": "code",
   "execution_count": null,
   "id": "3d02a73e",
   "metadata": {},
   "outputs": [],
   "source": []
  },
  {
   "cell_type": "code",
   "execution_count": 78,
   "id": "4c0e3036",
   "metadata": {},
   "outputs": [
    {
     "ename": "TypeError",
     "evalue": "'type' object is not iterable",
     "output_type": "error",
     "traceback": [
      "\u001b[1;31m---------------------------------------------------------------------------\u001b[0m",
      "\u001b[1;31mTypeError\u001b[0m                                 Traceback (most recent call last)",
      "\u001b[1;32mC:\\Users\\VIVEKB~1\\AppData\\Local\\Temp/ipykernel_9344/2662169362.py\u001b[0m in \u001b[0;36m<module>\u001b[1;34m\u001b[0m\n\u001b[1;32m----> 1\u001b[1;33m \u001b[1;32mfor\u001b[0m \u001b[0mi\u001b[0m \u001b[1;32min\u001b[0m \u001b[0mlist\u001b[0m\u001b[1;33m:\u001b[0m\u001b[1;33m\u001b[0m\u001b[1;33m\u001b[0m\u001b[0m\n\u001b[0m\u001b[0;32m      2\u001b[0m     \u001b[0mm\u001b[0m \u001b[1;33m=\u001b[0m \u001b[0mlist\u001b[0m\u001b[1;33m(\u001b[0m\u001b[1;36m2\u001b[0m\u001b[1;33m*\u001b[0m\u001b[0mn\u001b[0m \u001b[1;32min\u001b[0m \u001b[0ml\u001b[0m\u001b[1;33m)\u001b[0m\u001b[1;33m\u001b[0m\u001b[1;33m\u001b[0m\u001b[0m\n\u001b[0;32m      3\u001b[0m \u001b[0mprint\u001b[0m\u001b[1;33m(\u001b[0m\u001b[0mm\u001b[0m\u001b[1;33m)\u001b[0m\u001b[1;33m\u001b[0m\u001b[1;33m\u001b[0m\u001b[0m\n",
      "\u001b[1;31mTypeError\u001b[0m: 'type' object is not iterable"
     ]
    }
   ],
   "source": []
  },
  {
   "cell_type": "code",
   "execution_count": 26,
   "id": "f56b8423",
   "metadata": {},
   "outputs": [],
   "source": [
    "def vivek2(* args):\n",
    "    dt= {}\n",
    "    for i in args:\n",
    "        if type(i) in dt:\n",
    "            dt[type(i)].append(i)\n",
    "        else:\n",
    "            dt[type(i)] = [i]\n",
    "    return dt"
   ]
  },
  {
   "cell_type": "code",
   "execution_count": 27,
   "id": "742466b1",
   "metadata": {},
   "outputs": [
    {
     "data": {
      "text/plain": [
       "{int: [1233, 23453245],\n",
       " list: [[34234523], [23452345, 345234523]],\n",
       " complex: [(6+7j)]}"
      ]
     },
     "execution_count": 27,
     "metadata": {},
     "output_type": "execute_result"
    }
   ],
   "source": [
    "vivek2(1233,[34234523],23453245,[23452345,345234523], 6+7j)"
   ]
  },
  {
   "cell_type": "code",
   "execution_count": null,
   "id": "c3518c64",
   "metadata": {},
   "outputs": [],
   "source": []
  },
  {
   "cell_type": "code",
   "execution_count": null,
   "id": "c5338ce3",
   "metadata": {},
   "outputs": [],
   "source": []
  },
  {
   "cell_type": "code",
   "execution_count": null,
   "id": "f60ebed1",
   "metadata": {},
   "outputs": [],
   "source": []
  }
 ],
 "metadata": {
  "kernelspec": {
   "display_name": "Python 3 (ipykernel)",
   "language": "python",
   "name": "python3"
  },
  "language_info": {
   "codemirror_mode": {
    "name": "ipython",
    "version": 3
   },
   "file_extension": ".py",
   "mimetype": "text/x-python",
   "name": "python",
   "nbconvert_exporter": "python",
   "pygments_lexer": "ipython3",
   "version": "3.9.7"
  }
 },
 "nbformat": 4,
 "nbformat_minor": 5
}
