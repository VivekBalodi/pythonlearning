{
 "cells": [
  {
   "cell_type": "code",
   "execution_count": null,
   "id": "e858b495",
   "metadata": {},
   "outputs": [],
   "source": []
  },
  {
   "cell_type": "code",
   "execution_count": 1,
   "id": "5e3e0e26",
   "metadata": {},
   "outputs": [],
   "source": [
    "c = \"I am learning python\""
   ]
  },
  {
   "cell_type": "code",
   "execution_count": 2,
   "id": "b106a030",
   "metadata": {},
   "outputs": [
    {
     "data": {
      "text/plain": [
       "'I am learning python'"
      ]
     },
     "execution_count": 2,
     "metadata": {},
     "output_type": "execute_result"
    }
   ],
   "source": [
    "c"
   ]
  },
  {
   "cell_type": "code",
   "execution_count": null,
   "id": "bffeff49",
   "metadata": {},
   "outputs": [],
   "source": [
    "# if you give any \" in between string it will give you en error"
   ]
  },
  {
   "cell_type": "code",
   "execution_count": 5,
   "id": "f1052184",
   "metadata": {},
   "outputs": [
    {
     "ename": "SyntaxError",
     "evalue": "invalid syntax (Temp/ipykernel_29352/1094796146.py, line 1)",
     "output_type": "error",
     "traceback": [
      "\u001b[1;36m  File \u001b[1;32m\"C:\\Users\\VIVEKB~1\\AppData\\Local\\Temp/ipykernel_29352/1094796146.py\"\u001b[1;36m, line \u001b[1;32m1\u001b[0m\n\u001b[1;33m    d = \"Hello i am learning python \"  with pythonlearn\"\u001b[0m\n\u001b[1;37m                                       ^\u001b[0m\n\u001b[1;31mSyntaxError\u001b[0m\u001b[1;31m:\u001b[0m invalid syntax\n"
     ]
    }
   ],
   "source": [
    "d = \"Hello i am learning python \"  with pythonlearn\""
   ]
  },
  {
   "cell_type": "code",
   "execution_count": 4,
   "id": "395ff226",
   "metadata": {},
   "outputs": [
    {
     "data": {
      "text/plain": [
       "'Hello i am learning python with pythonlearn'"
      ]
     },
     "execution_count": 4,
     "metadata": {},
     "output_type": "execute_result"
    }
   ],
   "source": [
    "d"
   ]
  },
  {
   "cell_type": "code",
   "execution_count": 6,
   "id": "677d94fd",
   "metadata": {},
   "outputs": [],
   "source": [
    "# if you use a sing ' then it will not give you any error"
   ]
  },
  {
   "cell_type": "code",
   "execution_count": 7,
   "id": "6f724c38",
   "metadata": {},
   "outputs": [],
   "source": [
    "d = \"I am learning python from youtube you guy's also can join there\""
   ]
  },
  {
   "cell_type": "code",
   "execution_count": 8,
   "id": "dc226eb2",
   "metadata": {},
   "outputs": [
    {
     "data": {
      "text/plain": [
       "\"I am learning python from youtube you guy's also can join there\""
      ]
     },
     "execution_count": 8,
     "metadata": {},
     "output_type": "execute_result"
    }
   ],
   "source": [
    "d"
   ]
  },
  {
   "cell_type": "code",
   "execution_count": 9,
   "id": "006fdf29",
   "metadata": {},
   "outputs": [
    {
     "data": {
      "text/plain": [
       "63"
      ]
     },
     "execution_count": 9,
     "metadata": {},
     "output_type": "execute_result"
    }
   ],
   "source": [
    "len(d)  #to find the total number of character inside the string"
   ]
  },
  {
   "cell_type": "code",
   "execution_count": 10,
   "id": "a89d475d",
   "metadata": {},
   "outputs": [
    {
     "data": {
      "text/plain": [
       "'s also can join t'"
      ]
     },
     "execution_count": 10,
     "metadata": {},
     "output_type": "execute_result"
    }
   ],
   "source": [
    "d[42:59] # if you want to get data from the string"
   ]
  },
  {
   "cell_type": "code",
   "execution_count": 13,
   "id": "c2f3de37",
   "metadata": {},
   "outputs": [
    {
     "data": {
      "text/plain": [
       "'ereht nioj '"
      ]
     },
     "execution_count": 13,
     "metadata": {},
     "output_type": "execute_result"
    }
   ],
   "source": [
    "d[-1:-12:-1] #if you want to reverse the string"
   ]
  },
  {
   "cell_type": "markdown",
   "id": "330beb8f",
   "metadata": {},
   "source": [
    "Print the string with the help of for loops"
   ]
  },
  {
   "cell_type": "code",
   "execution_count": 14,
   "id": "a05d1beb",
   "metadata": {},
   "outputs": [
    {
     "name": "stdout",
     "output_type": "stream",
     "text": [
      "I\n",
      " \n",
      "a\n",
      "m\n",
      " \n",
      "l\n",
      "e\n",
      "a\n",
      "r\n",
      "n\n",
      "i\n",
      "n\n",
      "g\n",
      " \n",
      "p\n",
      "y\n",
      "t\n",
      "h\n",
      "o\n",
      "n\n",
      " \n",
      "f\n",
      "r\n",
      "o\n",
      "m\n",
      " \n",
      "y\n",
      "o\n",
      "u\n",
      "t\n",
      "u\n",
      "b\n",
      "e\n",
      " \n",
      "y\n",
      "o\n",
      "u\n",
      " \n",
      "g\n",
      "u\n",
      "y\n",
      "'\n",
      "s\n",
      " \n",
      "a\n",
      "l\n",
      "s\n",
      "o\n",
      " \n",
      "c\n",
      "a\n",
      "n\n",
      " \n",
      "j\n",
      "o\n",
      "i\n",
      "n\n",
      " \n",
      "t\n",
      "h\n",
      "e\n",
      "r\n",
      "e\n"
     ]
    }
   ],
   "source": [
    "for i in d:\n",
    "    print(i)"
   ]
  },
  {
   "cell_type": "code",
   "execution_count": null,
   "id": "cf0f3d62",
   "metadata": {},
   "outputs": [],
   "source": [
    "# other way to do samething is----"
   ]
  },
  {
   "cell_type": "code",
   "execution_count": 16,
   "id": "d214c9ce",
   "metadata": {},
   "outputs": [
    {
     "name": "stdout",
     "output_type": "stream",
     "text": [
      "I\n",
      " \n",
      "a\n",
      "m\n",
      " \n",
      "l\n",
      "e\n",
      "a\n",
      "r\n",
      "n\n",
      "i\n",
      "n\n",
      "g\n",
      " \n",
      "p\n",
      "y\n",
      "t\n",
      "h\n",
      "o\n",
      "n\n",
      " \n",
      "f\n",
      "r\n",
      "o\n",
      "m\n",
      " \n",
      "y\n",
      "o\n",
      "u\n",
      "t\n",
      "u\n",
      "b\n",
      "e\n",
      " \n",
      "y\n",
      "o\n",
      "u\n",
      " \n",
      "g\n",
      "u\n",
      "y\n",
      "'\n",
      "s\n",
      " \n",
      "a\n",
      "l\n",
      "s\n",
      "o\n",
      " \n",
      "c\n",
      "a\n",
      "n\n",
      " \n",
      "j\n",
      "o\n",
      "i\n",
      "n\n",
      " \n",
      "t\n",
      "h\n",
      "e\n",
      "r\n",
      "e\n"
     ]
    }
   ],
   "source": [
    "for i in range(len(d)):\n",
    "    print(d[i])"
   ]
  },
  {
   "cell_type": "markdown",
   "id": "d009e051",
   "metadata": {},
   "source": [
    "# how to print a string in reverse order"
   ]
  },
  {
   "cell_type": "code",
   "execution_count": 22,
   "id": "fcb48333",
   "metadata": {},
   "outputs": [
    {
     "name": "stdout",
     "output_type": "stream",
     "text": [
      "I\n",
      "e\n",
      "r\n",
      "e\n",
      "h\n",
      "t\n",
      " \n",
      "n\n",
      "i\n",
      "o\n",
      "j\n",
      " \n",
      "n\n",
      "a\n",
      "c\n",
      " \n",
      "o\n",
      "s\n",
      "l\n",
      "a\n",
      " \n",
      "s\n",
      "'\n",
      "y\n",
      "u\n",
      "g\n",
      " \n",
      "u\n",
      "o\n",
      "y\n",
      " \n",
      "e\n",
      "b\n",
      "u\n",
      "t\n",
      "u\n",
      "o\n",
      "y\n",
      " \n",
      "m\n",
      "o\n",
      "r\n",
      "f\n",
      " \n",
      "n\n",
      "o\n",
      "h\n",
      "t\n",
      "y\n",
      "p\n",
      " \n",
      "g\n",
      "n\n",
      "i\n",
      "n\n",
      "r\n",
      "a\n",
      "e\n",
      "l\n",
      " \n",
      "m\n",
      "a\n",
      " \n"
     ]
    }
   ],
   "source": [
    "for i in range(len(d)):\n",
    "    print(d[-i])"
   ]
  },
  {
   "cell_type": "code",
   "execution_count": 23,
   "id": "9ec7fb4f",
   "metadata": {},
   "outputs": [],
   "source": [
    "a = \"my name is vivek balodi\""
   ]
  },
  {
   "cell_type": "code",
   "execution_count": 30,
   "id": "c61039d9",
   "metadata": {},
   "outputs": [
    {
     "data": {
      "text/plain": [
       "8"
      ]
     },
     "execution_count": 30,
     "metadata": {},
     "output_type": "execute_result"
    }
   ],
   "source": [
    "a.find(\"i\")"
   ]
  },
  {
   "cell_type": "code",
   "execution_count": null,
   "id": "7cc5e8b5",
   "metadata": {},
   "outputs": [],
   "source": [
    "# task how to find the first name character index"
   ]
  },
  {
   "cell_type": "code",
   "execution_count": 39,
   "id": "f85d630d",
   "metadata": {},
   "outputs": [
    {
     "name": "stdout",
     "output_type": "stream",
     "text": [
      "3\n",
      "4\n",
      "5\n",
      "6\n"
     ]
    }
   ],
   "source": [
    "b = \"my name is vivek , my org name is atos\"\n",
    "c = b.find(\"name\")\n",
    "for i in range(len(\"name\")):\n",
    "    print(c+i)"
   ]
  },
  {
   "cell_type": "code",
   "execution_count": 36,
   "id": "eef01c2b",
   "metadata": {},
   "outputs": [],
   "source": [
    "# to check count of a particular data"
   ]
  },
  {
   "cell_type": "code",
   "execution_count": 40,
   "id": "333a2457",
   "metadata": {},
   "outputs": [
    {
     "data": {
      "text/plain": [
       "'my name is vivek , my org name is atos'"
      ]
     },
     "execution_count": 40,
     "metadata": {},
     "output_type": "execute_result"
    }
   ],
   "source": [
    "b"
   ]
  },
  {
   "cell_type": "code",
   "execution_count": 41,
   "id": "334b9531",
   "metadata": {},
   "outputs": [
    {
     "data": {
      "text/plain": [
       "2"
      ]
     },
     "execution_count": 41,
     "metadata": {},
     "output_type": "execute_result"
    }
   ],
   "source": [
    "b.count(\"n\")  #there it is showing how we find the count of any data,  "
   ]
  },
  {
   "cell_type": "code",
   "execution_count": 47,
   "id": "f13a2b7c",
   "metadata": {},
   "outputs": [],
   "source": [
    "a = \"My name is vivek balodi, my org Name is tcs\"  #count is a case sensitive function"
   ]
  },
  {
   "cell_type": "code",
   "execution_count": 44,
   "id": "c41b632d",
   "metadata": {},
   "outputs": [
    {
     "data": {
      "text/plain": [
       "1"
      ]
     },
     "execution_count": 44,
     "metadata": {},
     "output_type": "execute_result"
    }
   ],
   "source": [
    "a.count(\"My\") #as this is case sensitive show it is showing only one My"
   ]
  },
  {
   "cell_type": "code",
   "execution_count": 45,
   "id": "5a421de0",
   "metadata": {},
   "outputs": [
    {
     "data": {
      "text/plain": [
       "['My',\n",
       " 'name',\n",
       " 'is',\n",
       " 'vivek',\n",
       " 'balodi',\n",
       " 'and',\n",
       " 'my',\n",
       " 'org',\n",
       " 'Name',\n",
       " 'is',\n",
       " 'tcs']"
      ]
     },
     "execution_count": 45,
     "metadata": {},
     "output_type": "execute_result"
    }
   ],
   "source": [
    "a.split()   #default split is white space"
   ]
  },
  {
   "cell_type": "code",
   "execution_count": 48,
   "id": "820a7953",
   "metadata": {},
   "outputs": [
    {
     "data": {
      "text/plain": [
       "['My name is vivek balodi', ' my org Name is tcs']"
      ]
     },
     "execution_count": 48,
     "metadata": {},
     "output_type": "execute_result"
    }
   ],
   "source": [
    "a.split(\",\")   # if you want to split your string with , "
   ]
  },
  {
   "cell_type": "code",
   "execution_count": 50,
   "id": "b8f306dc",
   "metadata": {},
   "outputs": [
    {
     "data": {
      "text/plain": [
       "['My na', 'e is vivek balodi, ', 'y org Na', 'e is tcs']"
      ]
     },
     "execution_count": 50,
     "metadata": {},
     "output_type": "execute_result"
    }
   ],
   "source": [
    "a.split(\"m\")   #you can also split by the any character "
   ]
  },
  {
   "cell_type": "code",
   "execution_count": 51,
   "id": "f2be8273",
   "metadata": {},
   "outputs": [
    {
     "data": {
      "text/plain": [
       "'MY NAME IS VIVEK BALODI, MY ORG NAME IS TCS'"
      ]
     },
     "execution_count": 51,
     "metadata": {},
     "output_type": "execute_result"
    }
   ],
   "source": [
    "a.upper()   #if you want to convert you sting in upper case"
   ]
  },
  {
   "cell_type": "code",
   "execution_count": 52,
   "id": "663bf401",
   "metadata": {},
   "outputs": [
    {
     "data": {
      "text/plain": [
       "'my name is vivek balodi, my org name is tcs'"
      ]
     },
     "execution_count": 52,
     "metadata": {},
     "output_type": "execute_result"
    }
   ],
   "source": [
    "a.lower()  #if you want to print your data in lower case"
   ]
  },
  {
   "cell_type": "code",
   "execution_count": 53,
   "id": "8be71e6c",
   "metadata": {},
   "outputs": [
    {
     "data": {
      "text/plain": [
       "'mY NAME IS VIVEK BALODI, MY ORG nAME IS TCS'"
      ]
     },
     "execution_count": 53,
     "metadata": {},
     "output_type": "execute_result"
    }
   ],
   "source": [
    "a.swapcase()   #swapcase means wherever you have upppe it will in lower and same for lower case"
   ]
  },
  {
   "cell_type": "code",
   "execution_count": 56,
   "id": "43538584",
   "metadata": {},
   "outputs": [
    {
     "data": {
      "text/plain": [
       "'M y   n a m e   i s   v i v e k   b a l o d i ,   m y   o r g   N a m e   i s   t c s'"
      ]
     },
     "execution_count": 56,
     "metadata": {},
     "output_type": "execute_result"
    }
   ],
   "source": [
    "\" \".join(a)   # it will join a space after every character"
   ]
  },
  {
   "cell_type": "code",
   "execution_count": 57,
   "id": "cb6ecfa1",
   "metadata": {},
   "outputs": [
    {
     "data": {
      "text/plain": [
       "'Mvyv vnvavmvev vivsv vvvivvvevkv vbvavlvovdviv,v vmvyv vovrvgv vNvavmvev vivsv vtvcvs'"
      ]
     },
     "execution_count": 57,
     "metadata": {},
     "output_type": "execute_result"
    }
   ],
   "source": [
    "\"v\".join(a)   #this will join v after every character"
   ]
  },
  {
   "cell_type": "code",
   "execution_count": 58,
   "id": "1e223b23",
   "metadata": {},
   "outputs": [
    {
     "data": {
      "text/plain": [
       "<reversed at 0x23ae6b71b20>"
      ]
     },
     "execution_count": 58,
     "metadata": {},
     "output_type": "execute_result"
    }
   ],
   "source": [
    "reversed(a)  # it will reverse the data in object format but you will not understand this, "
   ]
  },
  {
   "cell_type": "code",
   "execution_count": 59,
   "id": "bdfd1c53",
   "metadata": {},
   "outputs": [
    {
     "data": {
      "text/plain": [
       "['s',\n",
       " 'c',\n",
       " 't',\n",
       " ' ',\n",
       " 's',\n",
       " 'i',\n",
       " ' ',\n",
       " 'e',\n",
       " 'm',\n",
       " 'a',\n",
       " 'N',\n",
       " ' ',\n",
       " 'g',\n",
       " 'r',\n",
       " 'o',\n",
       " ' ',\n",
       " 'y',\n",
       " 'm',\n",
       " ' ',\n",
       " ',',\n",
       " 'i',\n",
       " 'd',\n",
       " 'o',\n",
       " 'l',\n",
       " 'a',\n",
       " 'b',\n",
       " ' ',\n",
       " 'k',\n",
       " 'e',\n",
       " 'v',\n",
       " 'i',\n",
       " 'v',\n",
       " ' ',\n",
       " 's',\n",
       " 'i',\n",
       " ' ',\n",
       " 'e',\n",
       " 'm',\n",
       " 'a',\n",
       " 'n',\n",
       " ' ',\n",
       " 'y',\n",
       " 'M']"
      ]
     },
     "execution_count": 59,
     "metadata": {},
     "output_type": "execute_result"
    }
   ],
   "source": [
    "list(reversed(a))  # to understand reversed function you need to convert it into a list"
   ]
  },
  {
   "cell_type": "code",
   "execution_count": null,
   "id": "04ef99ee",
   "metadata": {},
   "outputs": [],
   "source": []
  }
 ],
 "metadata": {
  "kernelspec": {
   "display_name": "Python 3 (ipykernel)",
   "language": "python",
   "name": "python3"
  },
  "language_info": {
   "codemirror_mode": {
    "name": "ipython",
    "version": 3
   },
   "file_extension": ".py",
   "mimetype": "text/x-python",
   "name": "python",
   "nbconvert_exporter": "python",
   "pygments_lexer": "ipython3",
   "version": "3.9.7"
  }
 },
 "nbformat": 4,
 "nbformat_minor": 5
}
