{
 "cells": [
  {
   "cell_type": "markdown",
   "id": "5dab2d14",
   "metadata": {},
   "source": [
    "# notes = 5\n",
    "i = 1\n",
    "while i<notes:\n",
    "    print(i)\n",
    "    i +=1\n",
    "else:\n",
    "    print(\"no 10Rs notes are available\")"
   ]
  },
  {
   "cell_type": "code",
   "execution_count": 9,
   "id": "3631c981",
   "metadata": {},
   "outputs": [
    {
     "name": "stdout",
     "output_type": "stream",
     "text": [
      "1\n",
      "2\n",
      "3\n",
      "4\n",
      "5\n",
      "no 10Rs notes are available\n"
     ]
    }
   ],
   "source": [
    "notes = 5\n",
    "i = 1\n",
    "j = 1\n",
    "while i<notes:\n",
    "    print(i)\n",
    "    i +=1\n",
    "else:\n",
    "    while j < 2:\n",
    "        print(i)\n",
    "        j = j+1\n",
    "    print(\"no 10Rs notes are available\")"
   ]
  },
  {
   "cell_type": "code",
   "execution_count": 12,
   "id": "6a069f6e",
   "metadata": {},
   "outputs": [
    {
     "data": {
      "text/plain": [
       "'d'"
      ]
     },
     "execution_count": 12,
     "metadata": {},
     "output_type": "execute_result"
    }
   ],
   "source": [
    "s = \"balodiG\"\n",
    "s[4]"
   ]
  },
  {
   "cell_type": "code",
   "execution_count": 13,
   "id": "cde83483",
   "metadata": {},
   "outputs": [
    {
     "name": "stdout",
     "output_type": "stream",
     "text": [
      "G\n"
     ]
    }
   ],
   "source": [
    "print(s[6])"
   ]
  },
  {
   "cell_type": "code",
   "execution_count": 14,
   "id": "226652d3",
   "metadata": {},
   "outputs": [
    {
     "data": {
      "text/plain": [
       "'l'"
      ]
     },
     "execution_count": 14,
     "metadata": {},
     "output_type": "execute_result"
    }
   ],
   "source": [
    "s[2]"
   ]
  },
  {
   "cell_type": "code",
   "execution_count": 21,
   "id": "227f2c2d",
   "metadata": {},
   "outputs": [
    {
     "data": {
      "text/plain": [
       "'name is'"
      ]
     },
     "execution_count": 21,
     "metadata": {},
     "output_type": "execute_result"
    }
   ],
   "source": [
    "s = \"my name is vivek balodi\"\n",
    "s[3:10]"
   ]
  },
  {
   "cell_type": "code",
   "execution_count": null,
   "id": "3cedc5b8",
   "metadata": {},
   "outputs": [],
   "source": [
    "To jump string"
   ]
  },
  {
   "cell_type": "code",
   "execution_count": 26,
   "id": "ce443336",
   "metadata": {},
   "outputs": [
    {
     "data": {
      "text/plain": [
       "'name is'"
      ]
     },
     "execution_count": 26,
     "metadata": {},
     "output_type": "execute_result"
    }
   ],
   "source": [
    "s[3:10:1]"
   ]
  },
  {
   "cell_type": "code",
   "execution_count": 27,
   "id": "a57a6592",
   "metadata": {},
   "outputs": [
    {
     "data": {
      "text/plain": [
       "'nm s'"
      ]
     },
     "execution_count": 27,
     "metadata": {},
     "output_type": "execute_result"
    }
   ],
   "source": [
    "s[3:10:2]"
   ]
  },
  {
   "cell_type": "code",
   "execution_count": 30,
   "id": "8af3bfa5",
   "metadata": {},
   "outputs": [
    {
     "data": {
      "text/plain": [
       "'idolab keviv si eman y'"
      ]
     },
     "execution_count": 30,
     "metadata": {},
     "output_type": "execute_result"
    }
   ],
   "source": [
    "s[-1:0:-1]"
   ]
  },
  {
   "cell_type": "code",
   "execution_count": 32,
   "id": "0a0cf722",
   "metadata": {},
   "outputs": [
    {
     "data": {
      "text/plain": [
       "'idolab keviv si eman ym'"
      ]
     },
     "execution_count": 32,
     "metadata": {},
     "output_type": "execute_result"
    }
   ],
   "source": [
    "s[::-1]"
   ]
  },
  {
   "cell_type": "markdown",
   "id": "18756055",
   "metadata": {},
   "source": [
    "# EXAMPLE OF FOR LOOPS\n"
   ]
  },
  {
   "cell_type": "code",
   "execution_count": 3,
   "id": "d7d83c34",
   "metadata": {},
   "outputs": [],
   "source": [
    "s = \"my name is vivek balodi\""
   ]
  },
  {
   "cell_type": "code",
   "execution_count": 6,
   "id": "35e3d5de",
   "metadata": {},
   "outputs": [
    {
     "name": "stdout",
     "output_type": "stream",
     "text": [
      "m\n",
      "y\n",
      " \n",
      "n\n",
      "Hey, balodi G\n",
      "a\n",
      "m\n",
      "e\n",
      " \n",
      "i\n",
      "s\n",
      " \n",
      "v\n",
      "i\n",
      "v\n",
      "e\n",
      "k\n",
      " \n",
      "b\n",
      "Hey, balodi G\n",
      "a\n",
      "l\n",
      "o\n",
      "d\n",
      "i\n"
     ]
    }
   ],
   "source": [
    "for i in s:\n",
    "    if i =='a':\n",
    "        print(\"Hey, balodi G\")\n",
    "    print(i)"
   ]
  },
  {
   "cell_type": "markdown",
   "id": "d8bcf371",
   "metadata": {},
   "source": [
    "# else condition in for loops"
   ]
  },
  {
   "cell_type": "code",
   "execution_count": 3,
   "id": "a6032a5e",
   "metadata": {},
   "outputs": [
    {
     "name": "stdout",
     "output_type": "stream",
     "text": [
      "m\n",
      "y\n",
      " \n",
      "n\n",
      "a\n",
      "m\n",
      "e\n",
      " \n",
      "i\n",
      "s\n",
      " \n",
      "v\n",
      "i\n",
      "v\n",
      "e\n",
      "k\n",
      " \n",
      "b\n",
      "a\n",
      "l\n",
      "o\n",
      "d\n",
      "i\n",
      "I got you boss\n",
      "this is end of loops\n"
     ]
    }
   ],
   "source": [
    "for i in s:\n",
    "    print(i)\n",
    "    #if after the for loops you want to do some kind of validation then you can use else condition\n",
    "else:\n",
    "    if i == 'i':\n",
    "        print(\"I got you boss\")\n",
    "    print(\"this is end of loops\")"
   ]
  },
  {
   "cell_type": "code",
   "execution_count": 4,
   "id": "c1cc6289",
   "metadata": {},
   "outputs": [],
   "source": [
    "s = \"my name is vivek balodi\""
   ]
  },
  {
   "cell_type": "code",
   "execution_count": 15,
   "id": "5606fa40",
   "metadata": {},
   "outputs": [
    {
     "name": "stdout",
     "output_type": "stream",
     "text": [
      "h\n",
      "e\n",
      "l\n",
      "l\n",
      "o\n",
      " \n",
      "i\n",
      "n\n"
     ]
    }
   ],
   "source": [
    "s = \"hello india ! \"\n",
    "for i in s :\n",
    "    if i == 'd':\n",
    "        break\n",
    "    print(i)\n",
    "    # if you want to break for loops after getting you data\n",
    "else:\n",
    "    if i == 'i':\n",
    "        print(\"I got you boss\")\n",
    "    print(\"this is end of loops\")"
   ]
  },
  {
   "cell_type": "code",
   "execution_count": 17,
   "id": "a377c58c",
   "metadata": {},
   "outputs": [
    {
     "name": "stdout",
     "output_type": "stream",
     "text": [
      "h\n",
      "e\n",
      "l\n",
      "l\n",
      "o\n",
      " \n",
      "!\n",
      " \n",
      "I\n",
      " \n",
      "L\n",
      "O\n",
      "V\n",
      "E\n",
      " \n",
      "M\n",
      "Y\n",
      " \n",
      "I\n",
      "n\n",
      "i\n",
      "a\n",
      ".\n",
      "this is end of loops\n"
     ]
    }
   ],
   "source": [
    "s = \"hello ! I LOVE MY India.\"\n",
    "for i in s :\n",
    "    if i == 'd':\n",
    "        continue # here it will not print d, it will continue from i , Continue statement directly give control back to \n",
    "        # for loops so it will just skip printing d\n",
    "    print(i)\n",
    "else:\n",
    "    if i == 'i':\n",
    "        print(\"I got you boss\")\n",
    "    print(\"this is end of loops\")"
   ]
  },
  {
   "cell_type": "code",
   "execution_count": null,
   "id": "a3777a8a",
   "metadata": {},
   "outputs": [],
   "source": []
  },
  {
   "cell_type": "code",
   "execution_count": null,
   "id": "0f78183c",
   "metadata": {},
   "outputs": [],
   "source": []
  }
 ],
 "metadata": {
  "kernelspec": {
   "display_name": "Python 3 (ipykernel)",
   "language": "python",
   "name": "python3"
  },
  "language_info": {
   "codemirror_mode": {
    "name": "ipython",
    "version": 3
   },
   "file_extension": ".py",
   "mimetype": "text/x-python",
   "name": "python",
   "nbconvert_exporter": "python",
   "pygments_lexer": "ipython3",
   "version": "3.9.7"
  }
 },
 "nbformat": 4,
 "nbformat_minor": 5
}
