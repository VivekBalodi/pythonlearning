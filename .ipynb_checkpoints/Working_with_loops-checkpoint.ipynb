{
 "cells": [
  {
   "cell_type": "code",
   "execution_count": 1,
   "id": "2cc91645",
   "metadata": {},
   "outputs": [
    {
     "name": "stdout",
     "output_type": "stream",
     "text": [
      "1\n",
      "2\n",
      "3\n",
      "4\n",
      "There is no 5Rs notes are left\n"
     ]
    }
   ],
   "source": [
    "notes = 5\n",
    "i = 1\n",
    "while i < notes :\n",
    "    print(i)\n",
    "    i +=1\n",
    "else:\n",
    "    print(\"There is no 5Rs notes are left\")"
   ]
  },
  {
   "cell_type": "markdown",
   "id": "9827b97e",
   "metadata": {},
   "source": [
    "# Another way to do same thing"
   ]
  },
  {
   "cell_type": "code",
   "execution_count": 3,
   "id": "ecd0086e",
   "metadata": {},
   "outputs": [
    {
     "name": "stdout",
     "output_type": "stream",
     "text": [
      "1\n",
      "2\n",
      "3\n",
      "4\n",
      "5\n",
      "There is no 5Rs notes are left\n"
     ]
    }
   ],
   "source": [
    "notes = 5\n",
    "i = 1\n",
    "j = 1\n",
    "while i < notes :\n",
    "    print(i)\n",
    "    i +=1\n",
    "else:\n",
    "    while j < 2:\n",
    "        print(i)\n",
    "        j = j +1\n",
    "        \n",
    "    print(\"There is no 5Rs notes are left\")"
   ]
  },
  {
   "cell_type": "markdown",
   "id": "62ec75dc",
   "metadata": {},
   "source": [
    "# Getting data from a string"
   ]
  },
  {
   "cell_type": "code",
   "execution_count": 11,
   "id": "a183c541",
   "metadata": {},
   "outputs": [],
   "source": [
    "s = \"school\""
   ]
  },
  {
   "cell_type": "code",
   "execution_count": 13,
   "id": "61dad43b",
   "metadata": {},
   "outputs": [
    {
     "data": {
      "text/plain": [
       "'l'"
      ]
     },
     "execution_count": 13,
     "metadata": {},
     "output_type": "execute_result"
    }
   ],
   "source": [
    "s[5]"
   ]
  },
  {
   "cell_type": "code",
   "execution_count": 14,
   "id": "1c431215",
   "metadata": {},
   "outputs": [],
   "source": [
    "s = \"My school name is MDVM\""
   ]
  },
  {
   "cell_type": "code",
   "execution_count": null,
   "id": "c2d2549b",
   "metadata": {},
   "outputs": [],
   "source": []
  }
 ],
 "metadata": {
  "kernelspec": {
   "display_name": "Python 3 (ipykernel)",
   "language": "python",
   "name": "python3"
  },
  "language_info": {
   "codemirror_mode": {
    "name": "ipython",
    "version": 3
   },
   "file_extension": ".py",
   "mimetype": "text/x-python",
   "name": "python",
   "nbconvert_exporter": "python",
   "pygments_lexer": "ipython3",
   "version": "3.9.7"
  }
 },
 "nbformat": 4,
 "nbformat_minor": 5
}
