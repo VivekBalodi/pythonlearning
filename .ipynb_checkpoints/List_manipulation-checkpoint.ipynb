{
 "cells": [
  {
   "cell_type": "code",
   "execution_count": 1,
   "id": "6e791343",
   "metadata": {},
   "outputs": [],
   "source": [
    "l = [\"vivek\", 23,23,5,535, [\"balodi\", 22,551,12,], \"hello\"]"
   ]
  },
  {
   "cell_type": "code",
   "execution_count": 2,
   "id": "6776ef3e",
   "metadata": {},
   "outputs": [
    {
     "name": "stdout",
     "output_type": "stream",
     "text": [
      "vivek\n",
      "23\n",
      "23\n",
      "5\n",
      "535\n",
      "['balodi', 22, 551, 12]\n",
      "hello\n"
     ]
    }
   ],
   "source": [
    "for i in l:\n",
    "    print(i)"
   ]
  },
  {
   "cell_type": "code",
   "execution_count": 3,
   "id": "e6d05d1e",
   "metadata": {},
   "outputs": [],
   "source": [
    "# list is always store the data in the form of indexes "
   ]
  },
  {
   "cell_type": "code",
   "execution_count": 4,
   "id": "e89c280b",
   "metadata": {},
   "outputs": [
    {
     "data": {
      "text/plain": [
       "'vivek'"
      ]
     },
     "execution_count": 4,
     "metadata": {},
     "output_type": "execute_result"
    }
   ],
   "source": [
    "l[0]"
   ]
  },
  {
   "cell_type": "code",
   "execution_count": 5,
   "id": "9f2549ea",
   "metadata": {},
   "outputs": [
    {
     "data": {
      "text/plain": [
       "['hello', ['balodi', 22, 551, 12], 535, 5, 23, 23, 'vivek']"
      ]
     },
     "execution_count": 5,
     "metadata": {},
     "output_type": "execute_result"
    }
   ],
   "source": [
    "l[::-1]  # if you want to reverse a list"
   ]
  },
  {
   "cell_type": "code",
   "execution_count": 6,
   "id": "aea810fa",
   "metadata": {},
   "outputs": [],
   "source": [
    "# if you want to print only list form this list"
   ]
  },
  {
   "cell_type": "code",
   "execution_count": 8,
   "id": "9b0bc352",
   "metadata": {},
   "outputs": [
    {
     "name": "stdout",
     "output_type": "stream",
     "text": [
      "this is not a list vivek\n",
      "this is not a list 23\n",
      "this is not a list 23\n",
      "this is not a list 5\n",
      "this is not a list 535\n",
      "this is list ['balodi', 22, 551, 12]\n",
      "this is not a list hello\n"
     ]
    }
   ],
   "source": [
    "for i in l:\n",
    "    if type(i)==list:\n",
    "        print(\"this is list\", i)\n",
    "    else:\n",
    "        print(\"this is not a list\", i)\n",
    "    "
   ]
  },
  {
   "cell_type": "code",
   "execution_count": 9,
   "id": "15940300",
   "metadata": {},
   "outputs": [
    {
     "data": {
      "text/plain": [
       "['vivek', 23, 23, 5, 535, ['balodi', 22, 551, 12], 'hello']"
      ]
     },
     "execution_count": 9,
     "metadata": {},
     "output_type": "execute_result"
    }
   ],
   "source": [
    "l"
   ]
  },
  {
   "cell_type": "code",
   "execution_count": 10,
   "id": "96ed49cf",
   "metadata": {},
   "outputs": [],
   "source": [
    "l1 = [\"balodi\", 2521,454,]"
   ]
  },
  {
   "cell_type": "code",
   "execution_count": 12,
   "id": "c94cc5eb",
   "metadata": {},
   "outputs": [
    {
     "data": {
      "text/plain": [
       "['vivek',\n",
       " 23,\n",
       " 23,\n",
       " 5,\n",
       " 535,\n",
       " ['balodi', 22, 551, 12],\n",
       " 'hello',\n",
       " 'balodi',\n",
       " 2521,\n",
       " 454]"
      ]
     },
     "execution_count": 12,
     "metadata": {},
     "output_type": "execute_result"
    }
   ],
   "source": [
    "l + l1"
   ]
  },
  {
   "cell_type": "code",
   "execution_count": 13,
   "id": "79ecd911",
   "metadata": {},
   "outputs": [
    {
     "data": {
      "text/plain": [
       "['vivek',\n",
       " 23,\n",
       " 23,\n",
       " 5,\n",
       " 535,\n",
       " ['balodi', 22, 551, 12],\n",
       " 'hello',\n",
       " 'vivek',\n",
       " 23,\n",
       " 23,\n",
       " 5,\n",
       " 535,\n",
       " ['balodi', 22, 551, 12],\n",
       " 'hello']"
      ]
     },
     "execution_count": 13,
     "metadata": {},
     "output_type": "execute_result"
    }
   ],
   "source": [
    "l*2"
   ]
  },
  {
   "cell_type": "code",
   "execution_count": 14,
   "id": "5f82f149",
   "metadata": {},
   "outputs": [
    {
     "data": {
      "text/plain": [
       "7"
      ]
     },
     "execution_count": 14,
     "metadata": {},
     "output_type": "execute_result"
    }
   ],
   "source": [
    "len(l)"
   ]
  },
  {
   "cell_type": "code",
   "execution_count": 16,
   "id": "42aadf77",
   "metadata": {},
   "outputs": [
    {
     "data": {
      "text/plain": [
       "False"
      ]
     },
     "execution_count": 16,
     "metadata": {},
     "output_type": "execute_result"
    }
   ],
   "source": [
    "True in l   #if you want to check element is available inside the list or not"
   ]
  },
  {
   "cell_type": "code",
   "execution_count": 18,
   "id": "8f197fb0",
   "metadata": {},
   "outputs": [
    {
     "data": {
      "text/plain": [
       "True"
      ]
     },
     "execution_count": 18,
     "metadata": {},
     "output_type": "execute_result"
    }
   ],
   "source": [
    "23 in l"
   ]
  },
  {
   "cell_type": "code",
   "execution_count": 19,
   "id": "cdd0295d",
   "metadata": {},
   "outputs": [],
   "source": [
    "l = [23,43,4535,23243]"
   ]
  },
  {
   "cell_type": "code",
   "execution_count": 20,
   "id": "839dd278",
   "metadata": {},
   "outputs": [],
   "source": [
    "l.append(\"balodi\")   #if you want to append something end of the list "
   ]
  },
  {
   "cell_type": "code",
   "execution_count": 21,
   "id": "78be15a2",
   "metadata": {},
   "outputs": [
    {
     "data": {
      "text/plain": [
       "[23, 43, 4535, 23243, 'balodi']"
      ]
     },
     "execution_count": 21,
     "metadata": {},
     "output_type": "execute_result"
    }
   ],
   "source": [
    "l"
   ]
  },
  {
   "cell_type": "code",
   "execution_count": 22,
   "id": "d77259aa",
   "metadata": {},
   "outputs": [],
   "source": [
    "# if you want to append something in between of list then you have to use insert function\n",
    "# by the help of index you can append anything at any index place"
   ]
  },
  {
   "cell_type": "code",
   "execution_count": 23,
   "id": "d9a9825a",
   "metadata": {},
   "outputs": [
    {
     "data": {
      "text/plain": [
       "[23, 43, 4535, 23243, 'balodi']"
      ]
     },
     "execution_count": 23,
     "metadata": {},
     "output_type": "execute_result"
    }
   ],
   "source": [
    "l"
   ]
  },
  {
   "cell_type": "code",
   "execution_count": 24,
   "id": "4cd88766",
   "metadata": {},
   "outputs": [],
   "source": [
    "l.insert(3,\"vivek\")"
   ]
  },
  {
   "cell_type": "code",
   "execution_count": 26,
   "id": "1fbf34e2",
   "metadata": {},
   "outputs": [
    {
     "data": {
      "text/plain": [
       "[23, 43, 4535, 'vivek', 23243, 'balodi']"
      ]
     },
     "execution_count": 26,
     "metadata": {},
     "output_type": "execute_result"
    }
   ],
   "source": [
    "l   #here at 3rd index it append vivek"
   ]
  },
  {
   "cell_type": "code",
   "execution_count": 27,
   "id": "e7ea8b92",
   "metadata": {},
   "outputs": [],
   "source": [
    "l.insert(-1,\"test\")"
   ]
  },
  {
   "cell_type": "code",
   "execution_count": 28,
   "id": "4dc0723b",
   "metadata": {},
   "outputs": [],
   "source": [
    "l.insert(-1,\"test\")"
   ]
  },
  {
   "cell_type": "code",
   "execution_count": 29,
   "id": "15d4d740",
   "metadata": {},
   "outputs": [],
   "source": [
    "l.insert(0,\"test\")"
   ]
  },
  {
   "cell_type": "code",
   "execution_count": 30,
   "id": "f5ac0780",
   "metadata": {},
   "outputs": [
    {
     "data": {
      "text/plain": [
       "['test', 23, 43, 4535, 'vivek', 23243, 'test', 'test', 'balodi']"
      ]
     },
     "execution_count": 30,
     "metadata": {},
     "output_type": "execute_result"
    }
   ],
   "source": [
    "l"
   ]
  },
  {
   "cell_type": "code",
   "execution_count": 31,
   "id": "5647e876",
   "metadata": {},
   "outputs": [
    {
     "data": {
      "text/plain": [
       "3"
      ]
     },
     "execution_count": 31,
     "metadata": {},
     "output_type": "execute_result"
    }
   ],
   "source": [
    "l.count(\"test\")    #count function will count the element inside the list"
   ]
  },
  {
   "cell_type": "code",
   "execution_count": 32,
   "id": "f0040102",
   "metadata": {},
   "outputs": [],
   "source": [
    " l = [1,2,3,4]"
   ]
  },
  {
   "cell_type": "code",
   "execution_count": 33,
   "id": "ec37ffc4",
   "metadata": {},
   "outputs": [
    {
     "data": {
      "text/plain": [
       "[1, 2, 3, 4]"
      ]
     },
     "execution_count": 33,
     "metadata": {},
     "output_type": "execute_result"
    }
   ],
   "source": [
    "l"
   ]
  },
  {
   "cell_type": "code",
   "execution_count": null,
   "id": "a363167c",
   "metadata": {},
   "outputs": [],
   "source": [
    "#there is a difference between append and extend function"
   ]
  },
  {
   "cell_type": "code",
   "execution_count": 34,
   "id": "fce0ce38",
   "metadata": {},
   "outputs": [],
   "source": [
    "l.append(\"vivek\")"
   ]
  },
  {
   "cell_type": "code",
   "execution_count": 35,
   "id": "7005262f",
   "metadata": {},
   "outputs": [
    {
     "data": {
      "text/plain": [
       "[1, 2, 3, 4, 'vivek']"
      ]
     },
     "execution_count": 35,
     "metadata": {},
     "output_type": "execute_result"
    }
   ],
   "source": [
    "l"
   ]
  },
  {
   "cell_type": "code",
   "execution_count": 36,
   "id": "5e96d80b",
   "metadata": {},
   "outputs": [],
   "source": [
    "l.extend(\"vivek\")"
   ]
  },
  {
   "cell_type": "code",
   "execution_count": 37,
   "id": "f7b3cc85",
   "metadata": {},
   "outputs": [
    {
     "data": {
      "text/plain": [
       "[1, 2, 3, 4, 'vivek', 'v', 'i', 'v', 'e', 'k']"
      ]
     },
     "execution_count": 37,
     "metadata": {},
     "output_type": "execute_result"
    }
   ],
   "source": [
    "l"
   ]
  },
  {
   "cell_type": "code",
   "execution_count": 39,
   "id": "166a68ce",
   "metadata": {},
   "outputs": [
    {
     "data": {
      "text/plain": [
       "['t', 'e', 's', 't']"
      ]
     },
     "execution_count": 39,
     "metadata": {},
     "output_type": "execute_result"
    }
   ],
   "source": [
    "s=\"test\"   #something this code is doing as extend \n",
    "list(s)"
   ]
  },
  {
   "cell_type": "code",
   "execution_count": 41,
   "id": "8e4d7228",
   "metadata": {},
   "outputs": [
    {
     "ename": "TypeError",
     "evalue": "'int' object is not iterable",
     "output_type": "error",
     "traceback": [
      "\u001b[1;31m---------------------------------------------------------------------------\u001b[0m",
      "\u001b[1;31mTypeError\u001b[0m                                 Traceback (most recent call last)",
      "\u001b[1;32mC:\\Users\\VIVEKB~1\\AppData\\Local\\Temp/ipykernel_15040/3219959721.py\u001b[0m in \u001b[0;36m<module>\u001b[1;34m\u001b[0m\n\u001b[1;32m----> 1\u001b[1;33m \u001b[0ml\u001b[0m\u001b[1;33m.\u001b[0m\u001b[0mextend\u001b[0m\u001b[1;33m(\u001b[0m\u001b[1;36m45\u001b[0m\u001b[1;33m)\u001b[0m\u001b[1;33m\u001b[0m\u001b[1;33m\u001b[0m\u001b[0m\n\u001b[0m",
      "\u001b[1;31mTypeError\u001b[0m: 'int' object is not iterable"
     ]
    }
   ],
   "source": [
    "l.extend(45)  #extend is always add iterable object but in append you can add any kind of object"
   ]
  },
  {
   "cell_type": "code",
   "execution_count": 4,
   "id": "def41e12",
   "metadata": {},
   "outputs": [],
   "source": [
    "l=[23,23,345]"
   ]
  },
  {
   "cell_type": "code",
   "execution_count": 5,
   "id": "129632d4",
   "metadata": {},
   "outputs": [],
   "source": [
    "l.extend([1,2,3234])  #it will merge the list"
   ]
  },
  {
   "cell_type": "code",
   "execution_count": 6,
   "id": "0e4a9d6f",
   "metadata": {},
   "outputs": [
    {
     "data": {
      "text/plain": [
       "[23, 23, 345, 1, 2, 3234]"
      ]
     },
     "execution_count": 6,
     "metadata": {},
     "output_type": "execute_result"
    }
   ],
   "source": [
    "l"
   ]
  },
  {
   "cell_type": "code",
   "execution_count": 8,
   "id": "6357e709",
   "metadata": {},
   "outputs": [],
   "source": [
    "l.append([1212,5454]) #append and extend both will add object at the end, append here will add list as it is"
   ]
  },
  {
   "cell_type": "code",
   "execution_count": 9,
   "id": "25afd971",
   "metadata": {},
   "outputs": [
    {
     "data": {
      "text/plain": [
       "[23, 23, 345, 1, 2, 3234, [1212, 5454], [1212, 5454]]"
      ]
     },
     "execution_count": 9,
     "metadata": {},
     "output_type": "execute_result"
    }
   ],
   "source": [
    "l"
   ]
  },
  {
   "cell_type": "code",
   "execution_count": 17,
   "id": "b653385a",
   "metadata": {},
   "outputs": [],
   "source": [
    "l = [1,2,23,23,4]"
   ]
  },
  {
   "cell_type": "code",
   "execution_count": 11,
   "id": "491c22af",
   "metadata": {},
   "outputs": [
    {
     "data": {
      "text/plain": [
       "4"
      ]
     },
     "execution_count": 11,
     "metadata": {},
     "output_type": "execute_result"
    }
   ],
   "source": [
    "l.pop()  #by default pop will return the last index, and remove the index"
   ]
  },
  {
   "cell_type": "code",
   "execution_count": 18,
   "id": "872afab7",
   "metadata": {},
   "outputs": [
    {
     "data": {
      "text/plain": [
       "[1, 2, 23, 23, 4]"
      ]
     },
     "execution_count": 18,
     "metadata": {},
     "output_type": "execute_result"
    }
   ],
   "source": [
    "l"
   ]
  },
  {
   "cell_type": "code",
   "execution_count": 19,
   "id": "00dba7db",
   "metadata": {},
   "outputs": [
    {
     "data": {
      "text/plain": [
       "1"
      ]
     },
     "execution_count": 19,
     "metadata": {},
     "output_type": "execute_result"
    }
   ],
   "source": [
    "l.pop(0) #it will remove index from 0 index, here it will remove 1"
   ]
  },
  {
   "cell_type": "code",
   "execution_count": 20,
   "id": "a7f85c84",
   "metadata": {},
   "outputs": [
    {
     "data": {
      "text/plain": [
       "[2, 23, 23, 4]"
      ]
     },
     "execution_count": 20,
     "metadata": {},
     "output_type": "execute_result"
    }
   ],
   "source": [
    "l"
   ]
  },
  {
   "cell_type": "code",
   "execution_count": 21,
   "id": "93e166b7",
   "metadata": {},
   "outputs": [],
   "source": [
    "l = [1,24,5,6,134,6,6,123,6] "
   ]
  },
  {
   "cell_type": "code",
   "execution_count": 24,
   "id": "fed79f47",
   "metadata": {},
   "outputs": [],
   "source": [
    "l.remove(6)   #this will remove 6 from the veryfirst index and will keep repeating until the last 6 has been removed"
   ]
  },
  {
   "cell_type": "code",
   "execution_count": 23,
   "id": "9d3d7c52",
   "metadata": {},
   "outputs": [
    {
     "data": {
      "text/plain": [
       "[1, 24, 5, 134, 6, 6, 123, 6]"
      ]
     },
     "execution_count": 23,
     "metadata": {},
     "output_type": "execute_result"
    }
   ],
   "source": [
    "l"
   ]
  },
  {
   "cell_type": "code",
   "execution_count": 25,
   "id": "b7b716bc",
   "metadata": {},
   "outputs": [
    {
     "data": {
      "text/plain": [
       "[1, 24, 5, 134, 6, 123, 6]"
      ]
     },
     "execution_count": 25,
     "metadata": {},
     "output_type": "execute_result"
    }
   ],
   "source": [
    "l"
   ]
  },
  {
   "cell_type": "code",
   "execution_count": 26,
   "id": "02632172",
   "metadata": {},
   "outputs": [],
   "source": [
    "# pop and remove index both is used to remove data, pop will remove base on the indexes and remove will remove data base on the data item"
   ]
  },
  {
   "cell_type": "code",
   "execution_count": 27,
   "id": "f1d1806d",
   "metadata": {},
   "outputs": [],
   "source": [
    "l.reverse()  #it will reverse the list"
   ]
  },
  {
   "cell_type": "code",
   "execution_count": 28,
   "id": "a6105210",
   "metadata": {},
   "outputs": [
    {
     "data": {
      "text/plain": [
       "[6, 123, 6, 134, 5, 24, 1]"
      ]
     },
     "execution_count": 28,
     "metadata": {},
     "output_type": "execute_result"
    }
   ],
   "source": [
    "l"
   ]
  },
  {
   "cell_type": "code",
   "execution_count": 32,
   "id": "5bc12f31",
   "metadata": {},
   "outputs": [],
   "source": [
    "l.sort()  #it will short the list "
   ]
  },
  {
   "cell_type": "code",
   "execution_count": 33,
   "id": "61df33ab",
   "metadata": {},
   "outputs": [
    {
     "data": {
      "text/plain": [
       "[1, 5, 6, 6, 24, 123, 134]"
      ]
     },
     "execution_count": 33,
     "metadata": {},
     "output_type": "execute_result"
    }
   ],
   "source": [
    "l"
   ]
  },
  {
   "cell_type": "code",
   "execution_count": 34,
   "id": "0365425e",
   "metadata": {},
   "outputs": [],
   "source": [
    "l = [12,1,2,324,\"vivek\"]"
   ]
  },
  {
   "cell_type": "code",
   "execution_count": 35,
   "id": "0fe6892b",
   "metadata": {},
   "outputs": [
    {
     "ename": "TypeError",
     "evalue": "'<' not supported between instances of 'str' and 'int'",
     "output_type": "error",
     "traceback": [
      "\u001b[1;31m---------------------------------------------------------------------------\u001b[0m",
      "\u001b[1;31mTypeError\u001b[0m                                 Traceback (most recent call last)",
      "\u001b[1;32mC:\\Users\\VIVEKB~1\\AppData\\Local\\Temp/ipykernel_28448/4149526160.py\u001b[0m in \u001b[0;36m<module>\u001b[1;34m\u001b[0m\n\u001b[1;32m----> 1\u001b[1;33m \u001b[0ml\u001b[0m\u001b[1;33m.\u001b[0m\u001b[0msort\u001b[0m\u001b[1;33m(\u001b[0m\u001b[1;33m)\u001b[0m\u001b[1;33m\u001b[0m\u001b[1;33m\u001b[0m\u001b[0m\n\u001b[0m",
      "\u001b[1;31mTypeError\u001b[0m: '<' not supported between instances of 'str' and 'int'"
     ]
    }
   ],
   "source": [
    "l.sort() #here it will give you en error, it will only short the same type of data"
   ]
  },
  {
   "cell_type": "code",
   "execution_count": 36,
   "id": "1640ae5d",
   "metadata": {},
   "outputs": [],
   "source": [
    "# you have list suppose l= [12,2,3,[22,\"vivek\", 12], 144,121,[\"vivek\",\"balodi\", 1212,23],1233, 232]\n",
    "Question 1- Append a list in between of this list, and a complex number\n",
    "question 2- if your nested list contain string then find its index in nseted list and print it then remove the string\n",
    "question 3 - you have to extract 2nd element of each nested list"
   ]
  },
  {
   "cell_type": "code",
   "execution_count": 4,
   "id": "56360661",
   "metadata": {},
   "outputs": [
    {
     "name": "stdout",
     "output_type": "stream",
     "text": [
      "[12, 2, 3, [22, 'vivek', 12], 144, 121, ['vivek', 'balodi', 1212, 23], ['b', 'b', 'b'], 1233, 232]\n",
      "[12, 2, 3, [22, 'vivek', 12], ['vivekbalodi', 323, 534545], 144, 121, ['vivek', 'balodi', 1212, 23], ['b', 'b', 'b'], 1233, 232, (23+3j)]\n",
      "index of string 'vivek'  1\n",
      "index of string 'vivekbalodi'  0\n",
      "index of string 'vivek'  0\n",
      "index of string 'balodi'  1\n",
      "index of string 'b'  0\n",
      "index of string 'b'  1\n",
      "index of string 'b'  2\n",
      "list after removal of the string form the nested list is \r",
      " [12, 2, 3, [22, 12], [323, 534545], 144, 121, [1212, 23], [], 1233, 232, (23+3j)] \n",
      "\n"
     ]
    }
   ],
   "source": [
    "l= [12,2,3,[22,\"vivek\", 12], 144,121,[\"vivek\",\"balodi\", 1212,23],[\"b\", \"b\", \"b\"],1233, 232]\n",
    "#first answer\n",
    "\n",
    "l.insert(4,[\"vivekbalodi\", 323,534545])\n",
    "l.append(23+3j)\n",
    "print(l)\n",
    "\n",
    "#second answer\n",
    "for i in l:\n",
    "    if type(i) ==list:\n",
    "        j=0\n",
    "        while j <len(i):\n",
    "            if type(i[j]) is str:\n",
    "                print(\"index of string '{}' \" .format(i[j]), j)\n",
    "            j = j+1\n",
    "        j = 0\n",
    "        while j<len(i):\n",
    "            if type(i[j]) is str:\n",
    "                i.remove(i[j])\n",
    "                continue\n",
    "            j = j+1\n",
    "#3rd answer\n",
    "print(\"list after removal of the string form the nested list is \\r\",l,'\\n')\n",
    "\n",
    "\n",
    "\n",
    "\n",
    "            \n",
    "    "
   ]
  },
  {
   "cell_type": "code",
   "execution_count": 1,
   "id": "b3155257",
   "metadata": {},
   "outputs": [
    {
     "ename": "NameError",
     "evalue": "name 'l' is not defined",
     "output_type": "error",
     "traceback": [
      "\u001b[1;31m---------------------------------------------------------------------------\u001b[0m",
      "\u001b[1;31mNameError\u001b[0m                                 Traceback (most recent call last)",
      "\u001b[1;32mC:\\Users\\VIVEKB~1\\AppData\\Local\\Temp/ipykernel_27292/1142184535.py\u001b[0m in \u001b[0;36m<module>\u001b[1;34m\u001b[0m\n\u001b[1;32m----> 1\u001b[1;33m \u001b[0ml\u001b[0m\u001b[1;33m.\u001b[0m\u001b[0minsert\u001b[0m\u001b[1;33m(\u001b[0m\u001b[1;36m4\u001b[0m\u001b[1;33m,\u001b[0m\u001b[1;33m[\u001b[0m\u001b[1;34m\"vivekbalodi\"\u001b[0m\u001b[1;33m,\u001b[0m\u001b[1;36m323\u001b[0m\u001b[1;33m,\u001b[0m\u001b[1;36m534545\u001b[0m\u001b[1;33m]\u001b[0m\u001b[1;33m)\u001b[0m\u001b[1;33m\u001b[0m\u001b[1;33m\u001b[0m\u001b[0m\n\u001b[0m",
      "\u001b[1;31mNameError\u001b[0m: name 'l' is not defined"
     ]
    }
   ],
   "source": [
    "l.insert(4,[\"vivekbalodi\",323,534545])"
   ]
  },
  {
   "cell_type": "code",
   "execution_count": 8,
   "id": "1ed62616",
   "metadata": {},
   "outputs": [
    {
     "name": "stdout",
     "output_type": "stream",
     "text": [
      "Enter a number: 9\n",
      "1 \n",
      "1 2 \n",
      "1 2 3 \n",
      "1 2 3 4 \n",
      "1 2 3 4 5 \n",
      "1 2 3 4 5 6 \n",
      "1 2 3 4 5 6 7 \n",
      "1 2 3 4 5 6 7 8 \n",
      "1 2 3 4 5 6 7 8 9 \n"
     ]
    }
   ],
   "source": [
    "n = int(input(\"Enter a number: \"))\n",
    "for i in range(1, n+1):\n",
    "    for j in range(1, i+1):\n",
    "        print(j,end=\" \")\n",
    "    print()\n",
    "    "
   ]
  },
  {
   "cell_type": "code",
   "execution_count": null,
   "id": "924c4293",
   "metadata": {},
   "outputs": [],
   "source": []
  },
  {
   "cell_type": "code",
   "execution_count": null,
   "id": "cb394c84",
   "metadata": {},
   "outputs": [],
   "source": []
  }
 ],
 "metadata": {
  "kernelspec": {
   "display_name": "Python 3 (ipykernel)",
   "language": "python",
   "name": "python3"
  },
  "language_info": {
   "codemirror_mode": {
    "name": "ipython",
    "version": 3
   },
   "file_extension": ".py",
   "mimetype": "text/x-python",
   "name": "python",
   "nbconvert_exporter": "python",
   "pygments_lexer": "ipython3",
   "version": "3.9.7"
  }
 },
 "nbformat": 4,
 "nbformat_minor": 5
}
