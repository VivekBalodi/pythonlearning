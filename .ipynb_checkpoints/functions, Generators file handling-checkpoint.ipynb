{
 "cells": [
  {
   "cell_type": "code",
   "execution_count": 7,
   "id": "44af2d17",
   "metadata": {},
   "outputs": [],
   "source": [
    "def test(name, email_id):\n",
    "    con = name + email_id\n",
    "    return name, email_id, con"
   ]
  },
  {
   "cell_type": "code",
   "execution_count": 8,
   "id": "9fc91503",
   "metadata": {},
   "outputs": [
    {
     "data": {
      "text/plain": [
       "('vivek', 'balodivivek@gmail.com', 'vivekbalodivivek@gmail.com')"
      ]
     },
     "execution_count": 8,
     "metadata": {},
     "output_type": "execute_result"
    }
   ],
   "source": [
    "test(\"vivek\", \"balodivivek@gmail.com\")"
   ]
  },
  {
   "cell_type": "code",
   "execution_count": 9,
   "id": "9a06fdf7",
   "metadata": {},
   "outputs": [],
   "source": [
    "a = 10\n",
    "b = 20\n",
    "def test1(a,b):\n",
    "    return a +b\n",
    "\n",
    "# here i am writing a function with name"
   ]
  },
  {
   "cell_type": "code",
   "execution_count": 10,
   "id": "188f46dc",
   "metadata": {},
   "outputs": [
    {
     "data": {
      "text/plain": [
       "30"
      ]
     },
     "execution_count": 10,
     "metadata": {},
     "output_type": "execute_result"
    }
   ],
   "source": [
    "test1(10,20)"
   ]
  },
  {
   "cell_type": "code",
   "execution_count": 11,
   "id": "4267bc31",
   "metadata": {},
   "outputs": [],
   "source": [
    "m = lambda x,y : x+y  # without giving any name to function i am writing function and calling the function this is called,\n",
    "# anonymous function"
   ]
  },
  {
   "cell_type": "code",
   "execution_count": 13,
   "id": "3ac78984",
   "metadata": {},
   "outputs": [
    {
     "data": {
      "text/plain": [
       "30"
      ]
     },
     "execution_count": 13,
     "metadata": {},
     "output_type": "execute_result"
    }
   ],
   "source": [
    "m(10,20)"
   ]
  },
  {
   "cell_type": "code",
   "execution_count": 16,
   "id": "f718d3cc",
   "metadata": {},
   "outputs": [],
   "source": [
    "a = \"vivek\"\n",
    "b  = \"balodi\"\n",
    "c = lambda arg1, arg2 : print(arg1, arg2)"
   ]
  },
  {
   "cell_type": "code",
   "execution_count": 17,
   "id": "0bfb8662",
   "metadata": {},
   "outputs": [
    {
     "name": "stdout",
     "output_type": "stream",
     "text": [
      "vivek balodi\n"
     ]
    }
   ],
   "source": [
    "c(a,b)"
   ]
  },
  {
   "cell_type": "code",
   "execution_count": 19,
   "id": "0e652f6f",
   "metadata": {},
   "outputs": [],
   "source": [
    "def test2():\n",
    "    \"\"\"\n",
    "    this is my first docstring code. I am testing.\n",
    "    \"\"\"\n",
    "    \n",
    "    print(\"this function will return you xyz\")"
   ]
  },
  {
   "cell_type": "code",
   "execution_count": 20,
   "id": "98c38b96",
   "metadata": {},
   "outputs": [
    {
     "name": "stdout",
     "output_type": "stream",
     "text": [
      "this function will return you xyz\n"
     ]
    }
   ],
   "source": [
    "test2() # this is the way you use docstring so anyone who is using your code function can easily understand the things"
   ]
  },
  {
   "cell_type": "code",
   "execution_count": 21,
   "id": "f75b53ae",
   "metadata": {},
   "outputs": [
    {
     "name": "stdout",
     "output_type": "stream",
     "text": [
      "Help on function test2 in module __main__:\n",
      "\n",
      "test2()\n",
      "    this is my first docstring code. I am testing.\n",
      "\n"
     ]
    }
   ],
   "source": [
    "help(test2)   # this is the how you can print docstring"
   ]
  },
  {
   "cell_type": "code",
   "execution_count": null,
   "id": "5faee6d5",
   "metadata": {},
   "outputs": [],
   "source": [
    "# iterable -- means those object which we can access by the help of indexs"
   ]
  },
  {
   "cell_type": "code",
   "execution_count": 22,
   "id": "6fc7cd56",
   "metadata": {},
   "outputs": [],
   "source": [
    "v = \"vivek\""
   ]
  },
  {
   "cell_type": "code",
   "execution_count": 23,
   "id": "19ed0c81",
   "metadata": {},
   "outputs": [
    {
     "ename": "TypeError",
     "evalue": "'str' object is not an iterator",
     "output_type": "error",
     "traceback": [
      "\u001b[1;31m---------------------------------------------------------------------------\u001b[0m",
      "\u001b[1;31mTypeError\u001b[0m                                 Traceback (most recent call last)",
      "\u001b[1;32mC:\\Users\\VIVEKB~1\\AppData\\Local\\Temp/ipykernel_23244/4181702973.py\u001b[0m in \u001b[0;36m<module>\u001b[1;34m\u001b[0m\n\u001b[1;32m----> 1\u001b[1;33m \u001b[0mnext\u001b[0m\u001b[1;33m(\u001b[0m\u001b[0mv\u001b[0m\u001b[1;33m)\u001b[0m\u001b[1;33m\u001b[0m\u001b[1;33m\u001b[0m\u001b[0m\n\u001b[0m",
      "\u001b[1;31mTypeError\u001b[0m: 'str' object is not an iterator"
     ]
    }
   ],
   "source": [
    "next(v)"
   ]
  },
  {
   "cell_type": "code",
   "execution_count": 24,
   "id": "8435a14f",
   "metadata": {},
   "outputs": [],
   "source": [
    "v = iter(v)  # this is how you can convert iterator "
   ]
  },
  {
   "cell_type": "code",
   "execution_count": 25,
   "id": "fcdab9e3",
   "metadata": {},
   "outputs": [
    {
     "data": {
      "text/plain": [
       "'v'"
      ]
     },
     "execution_count": 25,
     "metadata": {},
     "output_type": "execute_result"
    }
   ],
   "source": [
    "next(v)"
   ]
  },
  {
   "cell_type": "code",
   "execution_count": 26,
   "id": "683a6a8c",
   "metadata": {},
   "outputs": [
    {
     "data": {
      "text/plain": [
       "'i'"
      ]
     },
     "execution_count": 26,
     "metadata": {},
     "output_type": "execute_result"
    }
   ],
   "source": [
    "next(v)"
   ]
  },
  {
   "cell_type": "code",
   "execution_count": 27,
   "id": "a235b4c6",
   "metadata": {},
   "outputs": [
    {
     "data": {
      "text/plain": [
       "'v'"
      ]
     },
     "execution_count": 27,
     "metadata": {},
     "output_type": "execute_result"
    }
   ],
   "source": [
    "next(v)"
   ]
  },
  {
   "cell_type": "code",
   "execution_count": 28,
   "id": "34d319f0",
   "metadata": {},
   "outputs": [
    {
     "data": {
      "text/plain": [
       "'e'"
      ]
     },
     "execution_count": 28,
     "metadata": {},
     "output_type": "execute_result"
    }
   ],
   "source": [
    "next(v)"
   ]
  },
  {
   "cell_type": "code",
   "execution_count": 29,
   "id": "a7784a7e",
   "metadata": {},
   "outputs": [
    {
     "data": {
      "text/plain": [
       "'k'"
      ]
     },
     "execution_count": 29,
     "metadata": {},
     "output_type": "execute_result"
    }
   ],
   "source": [
    "next(v)"
   ]
  },
  {
   "cell_type": "code",
   "execution_count": 21,
   "id": "fc79a2ab",
   "metadata": {},
   "outputs": [],
   "source": [
    "def test3(*n):\n",
    "    l = []\n",
    "    for i in range(n):\n",
    "        l.append(i**3)\n",
    "    return l\n",
    "        "
   ]
  },
  {
   "cell_type": "code",
   "execution_count": 22,
   "id": "5fe31b72",
   "metadata": {},
   "outputs": [
    {
     "data": {
      "text/plain": [
       "[216, 8, 64, 64]"
      ]
     },
     "execution_count": 22,
     "metadata": {},
     "output_type": "execute_result"
    }
   ],
   "source": [
    "test3(6,2,4,4)"
   ]
  },
  {
   "cell_type": "code",
   "execution_count": 39,
   "id": "6db31777",
   "metadata": {},
   "outputs": [
    {
     "name": "stdout",
     "output_type": "stream",
     "text": [
      "[2, 4, 6, 8, 10]\n",
      "2\n",
      "4\n",
      "6\n",
      "8\n",
      "10\n"
     ]
    }
   ],
   "source": [
    "l =[1,2,3,4,5]\n",
    "double_number = [2*n for n in l]\n",
    "print(double_number)\n",
    "for i in double_number:\n",
    "    print(i)"
   ]
  },
  {
   "cell_type": "code",
   "execution_count": 40,
   "id": "6e26d3b2",
   "metadata": {},
   "outputs": [
    {
     "name": "stdout",
     "output_type": "stream",
     "text": [
      "[2, 4, 6, 8, 10]\n"
     ]
    }
   ],
   "source": [
    "l =[1,2,3,4,5]\n",
    "double_number = [2*n for n in l]\n",
    "print(double_number)"
   ]
  },
  {
   "cell_type": "code",
   "execution_count": 33,
   "id": "6b4b4b8f",
   "metadata": {},
   "outputs": [],
   "source": [
    "l =[1,2,3,4,5]"
   ]
  },
  {
   "cell_type": "code",
   "execution_count": null,
   "id": "cb08fde4",
   "metadata": {},
   "outputs": [],
   "source": []
  },
  {
   "cell_type": "code",
   "execution_count": 27,
   "id": "a5b50faa",
   "metadata": {},
   "outputs": [],
   "source": [
    "def test4(*args):\n",
    "    l = []\n",
    "    for i in args:\n",
    "        l.append(i*2)\n",
    "    return l\n",
    "    "
   ]
  },
  {
   "cell_type": "code",
   "execution_count": 29,
   "id": "82576410",
   "metadata": {},
   "outputs": [
    {
     "data": {
      "text/plain": [
       "[2, 4, 6, 8, 10]"
      ]
     },
     "execution_count": 29,
     "metadata": {},
     "output_type": "execute_result"
    }
   ],
   "source": [
    "test4(1,2,3,4,5,)"
   ]
  },
  {
   "cell_type": "code",
   "execution_count": 43,
   "id": "096a8021",
   "metadata": {},
   "outputs": [],
   "source": [
    "def test5(n):\n",
    "    for i in range(n):\n",
    "        yield i **3"
   ]
  },
  {
   "cell_type": "code",
   "execution_count": 44,
   "id": "76f434b6",
   "metadata": {},
   "outputs": [
    {
     "data": {
      "text/plain": [
       "<generator object test5 at 0x0000019C1BF663C0>"
      ]
     },
     "execution_count": 44,
     "metadata": {},
     "output_type": "execute_result"
    }
   ],
   "source": [
    "test5(5)  # Generator is nothing , just remembering what you has done in last time. by the help of yield"
   ]
  },
  {
   "cell_type": "code",
   "execution_count": 50,
   "id": "8a387145",
   "metadata": {},
   "outputs": [],
   "source": [
    "def genfb(n):\n",
    "    a = 1\n",
    "    b = 1\n",
    "    output = []\n",
    "    for i in range(n):\n",
    "        output.append(a)\n",
    "        a,b = b, a+b\n",
    "    return output\n",
    "            "
   ]
  },
  {
   "cell_type": "code",
   "execution_count": 52,
   "id": "660d1413",
   "metadata": {},
   "outputs": [
    {
     "data": {
      "text/plain": [
       "[1, 1, 2, 3, 5, 8, 13, 21, 34, 55, 89, 144, 233, 377, 610]"
      ]
     },
     "execution_count": 52,
     "metadata": {},
     "output_type": "execute_result"
    }
   ],
   "source": [
    "genfb(15)"
   ]
  },
  {
   "cell_type": "code",
   "execution_count": 53,
   "id": "2386ad10",
   "metadata": {},
   "outputs": [],
   "source": [
    "def genfb(n):\n",
    "    a = 1\n",
    "    b = 1\n",
    "    output = []\n",
    "    for i in range(n):\n",
    "        yield a\n",
    "        a,b = b, a+b\n",
    "    return output"
   ]
  },
  {
   "cell_type": "code",
   "execution_count": 54,
   "id": "d3ef5a74",
   "metadata": {},
   "outputs": [
    {
     "data": {
      "text/plain": [
       "<generator object genfb at 0x0000019C1BF69660>"
      ]
     },
     "execution_count": 54,
     "metadata": {},
     "output_type": "execute_result"
    }
   ],
   "source": [
    "genfb(5)"
   ]
  },
  {
   "cell_type": "code",
   "execution_count": 57,
   "id": "88a3c6db",
   "metadata": {},
   "outputs": [
    {
     "name": "stdout",
     "output_type": "stream",
     "text": [
      "1\n",
      "1\n",
      "2\n",
      "3\n",
      "5\n",
      "8\n",
      "13\n",
      "21\n",
      "34\n",
      "55\n"
     ]
    }
   ],
   "source": [
    "for i in genfb(10):\n",
    "    print(i)"
   ]
  },
  {
   "cell_type": "code",
   "execution_count": 59,
   "id": "45c6b850",
   "metadata": {},
   "outputs": [
    {
     "ename": "FileNotFoundError",
     "evalue": "[Errno 2] No such file or directory: 'test.txt'",
     "output_type": "error",
     "traceback": [
      "\u001b[1;31m---------------------------------------------------------------------------\u001b[0m",
      "\u001b[1;31mFileNotFoundError\u001b[0m                         Traceback (most recent call last)",
      "\u001b[1;32mC:\\Users\\VIVEKB~1\\AppData\\Local\\Temp/ipykernel_12128/2159030510.py\u001b[0m in \u001b[0;36m<module>\u001b[1;34m\u001b[0m\n\u001b[1;32m----> 1\u001b[1;33m \u001b[0mf\u001b[0m \u001b[1;33m=\u001b[0m \u001b[0mopen\u001b[0m\u001b[1;33m(\u001b[0m\u001b[1;34m\"test.txt\"\u001b[0m\u001b[1;33m)\u001b[0m\u001b[1;33m\u001b[0m\u001b[1;33m\u001b[0m\u001b[0m\n\u001b[0m",
      "\u001b[1;31mFileNotFoundError\u001b[0m: [Errno 2] No such file or directory: 'test.txt'"
     ]
    }
   ],
   "source": [
    "f = open(\"test.txt\")"
   ]
  },
  {
   "cell_type": "code",
   "execution_count": 64,
   "id": "58afe043",
   "metadata": {},
   "outputs": [],
   "source": [
    "f = open(\"test.txt\", \"w\")   # here i mode is w, so it will create a file in directory with name of test.txt"
   ]
  },
  {
   "cell_type": "code",
   "execution_count": 65,
   "id": "847ab819",
   "metadata": {},
   "outputs": [
    {
     "data": {
      "text/plain": [
       "34"
      ]
     },
     "execution_count": 65,
     "metadata": {},
     "output_type": "execute_result"
    }
   ],
   "source": [
    "f.write(\"hello india, this is my first file\") # this is how you can write inside a file"
   ]
  },
  {
   "cell_type": "code",
   "execution_count": 67,
   "id": "23eeb5d7",
   "metadata": {},
   "outputs": [],
   "source": [
    "f.close()"
   ]
  },
  {
   "cell_type": "code",
   "execution_count": 71,
   "id": "5f040447",
   "metadata": {},
   "outputs": [
    {
     "data": {
      "text/plain": [
       "'hello india, this is my first file'"
      ]
     },
     "execution_count": 71,
     "metadata": {},
     "output_type": "execute_result"
    }
   ],
   "source": [
    "f.read()   # this is how you can read your file"
   ]
  },
  {
   "cell_type": "code",
   "execution_count": 73,
   "id": "285c7275",
   "metadata": {},
   "outputs": [
    {
     "data": {
      "text/plain": [
       "''"
      ]
     },
     "execution_count": 73,
     "metadata": {},
     "output_type": "execute_result"
    }
   ],
   "source": [
    "f.read()  # there it is not any error, but here your cursor is in last line so that's why giving this kind of output"
   ]
  },
  {
   "cell_type": "code",
   "execution_count": 78,
   "id": "7d9e8d64",
   "metadata": {},
   "outputs": [
    {
     "data": {
      "text/plain": [
       "0"
      ]
     },
     "execution_count": 78,
     "metadata": {},
     "output_type": "execute_result"
    }
   ],
   "source": [
    "f.seek(0)  # seek means at which point you want to put your cursor"
   ]
  },
  {
   "cell_type": "code",
   "execution_count": 79,
   "id": "9cd8492d",
   "metadata": {},
   "outputs": [
    {
     "data": {
      "text/plain": [
       "'hello india, this is my first file'"
      ]
     },
     "execution_count": 79,
     "metadata": {},
     "output_type": "execute_result"
    }
   ],
   "source": [
    "f.read()"
   ]
  },
  {
   "cell_type": "code",
   "execution_count": 80,
   "id": "4f2a23e6",
   "metadata": {},
   "outputs": [
    {
     "data": {
      "text/plain": [
       "10"
      ]
     },
     "execution_count": 80,
     "metadata": {},
     "output_type": "execute_result"
    }
   ],
   "source": [
    "f.seek(10)  # here i have put cursor at 10 index. so in next read it will give data from 10 index"
   ]
  },
  {
   "cell_type": "code",
   "execution_count": 81,
   "id": "d067dd8e",
   "metadata": {},
   "outputs": [
    {
     "data": {
      "text/plain": [
       "'a, this is my first file'"
      ]
     },
     "execution_count": 81,
     "metadata": {},
     "output_type": "execute_result"
    }
   ],
   "source": [
    "f.read()"
   ]
  },
  {
   "cell_type": "code",
   "execution_count": null,
   "id": "15ab184c",
   "metadata": {},
   "outputs": [],
   "source": []
  }
 ],
 "metadata": {
  "kernelspec": {
   "display_name": "Python 3 (ipykernel)",
   "language": "python",
   "name": "python3"
  },
  "language_info": {
   "codemirror_mode": {
    "name": "ipython",
    "version": 3
   },
   "file_extension": ".py",
   "mimetype": "text/x-python",
   "name": "python",
   "nbconvert_exporter": "python",
   "pygments_lexer": "ipython3",
   "version": "3.9.7"
  }
 },
 "nbformat": 4,
 "nbformat_minor": 5
}
