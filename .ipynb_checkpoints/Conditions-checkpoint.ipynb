{
 "cells": [
  {
   "cell_type": "code",
   "execution_count": 13,
   "id": "e1c5c6d6",
   "metadata": {},
   "outputs": [
    {
     "name": "stdout",
     "output_type": "stream",
     "text": [
      "this is not a valid statement\n"
     ]
    }
   ],
   "source": [
    "a == 10\n",
    "b == 20\n",
    "if a==10 and b ==20:\n",
    "    print(\"this is a valid statement\")\n",
    "elif a ==10 and b<=20:\n",
    "    print(\"this is not a valid statement\")"
   ]
  },
  {
   "cell_type": "markdown",
   "id": "b4a11616",
   "metadata": {},
   "source": [
    "# And Condition"
   ]
  },
  {
   "cell_type": "code",
   "execution_count": 8,
   "id": "473354e4",
   "metadata": {},
   "outputs": [
    {
     "name": "stdout",
     "output_type": "stream",
     "text": [
      "type the first name okay\n",
      "type the last name hll\n",
      "try next time bro!\n"
     ]
    }
   ],
   "source": [
    "c = \"vivek\"\n",
    "d = \"balodi\"\n",
    "a = input(\"type the first name \")\n",
    "b = input(\"type the last name \")\n",
    "if a==c and b ==d:\n",
    "    print(\"You guess the correct name - Vivek Balodi\")\n",
    "elif a==d and b==c:\n",
    "    print(\"You guess little wrong here- balodi vivek\")\n",
    "else:\n",
    "    print(\"try next time bro!\")"
   ]
  },
  {
   "cell_type": "markdown",
   "id": "420c07cc",
   "metadata": {},
   "source": [
    "# Or condition"
   ]
  },
  {
   "cell_type": "code",
   "execution_count": 11,
   "id": "b3fc2fcc",
   "metadata": {},
   "outputs": [
    {
     "name": "stdout",
     "output_type": "stream",
     "text": [
      "okay! one condition is write\n"
     ]
    }
   ],
   "source": [
    "a = 10\n",
    "b = 15\n",
    "if a==10 or b==12:\n",
    "    print(\"okay! one condition is write\")\n",
    "elif a==15 or b==10:\n",
    "    print(\"something wrong\")\n",
    "else:\n",
    "    print(\"okay\")"
   ]
  },
  {
   "cell_type": "code",
   "execution_count": 12,
   "id": "4f03e27d",
   "metadata": {},
   "outputs": [
    {
     "name": "stdout",
     "output_type": "stream",
     "text": [
      "this is valid\n"
     ]
    }
   ],
   "source": [
    "if a ==10: print(\"this is valid\") #writing statement in a single line"
   ]
  },
  {
   "cell_type": "code",
   "execution_count": null,
   "id": "226cc2bf",
   "metadata": {},
   "outputs": [],
   "source": []
  },
  {
   "cell_type": "code",
   "execution_count": null,
   "id": "ade24ba3",
   "metadata": {},
   "outputs": [],
   "source": []
  }
 ],
 "metadata": {
  "kernelspec": {
   "display_name": "Python 3 (ipykernel)",
   "language": "python",
   "name": "python3"
  },
  "language_info": {
   "codemirror_mode": {
    "name": "ipython",
    "version": 3
   },
   "file_extension": ".py",
   "mimetype": "text/x-python",
   "name": "python",
   "nbconvert_exporter": "python",
   "pygments_lexer": "ipython3",
   "version": "3.9.7"
  }
 },
 "nbformat": 4,
 "nbformat_minor": 5
}
