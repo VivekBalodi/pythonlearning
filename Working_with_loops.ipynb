{
 "cells": [
  {
   "cell_type": "code",
   "execution_count": 1,
   "id": "2cc91645",
   "metadata": {},
   "outputs": [
    {
     "name": "stdout",
     "output_type": "stream",
     "text": [
      "1\n",
      "2\n",
      "3\n",
      "4\n",
      "There is no 5Rs notes are left\n"
     ]
    }
   ],
   "source": [
    "notes = 5\n",
    "i = 1\n",
    "while i < notes :\n",
    "    print(i)\n",
    "    i +=1\n",
    "else:\n",
    "    print(\"There is no 5Rs notes are left\")"
   ]
  },
  {
   "cell_type": "markdown",
   "id": "9827b97e",
   "metadata": {},
   "source": [
    "# Another way to do same thing"
   ]
  },
  {
   "cell_type": "code",
   "execution_count": 3,
   "id": "ecd0086e",
   "metadata": {},
   "outputs": [
    {
     "name": "stdout",
     "output_type": "stream",
     "text": [
      "1\n",
      "2\n",
      "3\n",
      "4\n",
      "5\n",
      "There is no 5Rs notes are left\n"
     ]
    }
   ],
   "source": [
    "notes = 5\n",
    "i = 1\n",
    "j = 1\n",
    "while i < notes :\n",
    "    print(i)\n",
    "    i +=1\n",
    "else:\n",
    "    while j < 2:\n",
    "        print(i)\n",
    "        j = j +1\n",
    "        \n",
    "    print(\"There is no 5Rs notes are left\")"
   ]
  },
  {
   "cell_type": "markdown",
   "id": "7e70e47d",
   "metadata": {},
   "source": [
    "# Getting data from a string"
   ]
  },
  {
   "cell_type": "code",
   "execution_count": 11,
   "id": "386794cb",
   "metadata": {},
   "outputs": [],
   "source": [
    "s = \"school\""
   ]
  },
  {
   "cell_type": "code",
   "execution_count": 13,
   "id": "25b6217c",
   "metadata": {},
   "outputs": [
    {
     "data": {
      "text/plain": [
       "'l'"
      ]
     },
     "execution_count": 13,
     "metadata": {},
     "output_type": "execute_result"
    }
   ],
   "source": [
    "s[5]"
   ]
  },
  {
   "cell_type": "code",
   "execution_count": 14,
   "id": "db845d73",
   "metadata": {},
   "outputs": [],
   "source": [
    "s = \"My school name is MDVM\""
   ]
  },
  {
   "cell_type": "code",
   "execution_count": 16,
   "id": "958c3ce0",
   "metadata": {},
   "outputs": [
    {
     "data": {
      "text/plain": [
       "'sch'"
      ]
     },
     "execution_count": 16,
     "metadata": {},
     "output_type": "execute_result"
    }
   ],
   "source": [
    "s[3:6]"
   ]
  },
  {
   "cell_type": "code",
   "execution_count": 21,
   "id": "31795d4c",
   "metadata": {},
   "outputs": [
    {
     "data": {
      "text/plain": [
       "'My schoo'"
      ]
     },
     "execution_count": 21,
     "metadata": {},
     "output_type": "execute_result"
    }
   ],
   "source": [
    "s[0:8:1]"
   ]
  },
  {
   "cell_type": "markdown",
   "id": "746aabfc",
   "metadata": {},
   "source": [
    "getting range in list"
   ]
  },
  {
   "cell_type": "code",
   "execution_count": 1,
   "id": "871f5067",
   "metadata": {},
   "outputs": [
    {
     "data": {
      "text/plain": [
       "[0, 1, 2, 3, 4, 5, 6, 7, 8, 9]"
      ]
     },
     "execution_count": 1,
     "metadata": {},
     "output_type": "execute_result"
    }
   ],
   "source": [
    "list(range(10))"
   ]
  },
  {
   "cell_type": "code",
   "execution_count": null,
   "id": "ebf09b09",
   "metadata": {},
   "outputs": [],
   "source": []
  },
  {
   "cell_type": "code",
   "execution_count": null,
   "id": "564ebc4b",
   "metadata": {},
   "outputs": [],
   "source": []
  },
  {
   "cell_type": "code",
   "execution_count": null,
   "id": "019efe6a",
   "metadata": {},
   "outputs": [],
   "source": []
  },
  {
   "cell_type": "code",
   "execution_count": null,
   "id": "a80709bc",
   "metadata": {},
   "outputs": [],
   "source": []
  }
 ],
 "metadata": {
  "kernelspec": {
   "display_name": "Python 3 (ipykernel)",
   "language": "python",
   "name": "python3"
  },
  "language_info": {
   "codemirror_mode": {
    "name": "ipython",
    "version": 3
   },
   "file_extension": ".py",
   "mimetype": "text/x-python",
   "name": "python",
   "nbconvert_exporter": "python",
   "pygments_lexer": "ipython3",
   "version": "3.9.7"
  }
 },
 "nbformat": 4,
 "nbformat_minor": 5
}
