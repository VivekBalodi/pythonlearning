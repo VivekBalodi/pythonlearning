{
 "cells": [
  {
   "cell_type": "code",
   "execution_count": 1,
   "id": "8bbec5e3",
   "metadata": {},
   "outputs": [],
   "source": [
    "l = [\"vivek\", 23,23,5,535, [\"balodi\", 22,551,12,], \"hello\"]"
   ]
  },
  {
   "cell_type": "code",
   "execution_count": 2,
   "id": "eedddb0c",
   "metadata": {},
   "outputs": [
    {
     "name": "stdout",
     "output_type": "stream",
     "text": [
      "vivek\n",
      "23\n",
      "23\n",
      "5\n",
      "535\n",
      "['balodi', 22, 551, 12]\n",
      "hello\n"
     ]
    }
   ],
   "source": [
    "for i in l:\n",
    "    print(i)"
   ]
  },
  {
   "cell_type": "code",
   "execution_count": 3,
   "id": "784bbe4e",
   "metadata": {},
   "outputs": [],
   "source": [
    "# list is always store the data in the form of indexes "
   ]
  },
  {
   "cell_type": "code",
   "execution_count": 4,
   "id": "9408fd7d",
   "metadata": {},
   "outputs": [
    {
     "data": {
      "text/plain": [
       "'vivek'"
      ]
     },
     "execution_count": 4,
     "metadata": {},
     "output_type": "execute_result"
    }
   ],
   "source": [
    "l[0]"
   ]
  },
  {
   "cell_type": "code",
   "execution_count": 5,
   "id": "fc6e84f9",
   "metadata": {},
   "outputs": [
    {
     "data": {
      "text/plain": [
       "['hello', ['balodi', 22, 551, 12], 535, 5, 23, 23, 'vivek']"
      ]
     },
     "execution_count": 5,
     "metadata": {},
     "output_type": "execute_result"
    }
   ],
   "source": [
    "l[::-1]"
   ]
  },
  {
   "cell_type": "code",
   "execution_count": 6,
   "id": "010c4694",
   "metadata": {},
   "outputs": [],
   "source": [
    "# if you want to print only list form this list"
   ]
  },
  {
   "cell_type": "code",
   "execution_count": 8,
   "id": "5697105a",
   "metadata": {},
   "outputs": [
    {
     "name": "stdout",
     "output_type": "stream",
     "text": [
      "this is not a list vivek\n",
      "this is not a list 23\n",
      "this is not a list 23\n",
      "this is not a list 5\n",
      "this is not a list 535\n",
      "this is list ['balodi', 22, 551, 12]\n",
      "this is not a list hello\n"
     ]
    }
   ],
   "source": [
    "for i in l:\n",
    "    if type(i)==list:\n",
    "        print(\"this is list\", i)\n",
    "    else:\n",
    "        print(\"this is not a list\", i)\n",
    "    "
   ]
  },
  {
   "cell_type": "code",
   "execution_count": 9,
   "id": "9614d1ba",
   "metadata": {},
   "outputs": [
    {
     "data": {
      "text/plain": [
       "['vivek', 23, 23, 5, 535, ['balodi', 22, 551, 12], 'hello']"
      ]
     },
     "execution_count": 9,
     "metadata": {},
     "output_type": "execute_result"
    }
   ],
   "source": [
    "l"
   ]
  },
  {
   "cell_type": "code",
   "execution_count": 10,
   "id": "95953ad0",
   "metadata": {},
   "outputs": [],
   "source": [
    "l1 = [\"balodi\", 2521,454,]"
   ]
  },
  {
   "cell_type": "code",
   "execution_count": 12,
   "id": "912c7bba",
   "metadata": {},
   "outputs": [
    {
     "data": {
      "text/plain": [
       "['vivek',\n",
       " 23,\n",
       " 23,\n",
       " 5,\n",
       " 535,\n",
       " ['balodi', 22, 551, 12],\n",
       " 'hello',\n",
       " 'balodi',\n",
       " 2521,\n",
       " 454]"
      ]
     },
     "execution_count": 12,
     "metadata": {},
     "output_type": "execute_result"
    }
   ],
   "source": [
    "l + l1"
   ]
  },
  {
   "cell_type": "code",
   "execution_count": 13,
   "id": "1af83306",
   "metadata": {},
   "outputs": [
    {
     "data": {
      "text/plain": [
       "['vivek',\n",
       " 23,\n",
       " 23,\n",
       " 5,\n",
       " 535,\n",
       " ['balodi', 22, 551, 12],\n",
       " 'hello',\n",
       " 'vivek',\n",
       " 23,\n",
       " 23,\n",
       " 5,\n",
       " 535,\n",
       " ['balodi', 22, 551, 12],\n",
       " 'hello']"
      ]
     },
     "execution_count": 13,
     "metadata": {},
     "output_type": "execute_result"
    }
   ],
   "source": [
    "l*2"
   ]
  },
  {
   "cell_type": "code",
   "execution_count": 14,
   "id": "cc4f09b2",
   "metadata": {},
   "outputs": [
    {
     "data": {
      "text/plain": [
       "7"
      ]
     },
     "execution_count": 14,
     "metadata": {},
     "output_type": "execute_result"
    }
   ],
   "source": [
    "len(l)"
   ]
  },
  {
   "cell_type": "code",
   "execution_count": 16,
   "id": "9be1eb16",
   "metadata": {},
   "outputs": [
    {
     "data": {
      "text/plain": [
       "False"
      ]
     },
     "execution_count": 16,
     "metadata": {},
     "output_type": "execute_result"
    }
   ],
   "source": [
    "True in l   #if you want to check element is available inside the list or not"
   ]
  },
  {
   "cell_type": "code",
   "execution_count": 18,
   "id": "1667ceec",
   "metadata": {},
   "outputs": [
    {
     "data": {
      "text/plain": [
       "True"
      ]
     },
     "execution_count": 18,
     "metadata": {},
     "output_type": "execute_result"
    }
   ],
   "source": [
    "23 in l"
   ]
  },
  {
   "cell_type": "code",
   "execution_count": 19,
   "id": "97bfada1",
   "metadata": {},
   "outputs": [],
   "source": [
    "l = [23,43,4535,23243]"
   ]
  },
  {
   "cell_type": "code",
   "execution_count": 20,
   "id": "02b90b0a",
   "metadata": {},
   "outputs": [],
   "source": [
    "l.append(\"balodi\")   #if you want to append something end of the list "
   ]
  },
  {
   "cell_type": "code",
   "execution_count": 21,
   "id": "84926873",
   "metadata": {},
   "outputs": [
    {
     "data": {
      "text/plain": [
       "[23, 43, 4535, 23243, 'balodi']"
      ]
     },
     "execution_count": 21,
     "metadata": {},
     "output_type": "execute_result"
    }
   ],
   "source": [
    "l"
   ]
  },
  {
   "cell_type": "code",
   "execution_count": 22,
   "id": "b9959c36",
   "metadata": {},
   "outputs": [],
   "source": [
    "# if you want to append something in between of list then you have to use insert function\n",
    "# by the help of index you can append anything at any index place"
   ]
  },
  {
   "cell_type": "code",
   "execution_count": 23,
   "id": "3f2f921b",
   "metadata": {},
   "outputs": [
    {
     "data": {
      "text/plain": [
       "[23, 43, 4535, 23243, 'balodi']"
      ]
     },
     "execution_count": 23,
     "metadata": {},
     "output_type": "execute_result"
    }
   ],
   "source": [
    "l"
   ]
  },
  {
   "cell_type": "code",
   "execution_count": 24,
   "id": "a822689e",
   "metadata": {},
   "outputs": [],
   "source": [
    "l.insert(3,\"vivek\")"
   ]
  },
  {
   "cell_type": "code",
   "execution_count": 26,
   "id": "d01aa22f",
   "metadata": {},
   "outputs": [
    {
     "data": {
      "text/plain": [
       "[23, 43, 4535, 'vivek', 23243, 'balodi']"
      ]
     },
     "execution_count": 26,
     "metadata": {},
     "output_type": "execute_result"
    }
   ],
   "source": [
    "l   #here at 3rd index it append vivek"
   ]
  },
  {
   "cell_type": "code",
   "execution_count": 27,
   "id": "b8991893",
   "metadata": {},
   "outputs": [],
   "source": [
    "l.insert(-1,\"test\")"
   ]
  },
  {
   "cell_type": "code",
   "execution_count": 28,
   "id": "61d87351",
   "metadata": {},
   "outputs": [],
   "source": [
    "l.insert(-1,\"test\")"
   ]
  },
  {
   "cell_type": "code",
   "execution_count": 29,
   "id": "a7d40a46",
   "metadata": {},
   "outputs": [],
   "source": [
    "l.insert(0,\"test\")"
   ]
  },
  {
   "cell_type": "code",
   "execution_count": 30,
   "id": "b1c1e731",
   "metadata": {},
   "outputs": [
    {
     "data": {
      "text/plain": [
       "['test', 23, 43, 4535, 'vivek', 23243, 'test', 'test', 'balodi']"
      ]
     },
     "execution_count": 30,
     "metadata": {},
     "output_type": "execute_result"
    }
   ],
   "source": [
    "l"
   ]
  },
  {
   "cell_type": "code",
   "execution_count": 31,
   "id": "d8005bad",
   "metadata": {},
   "outputs": [
    {
     "data": {
      "text/plain": [
       "3"
      ]
     },
     "execution_count": 31,
     "metadata": {},
     "output_type": "execute_result"
    }
   ],
   "source": [
    "l.count(\"test\")    #count function will you to count the element inside the list"
   ]
  },
  {
   "cell_type": "code",
   "execution_count": 32,
   "id": "7f214ed6",
   "metadata": {},
   "outputs": [],
   "source": [
    " l = [1,2,3,4]"
   ]
  },
  {
   "cell_type": "code",
   "execution_count": 33,
   "id": "42718ddb",
   "metadata": {},
   "outputs": [
    {
     "data": {
      "text/plain": [
       "[1, 2, 3, 4]"
      ]
     },
     "execution_count": 33,
     "metadata": {},
     "output_type": "execute_result"
    }
   ],
   "source": [
    "l"
   ]
  },
  {
   "cell_type": "code",
   "execution_count": null,
   "id": "b6467d70",
   "metadata": {},
   "outputs": [],
   "source": [
    "#there is a difference between append and extend function"
   ]
  },
  {
   "cell_type": "code",
   "execution_count": 34,
   "id": "6f5d0b7e",
   "metadata": {},
   "outputs": [],
   "source": [
    "l.append(\"vivek\")"
   ]
  },
  {
   "cell_type": "code",
   "execution_count": 35,
   "id": "4423b070",
   "metadata": {},
   "outputs": [
    {
     "data": {
      "text/plain": [
       "[1, 2, 3, 4, 'vivek']"
      ]
     },
     "execution_count": 35,
     "metadata": {},
     "output_type": "execute_result"
    }
   ],
   "source": [
    "l"
   ]
  },
  {
   "cell_type": "code",
   "execution_count": 36,
   "id": "8e2234cb",
   "metadata": {},
   "outputs": [],
   "source": [
    "l.extend(\"vivek\")"
   ]
  },
  {
   "cell_type": "code",
   "execution_count": 37,
   "id": "000b3145",
   "metadata": {},
   "outputs": [
    {
     "data": {
      "text/plain": [
       "[1, 2, 3, 4, 'vivek', 'v', 'i', 'v', 'e', 'k']"
      ]
     },
     "execution_count": 37,
     "metadata": {},
     "output_type": "execute_result"
    }
   ],
   "source": [
    "l"
   ]
  },
  {
   "cell_type": "code",
   "execution_count": 39,
   "id": "2cb0725e",
   "metadata": {},
   "outputs": [
    {
     "data": {
      "text/plain": [
       "['t', 'e', 's', 't']"
      ]
     },
     "execution_count": 39,
     "metadata": {},
     "output_type": "execute_result"
    }
   ],
   "source": [
    "s=\"test\"   #something this code is doing as extend \n",
    "list(s)"
   ]
  },
  {
   "cell_type": "code",
   "execution_count": 41,
   "id": "9c3d1a7e",
   "metadata": {},
   "outputs": [
    {
     "ename": "TypeError",
     "evalue": "'int' object is not iterable",
     "output_type": "error",
     "traceback": [
      "\u001b[1;31m---------------------------------------------------------------------------\u001b[0m",
      "\u001b[1;31mTypeError\u001b[0m                                 Traceback (most recent call last)",
      "\u001b[1;32mC:\\Users\\VIVEKB~1\\AppData\\Local\\Temp/ipykernel_15040/3219959721.py\u001b[0m in \u001b[0;36m<module>\u001b[1;34m\u001b[0m\n\u001b[1;32m----> 1\u001b[1;33m \u001b[0ml\u001b[0m\u001b[1;33m.\u001b[0m\u001b[0mextend\u001b[0m\u001b[1;33m(\u001b[0m\u001b[1;36m45\u001b[0m\u001b[1;33m)\u001b[0m\u001b[1;33m\u001b[0m\u001b[1;33m\u001b[0m\u001b[0m\n\u001b[0m",
      "\u001b[1;31mTypeError\u001b[0m: 'int' object is not iterable"
     ]
    }
   ],
   "source": [
    "l.extend(45)  #extend is always add iterable object but in append you can add any kind of object"
   ]
  },
  {
   "cell_type": "code",
   "execution_count": 4,
   "id": "31e9ae84",
   "metadata": {},
   "outputs": [],
   "source": [
    "l=[23,23,345]"
   ]
  },
  {
   "cell_type": "code",
   "execution_count": 5,
   "id": "80e0a4a7",
   "metadata": {},
   "outputs": [],
   "source": [
    "l.extend([1,2,3234])  #it will merge the list"
   ]
  },
  {
   "cell_type": "code",
   "execution_count": 6,
   "id": "f1b263eb",
   "metadata": {},
   "outputs": [
    {
     "data": {
      "text/plain": [
       "[23, 23, 345, 1, 2, 3234]"
      ]
     },
     "execution_count": 6,
     "metadata": {},
     "output_type": "execute_result"
    }
   ],
   "source": [
    "l"
   ]
  },
  {
   "cell_type": "code",
   "execution_count": 8,
   "id": "95742c90",
   "metadata": {},
   "outputs": [],
   "source": [
    "l.append([1212,5454]) #append and extend both will add object at the end, append here will add list as it is"
   ]
  },
  {
   "cell_type": "code",
   "execution_count": 9,
   "id": "062b3009",
   "metadata": {},
   "outputs": [
    {
     "data": {
      "text/plain": [
       "[23, 23, 345, 1, 2, 3234, [1212, 5454], [1212, 5454]]"
      ]
     },
     "execution_count": 9,
     "metadata": {},
     "output_type": "execute_result"
    }
   ],
   "source": [
    "l"
   ]
  },
  {
   "cell_type": "code",
   "execution_count": 17,
   "id": "13b8031c",
   "metadata": {},
   "outputs": [],
   "source": [
    "l = [1,2,23,23,4]"
   ]
  },
  {
   "cell_type": "code",
   "execution_count": 11,
   "id": "6332ab55",
   "metadata": {},
   "outputs": [
    {
     "data": {
      "text/plain": [
       "4"
      ]
     },
     "execution_count": 11,
     "metadata": {},
     "output_type": "execute_result"
    }
   ],
   "source": [
    "l.pop()  #by default pop will return the last index, and remove the index"
   ]
  },
  {
   "cell_type": "code",
   "execution_count": 18,
   "id": "31943a2d",
   "metadata": {},
   "outputs": [
    {
     "data": {
      "text/plain": [
       "[1, 2, 23, 23, 4]"
      ]
     },
     "execution_count": 18,
     "metadata": {},
     "output_type": "execute_result"
    }
   ],
   "source": [
    "l"
   ]
  },
  {
   "cell_type": "code",
   "execution_count": 19,
   "id": "c509b29b",
   "metadata": {},
   "outputs": [
    {
     "data": {
      "text/plain": [
       "1"
      ]
     },
     "execution_count": 19,
     "metadata": {},
     "output_type": "execute_result"
    }
   ],
   "source": [
    "l.pop(0) #it will remove index from 0 index, here it will remove 1"
   ]
  },
  {
   "cell_type": "code",
   "execution_count": 20,
   "id": "09ab5da7",
   "metadata": {},
   "outputs": [
    {
     "data": {
      "text/plain": [
       "[2, 23, 23, 4]"
      ]
     },
     "execution_count": 20,
     "metadata": {},
     "output_type": "execute_result"
    }
   ],
   "source": [
    "l"
   ]
  },
  {
   "cell_type": "code",
   "execution_count": 21,
   "id": "644b8a22",
   "metadata": {},
   "outputs": [],
   "source": [
    "l = [1,24,5,6,134,6,6,123,6] "
   ]
  },
  {
   "cell_type": "code",
   "execution_count": 24,
   "id": "2c97443f",
   "metadata": {},
   "outputs": [],
   "source": [
    "l.remove(6)   #this will remove 6 from the veryfirst index and will keep repeating until the last 6 has been removed"
   ]
  },
  {
   "cell_type": "code",
   "execution_count": 23,
   "id": "29427c38",
   "metadata": {},
   "outputs": [
    {
     "data": {
      "text/plain": [
       "[1, 24, 5, 134, 6, 6, 123, 6]"
      ]
     },
     "execution_count": 23,
     "metadata": {},
     "output_type": "execute_result"
    }
   ],
   "source": [
    "l"
   ]
  },
  {
   "cell_type": "code",
   "execution_count": 25,
   "id": "138cb1c5",
   "metadata": {},
   "outputs": [
    {
     "data": {
      "text/plain": [
       "[1, 24, 5, 134, 6, 123, 6]"
      ]
     },
     "execution_count": 25,
     "metadata": {},
     "output_type": "execute_result"
    }
   ],
   "source": [
    "l"
   ]
  },
  {
   "cell_type": "code",
   "execution_count": 26,
   "id": "470fbf2d",
   "metadata": {},
   "outputs": [],
   "source": [
    "# pop and index both is used to remove data, pop will remove base on the indexes and remove will data base on the data item"
   ]
  },
  {
   "cell_type": "code",
   "execution_count": null,
   "id": "63c85abb",
   "metadata": {},
   "outputs": [],
   "source": []
  },
  {
   "cell_type": "code",
   "execution_count": null,
   "id": "ed2e154a",
   "metadata": {},
   "outputs": [],
   "source": []
  },
  {
   "cell_type": "code",
   "execution_count": null,
   "id": "48a2527b",
   "metadata": {},
   "outputs": [],
   "source": []
  },
  {
   "cell_type": "code",
   "execution_count": null,
   "id": "42dd1002",
   "metadata": {},
   "outputs": [],
   "source": []
  }
 ],
 "metadata": {
  "kernelspec": {
   "display_name": "Python 3 (ipykernel)",
   "language": "python",
   "name": "python3"
  },
  "language_info": {
   "codemirror_mode": {
    "name": "ipython",
    "version": 3
   },
   "file_extension": ".py",
   "mimetype": "text/x-python",
   "name": "python",
   "nbconvert_exporter": "python",
   "pygments_lexer": "ipython3",
   "version": "3.9.7"
  }
 },
 "nbformat": 4,
 "nbformat_minor": 5
}
