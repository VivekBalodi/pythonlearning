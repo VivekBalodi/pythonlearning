{
 "cells": [
  {
   "cell_type": "code",
   "execution_count": 1,
   "id": "65f81047",
   "metadata": {},
   "outputs": [],
   "source": [
    "l = [\"vivek\", 23,23,5,535, [\"balodi\", 22,551,12,], \"hello\"]"
   ]
  },
  {
   "cell_type": "code",
   "execution_count": 2,
   "id": "ac4255d8",
   "metadata": {},
   "outputs": [
    {
     "name": "stdout",
     "output_type": "stream",
     "text": [
      "vivek\n",
      "23\n",
      "23\n",
      "5\n",
      "535\n",
      "['balodi', 22, 551, 12]\n",
      "hello\n"
     ]
    }
   ],
   "source": [
    "for i in l:\n",
    "    print(i)"
   ]
  },
  {
   "cell_type": "code",
   "execution_count": 3,
   "id": "da14c726",
   "metadata": {},
   "outputs": [],
   "source": [
    "# list is always store the data in the form of indexes "
   ]
  },
  {
   "cell_type": "code",
   "execution_count": 4,
   "id": "cbae1373",
   "metadata": {},
   "outputs": [
    {
     "data": {
      "text/plain": [
       "'vivek'"
      ]
     },
     "execution_count": 4,
     "metadata": {},
     "output_type": "execute_result"
    }
   ],
   "source": [
    "l[0]"
   ]
  },
  {
   "cell_type": "code",
   "execution_count": 5,
   "id": "167f91ac",
   "metadata": {},
   "outputs": [
    {
     "data": {
      "text/plain": [
       "['hello', ['balodi', 22, 551, 12], 535, 5, 23, 23, 'vivek']"
      ]
     },
     "execution_count": 5,
     "metadata": {},
     "output_type": "execute_result"
    }
   ],
   "source": [
    "l[::-1]"
   ]
  },
  {
   "cell_type": "code",
   "execution_count": 6,
   "id": "c4b6eeb5",
   "metadata": {},
   "outputs": [],
   "source": [
    "# if you want to print only list form this list"
   ]
  },
  {
   "cell_type": "code",
   "execution_count": 8,
   "id": "fbc53d40",
   "metadata": {},
   "outputs": [
    {
     "name": "stdout",
     "output_type": "stream",
     "text": [
      "this is not a list vivek\n",
      "this is not a list 23\n",
      "this is not a list 23\n",
      "this is not a list 5\n",
      "this is not a list 535\n",
      "this is list ['balodi', 22, 551, 12]\n",
      "this is not a list hello\n"
     ]
    }
   ],
   "source": [
    "for i in l:\n",
    "    if type(i)==list:\n",
    "        print(\"this is list\", i)\n",
    "    else:\n",
    "        print(\"this is not a list\", i)\n",
    "    "
   ]
  },
  {
   "cell_type": "code",
   "execution_count": 9,
   "id": "5777a128",
   "metadata": {},
   "outputs": [
    {
     "data": {
      "text/plain": [
       "['vivek', 23, 23, 5, 535, ['balodi', 22, 551, 12], 'hello']"
      ]
     },
     "execution_count": 9,
     "metadata": {},
     "output_type": "execute_result"
    }
   ],
   "source": [
    "l"
   ]
  },
  {
   "cell_type": "code",
   "execution_count": 10,
   "id": "ddad3eed",
   "metadata": {},
   "outputs": [],
   "source": [
    "l1 = [\"balodi\", 2521,454,]"
   ]
  },
  {
   "cell_type": "code",
   "execution_count": 12,
   "id": "99a2ef70",
   "metadata": {},
   "outputs": [
    {
     "data": {
      "text/plain": [
       "['vivek',\n",
       " 23,\n",
       " 23,\n",
       " 5,\n",
       " 535,\n",
       " ['balodi', 22, 551, 12],\n",
       " 'hello',\n",
       " 'balodi',\n",
       " 2521,\n",
       " 454]"
      ]
     },
     "execution_count": 12,
     "metadata": {},
     "output_type": "execute_result"
    }
   ],
   "source": [
    "l + l1"
   ]
  },
  {
   "cell_type": "code",
   "execution_count": 13,
   "id": "832f8f43",
   "metadata": {},
   "outputs": [
    {
     "data": {
      "text/plain": [
       "['vivek',\n",
       " 23,\n",
       " 23,\n",
       " 5,\n",
       " 535,\n",
       " ['balodi', 22, 551, 12],\n",
       " 'hello',\n",
       " 'vivek',\n",
       " 23,\n",
       " 23,\n",
       " 5,\n",
       " 535,\n",
       " ['balodi', 22, 551, 12],\n",
       " 'hello']"
      ]
     },
     "execution_count": 13,
     "metadata": {},
     "output_type": "execute_result"
    }
   ],
   "source": [
    "l*2"
   ]
  },
  {
   "cell_type": "code",
   "execution_count": 14,
   "id": "9e698ac3",
   "metadata": {},
   "outputs": [
    {
     "data": {
      "text/plain": [
       "7"
      ]
     },
     "execution_count": 14,
     "metadata": {},
     "output_type": "execute_result"
    }
   ],
   "source": [
    "len(l)"
   ]
  },
  {
   "cell_type": "code",
   "execution_count": 16,
   "id": "02407b8b",
   "metadata": {},
   "outputs": [
    {
     "data": {
      "text/plain": [
       "False"
      ]
     },
     "execution_count": 16,
     "metadata": {},
     "output_type": "execute_result"
    }
   ],
   "source": [
    "True in l   #if you want to check element is available inside the list or not"
   ]
  },
  {
   "cell_type": "code",
   "execution_count": 18,
   "id": "09402b10",
   "metadata": {},
   "outputs": [
    {
     "data": {
      "text/plain": [
       "True"
      ]
     },
     "execution_count": 18,
     "metadata": {},
     "output_type": "execute_result"
    }
   ],
   "source": [
    "23 in l"
   ]
  },
  {
   "cell_type": "code",
   "execution_count": null,
   "id": "4553522f",
   "metadata": {},
   "outputs": [],
   "source": []
  }
 ],
 "metadata": {
  "kernelspec": {
   "display_name": "Python 3 (ipykernel)",
   "language": "python",
   "name": "python3"
  },
  "language_info": {
   "codemirror_mode": {
    "name": "ipython",
    "version": 3
   },
   "file_extension": ".py",
   "mimetype": "text/x-python",
   "name": "python",
   "nbconvert_exporter": "python",
   "pygments_lexer": "ipython3",
   "version": "3.9.7"
  }
 },
 "nbformat": 4,
 "nbformat_minor": 5
}
